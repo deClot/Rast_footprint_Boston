{
 "cells": [
  {
   "cell_type": "code",
   "execution_count": 1,
   "metadata": {
    "colab": {},
    "colab_type": "code",
    "id": "aoURzhdL_7TF"
   },
   "outputs": [],
   "source": [
    "import geopandas as gpd # Для парсинга карты\n",
    "import pandas as pd\n",
    "import numpy as np\n",
    "# import cudf\n",
    "\n",
    "import matplotlib.pyplot as plt # Для отрисовки\n",
    "from tqdm import tqdm\n",
    "\n",
    "import warnings\n",
    "warnings.filterwarnings('ignore')\n",
    "\n",
    "import IPython\n",
    "def display(*dfs):\n",
    "    for df in dfs:\n",
    "        IPython.display.display(df)"
   ]
  },
  {
   "cell_type": "code",
   "execution_count": 2,
   "metadata": {},
   "outputs": [],
   "source": [
    "# # import pickle\n",
    "# # t = pickle.load(open('df_ini.pkl', 'br'))\n",
    "# t.shape"
   ]
  },
  {
   "cell_type": "code",
   "execution_count": 3,
   "metadata": {
    "colab": {},
    "colab_type": "code",
    "id": "2l-h_p7d_-bf"
   },
   "outputs": [],
   "source": [
    "# DATASET_FOLDER = 'drive/My Drive/dataset'\n",
    "# MAPS_FOLDER = f'{DATASET_FOLDER}/maps'\n",
    "\n",
    "MAPS_FOLDER = './boston_dataset_ini'"
   ]
  },
  {
   "cell_type": "code",
   "execution_count": 4,
   "metadata": {
    "colab": {
     "base_uri": "https://localhost:8080/",
     "height": 581
    },
    "colab_type": "code",
    "id": "h3BMEjwWAVtB",
    "outputId": "4d65f0c8-78ab-4b8a-d43e-0f9fd0b676f5"
   },
   "outputs": [
    {
     "name": "stdout",
     "output_type": "stream",
     "text": [
      "(129370, 29)\n"
     ]
    },
    {
     "data": {
      "text/html": [
       "<div>\n",
       "<style scoped>\n",
       "    .dataframe tbody tr th:only-of-type {\n",
       "        vertical-align: middle;\n",
       "    }\n",
       "\n",
       "    .dataframe tbody tr th {\n",
       "        vertical-align: top;\n",
       "    }\n",
       "\n",
       "    .dataframe thead th {\n",
       "        text-align: right;\n",
       "    }\n",
       "</style>\n",
       "<table border=\"1\" class=\"dataframe\">\n",
       "  <thead>\n",
       "    <tr style=\"text-align: right;\">\n",
       "      <th></th>\n",
       "      <th>BUILDING_I</th>\n",
       "      <th>PARCEL_ID</th>\n",
       "      <th>ADDRESS_ID</th>\n",
       "      <th>PART_ADDRE</th>\n",
       "      <th>PART_ID</th>\n",
       "      <th>PART_USE</th>\n",
       "      <th>PART_BRA_U</th>\n",
       "      <th>PART_CONTA</th>\n",
       "      <th>PART_STATU</th>\n",
       "      <th>PART_VIEW</th>\n",
       "      <th>...</th>\n",
       "      <th>BUILDING_H</th>\n",
       "      <th>IEL_TYPE</th>\n",
       "      <th>BASE_ELEVA</th>\n",
       "      <th>ELEVATION_</th>\n",
       "      <th>TOP_SEA_LE</th>\n",
       "      <th>ELEVATION1</th>\n",
       "      <th>TOP_GROUND</th>\n",
       "      <th>Shape_area</th>\n",
       "      <th>Shape_len</th>\n",
       "      <th>geometry</th>\n",
       "    </tr>\n",
       "  </thead>\n",
       "  <tbody>\n",
       "    <tr>\n",
       "      <th>0</th>\n",
       "      <td>Bos_2205632000_B0</td>\n",
       "      <td>2205632000</td>\n",
       "      <td>2205632000_A0</td>\n",
       "      <td>68 KENRICK ST, 02135</td>\n",
       "      <td>Bos_2205632000_B0_M0</td>\n",
       "      <td>R1</td>\n",
       "      <td>R1</td>\n",
       "      <td>MCNAMARA ROBERT O</td>\n",
       "      <td>BUILT</td>\n",
       "      <td>PUBLIC</td>\n",
       "      <td>...</td>\n",
       "      <td>16.890698</td>\n",
       "      <td>BLDG</td>\n",
       "      <td>55.365665</td>\n",
       "      <td>70.138047</td>\n",
       "      <td>74.846878</td>\n",
       "      <td>14.772382</td>\n",
       "      <td>19.481212</td>\n",
       "      <td>1161.397293</td>\n",
       "      <td>149.394841</td>\n",
       "      <td>POLYGON Z ((746591.271 2951419.399 69.207, 746...</td>\n",
       "    </tr>\n",
       "    <tr>\n",
       "      <th>1</th>\n",
       "      <td>Bos_2102861000_B1</td>\n",
       "      <td>2102861000</td>\n",
       "      <td>2102861000_A0</td>\n",
       "      <td>53 CHESTNUT HILL AV, 02135</td>\n",
       "      <td>Bos_2102861000_B1_M0</td>\n",
       "      <td>R2</td>\n",
       "      <td>R2</td>\n",
       "      <td>CUNNINGHAM JOHN J</td>\n",
       "      <td>BUILT</td>\n",
       "      <td>PUBLIC</td>\n",
       "      <td>...</td>\n",
       "      <td>36.756003</td>\n",
       "      <td>BLDG</td>\n",
       "      <td>129.925217</td>\n",
       "      <td>137.779148</td>\n",
       "      <td>146.070301</td>\n",
       "      <td>7.853931</td>\n",
       "      <td>16.145084</td>\n",
       "      <td>549.002100</td>\n",
       "      <td>96.663101</td>\n",
       "      <td>POLYGON Z ((749810.012 2951406.252 137.778, 74...</td>\n",
       "    </tr>\n",
       "    <tr>\n",
       "      <th>2</th>\n",
       "      <td>Bos_2204921000_B0</td>\n",
       "      <td>2204921000</td>\n",
       "      <td>2204921000_A0</td>\n",
       "      <td>97 ACADEMY HILL RD, 02135</td>\n",
       "      <td>Bos_2204921000_B0_M0</td>\n",
       "      <td>R2</td>\n",
       "      <td>R2</td>\n",
       "      <td>KEEFE EDWARD J</td>\n",
       "      <td>BUILT</td>\n",
       "      <td>PUBLIC</td>\n",
       "      <td>...</td>\n",
       "      <td>21.713000</td>\n",
       "      <td>BLDG</td>\n",
       "      <td>162.142441</td>\n",
       "      <td>184.654210</td>\n",
       "      <td>190.966186</td>\n",
       "      <td>22.511769</td>\n",
       "      <td>28.823745</td>\n",
       "      <td>1456.043245</td>\n",
       "      <td>181.859296</td>\n",
       "      <td>POLYGON Z ((749458.573 2951325.510 175.721, 74...</td>\n",
       "    </tr>\n",
       "    <tr>\n",
       "      <th>3</th>\n",
       "      <td>Bos_2102862000_B1</td>\n",
       "      <td>2102862000</td>\n",
       "      <td>2102862000_A0</td>\n",
       "      <td>55 CHESTNUT HILL AV, 02135</td>\n",
       "      <td>Bos_2102862000_B1_M0</td>\n",
       "      <td>R3</td>\n",
       "      <td>R3</td>\n",
       "      <td>CUNNINGHAM JOHN J</td>\n",
       "      <td>BUILT</td>\n",
       "      <td>PUBLIC</td>\n",
       "      <td>...</td>\n",
       "      <td>22.761005</td>\n",
       "      <td>BLDG</td>\n",
       "      <td>131.035858</td>\n",
       "      <td>152.578506</td>\n",
       "      <td>161.123235</td>\n",
       "      <td>21.542647</td>\n",
       "      <td>30.087377</td>\n",
       "      <td>982.054372</td>\n",
       "      <td>135.393057</td>\n",
       "      <td>POLYGON Z ((749791.436 2951364.987 144.628, 74...</td>\n",
       "    </tr>\n",
       "    <tr>\n",
       "      <th>4</th>\n",
       "      <td>Bos_2102870000_B0</td>\n",
       "      <td>2102870000</td>\n",
       "      <td>2102870000_A0</td>\n",
       "      <td>15 WM JACKSON AV, 02135</td>\n",
       "      <td>Bos_2102870000_B0_M0</td>\n",
       "      <td>R1</td>\n",
       "      <td>R1</td>\n",
       "      <td>YUNG JIN P</td>\n",
       "      <td>BUILT</td>\n",
       "      <td>PUBLIC</td>\n",
       "      <td>...</td>\n",
       "      <td>20.348997</td>\n",
       "      <td>BLDG</td>\n",
       "      <td>170.059418</td>\n",
       "      <td>184.541181</td>\n",
       "      <td>196.525357</td>\n",
       "      <td>14.481763</td>\n",
       "      <td>26.465939</td>\n",
       "      <td>1167.143115</td>\n",
       "      <td>149.400957</td>\n",
       "      <td>POLYGON Z ((749737.548 2951033.339 183.535, 74...</td>\n",
       "    </tr>\n",
       "  </tbody>\n",
       "</table>\n",
       "<p>5 rows × 29 columns</p>\n",
       "</div>"
      ],
      "text/plain": [
       "          BUILDING_I   PARCEL_ID     ADDRESS_ID                  PART_ADDRE  \\\n",
       "0  Bos_2205632000_B0  2205632000  2205632000_A0        68 KENRICK ST, 02135   \n",
       "1  Bos_2102861000_B1  2102861000  2102861000_A0  53 CHESTNUT HILL AV, 02135   \n",
       "2  Bos_2204921000_B0  2204921000  2204921000_A0   97 ACADEMY HILL RD, 02135   \n",
       "3  Bos_2102862000_B1  2102862000  2102862000_A0  55 CHESTNUT HILL AV, 02135   \n",
       "4  Bos_2102870000_B0  2102870000  2102870000_A0     15 WM JACKSON AV, 02135   \n",
       "\n",
       "                PART_ID PART_USE PART_BRA_U         PART_CONTA PART_STATU  \\\n",
       "0  Bos_2205632000_B0_M0       R1         R1  MCNAMARA ROBERT O      BUILT   \n",
       "1  Bos_2102861000_B1_M0       R2         R2  CUNNINGHAM JOHN J      BUILT   \n",
       "2  Bos_2204921000_B0_M0       R2         R2     KEEFE EDWARD J      BUILT   \n",
       "3  Bos_2102862000_B1_M0       R3         R3  CUNNINGHAM JOHN J      BUILT   \n",
       "4  Bos_2102870000_B0_M0       R1         R1         YUNG JIN P      BUILT   \n",
       "\n",
       "  PART_VIEW  ...  BUILDING_H  IEL_TYPE  BASE_ELEVA  ELEVATION_  TOP_SEA_LE  \\\n",
       "0    PUBLIC  ...   16.890698      BLDG   55.365665   70.138047   74.846878   \n",
       "1    PUBLIC  ...   36.756003      BLDG  129.925217  137.779148  146.070301   \n",
       "2    PUBLIC  ...   21.713000      BLDG  162.142441  184.654210  190.966186   \n",
       "3    PUBLIC  ...   22.761005      BLDG  131.035858  152.578506  161.123235   \n",
       "4    PUBLIC  ...   20.348997      BLDG  170.059418  184.541181  196.525357   \n",
       "\n",
       "   ELEVATION1  TOP_GROUND   Shape_area   Shape_len  \\\n",
       "0   14.772382   19.481212  1161.397293  149.394841   \n",
       "1    7.853931   16.145084   549.002100   96.663101   \n",
       "2   22.511769   28.823745  1456.043245  181.859296   \n",
       "3   21.542647   30.087377   982.054372  135.393057   \n",
       "4   14.481763   26.465939  1167.143115  149.400957   \n",
       "\n",
       "                                            geometry  \n",
       "0  POLYGON Z ((746591.271 2951419.399 69.207, 746...  \n",
       "1  POLYGON Z ((749810.012 2951406.252 137.778, 74...  \n",
       "2  POLYGON Z ((749458.573 2951325.510 175.721, 74...  \n",
       "3  POLYGON Z ((749791.436 2951364.987 144.628, 74...  \n",
       "4  POLYGON Z ((749737.548 2951033.339 183.535, 74...  \n",
       "\n",
       "[5 rows x 29 columns]"
      ]
     },
     "execution_count": 4,
     "metadata": {},
     "output_type": "execute_result"
    }
   ],
   "source": [
    "# builds = gpd.read_file(f'{MAPS_FOLDER}/building/boston_buildings.shp')\n",
    "builds = gpd.read_file(f'{MAPS_FOLDER}/building/boston_buildings.shp')\n",
    "print(builds.shape)\n",
    "builds.head()"
   ]
  },
  {
   "cell_type": "code",
   "execution_count": 5,
   "metadata": {
    "colab": {},
    "colab_type": "code",
    "id": "orWZVLjBKazQ"
   },
   "outputs": [],
   "source": [
    "# Пропуски в участках\n",
    "builds = builds[builds.PARCEL_ID.notna()]\n",
    "# Выбрасываем участки с количеством домов больше 1 (17 from 130 *10^3)\n",
    "buildings_ids = builds.PARCEL_ID.value_counts()[builds.PARCEL_ID.value_counts() > 1].index\n",
    "builds = builds[~builds.PARCEL_ID.isin(buildings_ids)]\n",
    "# Выбрасываем дважды зарегестрированные дома\n",
    "buildings_ids = builds.BUILDING_I.value_counts()[builds.BUILDING_I.value_counts()>1].index\n",
    "builds = builds[~builds.BUILDING_I.isin(buildings_ids)]\n",
    "# Убираем пропуски в форме здания  и в типе здания\n",
    "builds = builds[builds.geometry.notna()]\n",
    "builds = builds[builds.PART_STATU.notna()]\n",
    "# Количество уникальных участков совпадает с количеством наблюдений\n",
    "assert builds.PARCEL_ID.nunique() == builds.shape[0]"
   ]
  },
  {
   "cell_type": "code",
   "execution_count": 6,
   "metadata": {
    "colab": {
     "base_uri": "https://localhost:8080/",
     "height": 289
    },
    "colab_type": "code",
    "id": "eJdeQhAFEo3m",
    "outputId": "5bae249f-71e8-4eec-833e-809abf91c0b5"
   },
   "outputs": [
    {
     "data": {
      "text/html": [
       "<div>\n",
       "<style scoped>\n",
       "    .dataframe tbody tr th:only-of-type {\n",
       "        vertical-align: middle;\n",
       "    }\n",
       "\n",
       "    .dataframe tbody tr th {\n",
       "        vertical-align: top;\n",
       "    }\n",
       "\n",
       "    .dataframe thead th {\n",
       "        text-align: right;\n",
       "    }\n",
       "</style>\n",
       "<table border=\"1\" class=\"dataframe\">\n",
       "  <thead>\n",
       "    <tr style=\"text-align: right;\">\n",
       "      <th></th>\n",
       "      <th>WARD</th>\n",
       "      <th>PARCEL</th>\n",
       "      <th>PID_LONG</th>\n",
       "      <th>WPD</th>\n",
       "      <th>BATCH</th>\n",
       "      <th>SHAPE_area</th>\n",
       "      <th>SHAPE_len</th>\n",
       "      <th>geometry</th>\n",
       "    </tr>\n",
       "  </thead>\n",
       "  <tbody>\n",
       "    <tr>\n",
       "      <th>0</th>\n",
       "      <td>14</td>\n",
       "      <td>2056</td>\n",
       "      <td>1402056000</td>\n",
       "      <td>14-02-105</td>\n",
       "      <td>0</td>\n",
       "      <td>5757.493630</td>\n",
       "      <td>315.033758</td>\n",
       "      <td>POLYGON ((769130.915 2932963.653, 769077.636 2...</td>\n",
       "    </tr>\n",
       "    <tr>\n",
       "      <th>1</th>\n",
       "      <td>14</td>\n",
       "      <td>2062</td>\n",
       "      <td>1402062000</td>\n",
       "      <td>14-02-105</td>\n",
       "      <td>0</td>\n",
       "      <td>15992.697124</td>\n",
       "      <td>504.383439</td>\n",
       "      <td>POLYGON ((768725.435 2932877.770, 768724.966 2...</td>\n",
       "    </tr>\n",
       "    <tr>\n",
       "      <th>2</th>\n",
       "      <td>14</td>\n",
       "      <td>2031</td>\n",
       "      <td>1402031000</td>\n",
       "      <td>14-02-105</td>\n",
       "      <td>0</td>\n",
       "      <td>6848.300234</td>\n",
       "      <td>374.282334</td>\n",
       "      <td>POLYGON ((768817.544 2933017.601, 768791.533 2...</td>\n",
       "    </tr>\n",
       "    <tr>\n",
       "      <th>3</th>\n",
       "      <td>20</td>\n",
       "      <td>11758-10</td>\n",
       "      <td>2011758010</td>\n",
       "      <td>20-03-011</td>\n",
       "      <td>0</td>\n",
       "      <td>13714.523754</td>\n",
       "      <td>504.092976</td>\n",
       "      <td>POLYGON ((749271.802 2918978.927, 749392.524 2...</td>\n",
       "    </tr>\n",
       "    <tr>\n",
       "      <th>4</th>\n",
       "      <td>20</td>\n",
       "      <td>11760</td>\n",
       "      <td>2011760000</td>\n",
       "      <td>20-03-011</td>\n",
       "      <td>0</td>\n",
       "      <td>14186.845679</td>\n",
       "      <td>500.495781</td>\n",
       "      <td>POLYGON ((749411.968 2919142.915, 749259.493 2...</td>\n",
       "    </tr>\n",
       "  </tbody>\n",
       "</table>\n",
       "</div>"
      ],
      "text/plain": [
       "   WARD    PARCEL    PID_LONG        WPD  BATCH    SHAPE_area   SHAPE_len  \\\n",
       "0    14      2056  1402056000  14-02-105      0   5757.493630  315.033758   \n",
       "1    14      2062  1402062000  14-02-105      0  15992.697124  504.383439   \n",
       "2    14      2031  1402031000  14-02-105      0   6848.300234  374.282334   \n",
       "3    20  11758-10  2011758010  20-03-011      0  13714.523754  504.092976   \n",
       "4    20     11760  2011760000  20-03-011      0  14186.845679  500.495781   \n",
       "\n",
       "                                            geometry  \n",
       "0  POLYGON ((769130.915 2932963.653, 769077.636 2...  \n",
       "1  POLYGON ((768725.435 2932877.770, 768724.966 2...  \n",
       "2  POLYGON ((768817.544 2933017.601, 768791.533 2...  \n",
       "3  POLYGON ((749271.802 2918978.927, 749392.524 2...  \n",
       "4  POLYGON ((749411.968 2919142.915, 749259.493 2...  "
      ]
     },
     "execution_count": 6,
     "metadata": {},
     "output_type": "execute_result"
    }
   ],
   "source": [
    "places = gpd.read_file(f'{MAPS_FOLDER}/parcels/parcels_14.shp')\n",
    "places.head()"
   ]
  },
  {
   "cell_type": "code",
   "execution_count": 7,
   "metadata": {
    "colab": {},
    "colab_type": "code",
    "id": "jcfci6GwEXQL"
   },
   "outputs": [],
   "source": [
    "# Участи, зарегестрированные более 1 раза\n",
    "place_ids = places.PID_LONG.value_counts()[places.PID_LONG.value_counts() >1].index\n",
    "places = places[~places.PID_LONG.isin(place_ids)]\n",
    "# Участки с пропусками\n",
    "places = places[places.PID_LONG.notna()]\n",
    "# Количество уникальных участков совпадает с количеством наблюдений\n",
    "assert places.shape[0] == places.PID_LONG.nunique()"
   ]
  },
  {
   "cell_type": "code",
   "execution_count": 8,
   "metadata": {
    "colab": {
     "base_uri": "https://localhost:8080/",
     "height": 34
    },
    "colab_type": "code",
    "id": "c0rXMBDSNx9l",
    "outputId": "6efacdd0-9530-4413-e488-0b38bb29858e"
   },
   "outputs": [
    {
     "data": {
      "text/plain": [
       "((71706, 29), (99241, 8))"
      ]
     },
     "execution_count": 8,
     "metadata": {},
     "output_type": "execute_result"
    }
   ],
   "source": [
    "builds.shape, places.shape"
   ]
  },
  {
   "cell_type": "code",
   "execution_count": 9,
   "metadata": {
    "colab": {
     "base_uri": "https://localhost:8080/",
     "height": 51
    },
    "colab_type": "code",
    "id": "fj1o4cPrBi6_",
    "outputId": "56322cac-f0c1-4008-c874-b4d99fa18202"
   },
   "outputs": [
    {
     "name": "stdout",
     "output_type": "stream",
     "text": [
      "(99241, 8) (71706, 29)\n",
      "buildings on places 71210\n"
     ]
    }
   ],
   "source": [
    "print(places.shape, builds.shape)\n",
    "print('buildings on places', builds.PARCEL_ID.isin(places.PID_LONG.unique()).sum())"
   ]
  },
  {
   "cell_type": "code",
   "execution_count": 10,
   "metadata": {
    "colab": {
     "base_uri": "https://localhost:8080/",
     "height": 479
    },
    "colab_type": "code",
    "id": "EBnqfhG5Dwrx",
    "outputId": "d80951b4-87dd-4c9e-fb62-1967ed38cfc2"
   },
   "outputs": [
    {
     "data": {
      "text/html": [
       "<div>\n",
       "<style scoped>\n",
       "    .dataframe tbody tr th:only-of-type {\n",
       "        vertical-align: middle;\n",
       "    }\n",
       "\n",
       "    .dataframe tbody tr th {\n",
       "        vertical-align: top;\n",
       "    }\n",
       "\n",
       "    .dataframe thead th {\n",
       "        text-align: right;\n",
       "    }\n",
       "</style>\n",
       "<table border=\"1\" class=\"dataframe\">\n",
       "  <thead>\n",
       "    <tr style=\"text-align: right;\">\n",
       "      <th></th>\n",
       "      <th>BUILDING_I</th>\n",
       "      <th>PARCEL_ID</th>\n",
       "      <th>ADDRESS_ID</th>\n",
       "      <th>PART_ADDRE</th>\n",
       "      <th>PART_ID</th>\n",
       "      <th>PART_USE</th>\n",
       "      <th>PART_BRA_U</th>\n",
       "      <th>PART_CONTA</th>\n",
       "      <th>PART_STATU</th>\n",
       "      <th>PART_VIEW</th>\n",
       "      <th>...</th>\n",
       "      <th>Shape_len</th>\n",
       "      <th>geometry_building</th>\n",
       "      <th>WARD</th>\n",
       "      <th>PARCEL</th>\n",
       "      <th>PID_LONG</th>\n",
       "      <th>WPD</th>\n",
       "      <th>BATCH</th>\n",
       "      <th>SHAPE_area</th>\n",
       "      <th>SHAPE_len</th>\n",
       "      <th>geometry_place</th>\n",
       "    </tr>\n",
       "  </thead>\n",
       "  <tbody>\n",
       "    <tr>\n",
       "      <th>0</th>\n",
       "      <td>Bos_2205632000_B0</td>\n",
       "      <td>2205632000</td>\n",
       "      <td>2205632000_A0</td>\n",
       "      <td>68 KENRICK ST, 02135</td>\n",
       "      <td>Bos_2205632000_B0_M0</td>\n",
       "      <td>R1</td>\n",
       "      <td>R1</td>\n",
       "      <td>MCNAMARA ROBERT O</td>\n",
       "      <td>BUILT</td>\n",
       "      <td>PUBLIC</td>\n",
       "      <td>...</td>\n",
       "      <td>149.394841</td>\n",
       "      <td>POLYGON Z ((746591.271 2951419.399 69.207, 746...</td>\n",
       "      <td>22</td>\n",
       "      <td>5632</td>\n",
       "      <td>2205632000</td>\n",
       "      <td>22-08-060</td>\n",
       "      <td>0</td>\n",
       "      <td>6147.989082</td>\n",
       "      <td>325.006781</td>\n",
       "      <td>POLYGON ((746621.759 2951435.076, 746611.102 2...</td>\n",
       "    </tr>\n",
       "    <tr>\n",
       "      <th>1</th>\n",
       "      <td>Bos_2204921000_B0</td>\n",
       "      <td>2204921000</td>\n",
       "      <td>2204921000_A0</td>\n",
       "      <td>97 ACADEMY HILL RD, 02135</td>\n",
       "      <td>Bos_2204921000_B0_M0</td>\n",
       "      <td>R2</td>\n",
       "      <td>R2</td>\n",
       "      <td>KEEFE EDWARD J</td>\n",
       "      <td>BUILT</td>\n",
       "      <td>PUBLIC</td>\n",
       "      <td>...</td>\n",
       "      <td>181.859296</td>\n",
       "      <td>POLYGON Z ((749458.573 2951325.510 175.721, 74...</td>\n",
       "      <td>22</td>\n",
       "      <td>4921</td>\n",
       "      <td>2204921000</td>\n",
       "      <td>22-09-020</td>\n",
       "      <td>0</td>\n",
       "      <td>8083.907188</td>\n",
       "      <td>362.749418</td>\n",
       "      <td>POLYGON ((749402.010 2951291.513, 749435.010 2...</td>\n",
       "    </tr>\n",
       "    <tr>\n",
       "      <th>2</th>\n",
       "      <td>Bos_2102870000_B0</td>\n",
       "      <td>2102870000</td>\n",
       "      <td>2102870000_A0</td>\n",
       "      <td>15 WM JACKSON AV, 02135</td>\n",
       "      <td>Bos_2102870000_B0_M0</td>\n",
       "      <td>R1</td>\n",
       "      <td>R1</td>\n",
       "      <td>YUNG JIN P</td>\n",
       "      <td>BUILT</td>\n",
       "      <td>PUBLIC</td>\n",
       "      <td>...</td>\n",
       "      <td>149.400957</td>\n",
       "      <td>POLYGON Z ((749737.548 2951033.339 183.535, 74...</td>\n",
       "      <td>21</td>\n",
       "      <td>2870</td>\n",
       "      <td>2102870000</td>\n",
       "      <td>21-13-005</td>\n",
       "      <td>0</td>\n",
       "      <td>4271.789581</td>\n",
       "      <td>421.615170</td>\n",
       "      <td>POLYGON ((749743.230 2950985.758, 749714.095 2...</td>\n",
       "    </tr>\n",
       "    <tr>\n",
       "      <th>3</th>\n",
       "      <td>Bos_2102857000_B0</td>\n",
       "      <td>2102857000</td>\n",
       "      <td>2102857000_A0</td>\n",
       "      <td>86 ACADEMY HILL RD, 02135</td>\n",
       "      <td>Bos_2102857000_B0_M0</td>\n",
       "      <td>R2</td>\n",
       "      <td>R2</td>\n",
       "      <td>JOE CAROL</td>\n",
       "      <td>BUILT</td>\n",
       "      <td>PUBLIC</td>\n",
       "      <td>...</td>\n",
       "      <td>184.331184</td>\n",
       "      <td>POLYGON Z ((749675.844 2951369.308 177.057, 74...</td>\n",
       "      <td>21</td>\n",
       "      <td>2857</td>\n",
       "      <td>2102857000</td>\n",
       "      <td>21-13-005</td>\n",
       "      <td>0</td>\n",
       "      <td>9911.996103</td>\n",
       "      <td>466.564661</td>\n",
       "      <td>POLYGON ((749750.445 2951355.464, 749741.850 2...</td>\n",
       "    </tr>\n",
       "    <tr>\n",
       "      <th>4</th>\n",
       "      <td>Bos_2102856000_B0</td>\n",
       "      <td>2102856000</td>\n",
       "      <td>2102856000_A0</td>\n",
       "      <td>90 ACADEMY HILL RD, 02135</td>\n",
       "      <td>Bos_2102856000_B0_M0</td>\n",
       "      <td>R2</td>\n",
       "      <td>R2</td>\n",
       "      <td>KRIZAN MAGDA</td>\n",
       "      <td>BUILT</td>\n",
       "      <td>PUBLIC</td>\n",
       "      <td>...</td>\n",
       "      <td>181.610025</td>\n",
       "      <td>POLYGON Z ((749656.610 2951320.949 183.698, 74...</td>\n",
       "      <td>21</td>\n",
       "      <td>2856</td>\n",
       "      <td>2102856000</td>\n",
       "      <td>21-13-005</td>\n",
       "      <td>0</td>\n",
       "      <td>7543.744282</td>\n",
       "      <td>434.782996</td>\n",
       "      <td>POLYGON ((749737.693 2951282.616, 749733.662 2...</td>\n",
       "    </tr>\n",
       "  </tbody>\n",
       "</table>\n",
       "<p>5 rows × 37 columns</p>\n",
       "</div>"
      ],
      "text/plain": [
       "          BUILDING_I   PARCEL_ID     ADDRESS_ID                 PART_ADDRE  \\\n",
       "0  Bos_2205632000_B0  2205632000  2205632000_A0       68 KENRICK ST, 02135   \n",
       "1  Bos_2204921000_B0  2204921000  2204921000_A0  97 ACADEMY HILL RD, 02135   \n",
       "2  Bos_2102870000_B0  2102870000  2102870000_A0    15 WM JACKSON AV, 02135   \n",
       "3  Bos_2102857000_B0  2102857000  2102857000_A0  86 ACADEMY HILL RD, 02135   \n",
       "4  Bos_2102856000_B0  2102856000  2102856000_A0  90 ACADEMY HILL RD, 02135   \n",
       "\n",
       "                PART_ID PART_USE PART_BRA_U         PART_CONTA PART_STATU  \\\n",
       "0  Bos_2205632000_B0_M0       R1         R1  MCNAMARA ROBERT O      BUILT   \n",
       "1  Bos_2204921000_B0_M0       R2         R2     KEEFE EDWARD J      BUILT   \n",
       "2  Bos_2102870000_B0_M0       R1         R1         YUNG JIN P      BUILT   \n",
       "3  Bos_2102857000_B0_M0       R2         R2          JOE CAROL      BUILT   \n",
       "4  Bos_2102856000_B0_M0       R2         R2       KRIZAN MAGDA      BUILT   \n",
       "\n",
       "  PART_VIEW  ...   Shape_len  \\\n",
       "0    PUBLIC  ...  149.394841   \n",
       "1    PUBLIC  ...  181.859296   \n",
       "2    PUBLIC  ...  149.400957   \n",
       "3    PUBLIC  ...  184.331184   \n",
       "4    PUBLIC  ...  181.610025   \n",
       "\n",
       "                                   geometry_building  WARD PARCEL    PID_LONG  \\\n",
       "0  POLYGON Z ((746591.271 2951419.399 69.207, 746...    22   5632  2205632000   \n",
       "1  POLYGON Z ((749458.573 2951325.510 175.721, 74...    22   4921  2204921000   \n",
       "2  POLYGON Z ((749737.548 2951033.339 183.535, 74...    21   2870  2102870000   \n",
       "3  POLYGON Z ((749675.844 2951369.308 177.057, 74...    21   2857  2102857000   \n",
       "4  POLYGON Z ((749656.610 2951320.949 183.698, 74...    21   2856  2102856000   \n",
       "\n",
       "         WPD  BATCH   SHAPE_area   SHAPE_len  \\\n",
       "0  22-08-060      0  6147.989082  325.006781   \n",
       "1  22-09-020      0  8083.907188  362.749418   \n",
       "2  21-13-005      0  4271.789581  421.615170   \n",
       "3  21-13-005      0  9911.996103  466.564661   \n",
       "4  21-13-005      0  7543.744282  434.782996   \n",
       "\n",
       "                                      geometry_place  \n",
       "0  POLYGON ((746621.759 2951435.076, 746611.102 2...  \n",
       "1  POLYGON ((749402.010 2951291.513, 749435.010 2...  \n",
       "2  POLYGON ((749743.230 2950985.758, 749714.095 2...  \n",
       "3  POLYGON ((749750.445 2951355.464, 749741.850 2...  \n",
       "4  POLYGON ((749737.693 2951282.616, 749733.662 2...  \n",
       "\n",
       "[5 rows x 37 columns]"
      ]
     },
     "execution_count": 10,
     "metadata": {},
     "output_type": "execute_result"
    }
   ],
   "source": [
    "df_ini = builds.merge(places,  left_on='PARCEL_ID', right_on='PID_LONG', how='inner')\n",
    "df_ini.rename(columns={'geometry_x': 'geometry_building',\n",
    "                       'geometry_y': 'geometry_place'},\n",
    "              inplace=True)\n",
    "# df_ini[['geometry_building', 'geometry_place']] = \\\n",
    "#     df_ini[['geometry_building', 'geometry_place']].astype('object')\n",
    "df_ini.head()"
   ]
  },
  {
   "cell_type": "code",
   "execution_count": 11,
   "metadata": {},
   "outputs": [],
   "source": [
    "df_ini = df_ini[df_ini.geometry_place.apply( \\\n",
    "            lambda x: x.geom_type) != 'MultiPolygon']\n",
    "right_location = df_ini.apply(lambda x: \\\n",
    "                      x.geometry_building.within(x.geometry_place),\\\n",
    "                          axis=1)\n",
    "df_ini = df_ini[right_location]"
   ]
  },
  {
   "cell_type": "code",
   "execution_count": 12,
   "metadata": {},
   "outputs": [],
   "source": [
    "df_ini.to_pickle('df_ini.pkl')"
   ]
  },
  {
   "cell_type": "code",
   "execution_count": 13,
   "metadata": {
    "colab": {
     "base_uri": "https://localhost:8080/",
     "height": 102
    },
    "colab_type": "code",
    "id": "d9vBzgB3St6H",
    "outputId": "f3b015fb-c053-41a9-8865-b13a9cbd7852"
   },
   "outputs": [
    {
     "name": "stdout",
     "output_type": "stream",
     "text": [
      "PART_VIEW 1\n",
      "PART_USE 14\n",
      "PART_CONTA 44548\n",
      "PART_ADDRE 46989\n",
      "PART_FLOOR 41\n"
     ]
    }
   ],
   "source": [
    "features = ['PART_VIEW', 'PART_USE', 'PART_CONTA', 'PART_ADDRE', 'PART_FLOOR']\n",
    "for f in features:\n",
    "    print(f, df_ini[f].nunique())"
   ]
  },
  {
   "cell_type": "code",
   "execution_count": 14,
   "metadata": {},
   "outputs": [
    {
     "data": {
      "text/plain": [
       "Index(['BUILDING_I', 'PARCEL_ID', 'ADDRESS_ID', 'PART_ADDRE', 'PART_ID',\n",
       "       'PART_USE', 'PART_BRA_U', 'PART_CONTA', 'PART_STATU', 'PART_VIEW',\n",
       "       'PART_FOOT', 'PART_ROOF', 'PART_HEIGH', 'PART_FLOOR', 'PART_GROSS',\n",
       "       'PART_CENTE', 'PART_CEN_1', 'GROUND_ELE', 'ROOF_ELEVA', 'BUILDING_H',\n",
       "       'IEL_TYPE', 'BASE_ELEVA', 'ELEVATION_', 'TOP_SEA_LE', 'ELEVATION1',\n",
       "       'TOP_GROUND', 'Shape_area', 'Shape_len', 'geometry_building', 'WARD',\n",
       "       'PARCEL', 'PID_LONG', 'WPD', 'BATCH', 'SHAPE_area', 'SHAPE_len',\n",
       "       'geometry_place'],\n",
       "      dtype='object')"
      ]
     },
     "execution_count": 14,
     "metadata": {},
     "output_type": "execute_result"
    }
   ],
   "source": [
    "df_ini.columns"
   ]
  },
  {
   "cell_type": "code",
   "execution_count": 33,
   "metadata": {},
   "outputs": [
    {
     "data": {
      "image/png": "[encoded data removed]",
      "text/plain": [
       "<Figure size 640x480 with 1 Axes>"
      ]
     },
     "metadata": {},
     "output_type": "display_data"
    }
   ],
   "source": [
    "plt.ioff()\n",
    "plt.margins(0, 0)"
   ]
  },
  {
   "cell_type": "code",
   "execution_count": 41,
   "metadata": {
    "colab": {
     "base_uri": "https://localhost:8080/",
     "height": 248
    },
    "colab_type": "code",
    "id": "bcNQjUoETp5B",
    "outputId": "5a1e52c5-2d34-408d-f725-e4b04b9693a2"
   },
   "outputs": [
    {
     "data": {
      "text/plain": [
       "<Figure size 256x256 with 0 Axes>"
      ]
     },
     "metadata": {},
     "output_type": "display_data"
    },
    {
     "data": {
      "image/png": "[encoded data removed]",
      "text/plain": [
       "<Figure size 256x256 with 1 Axes>"
      ]
     },
     "metadata": {},
     "output_type": "display_data"
    }
   ],
   "source": [
    "df = df_ini.copy()\n",
    "# df.rename(columns={'geometry_place': 'geometry'}, inplace=True)\n",
    "# df = gpd.GeoDataFrame(df)\n",
    "\n",
    "dpi=100\n",
    "figsize = (256/dpi, 256/dpi)\n",
    "fig = plt.figure(figsize=figsize)\n",
    "\n",
    "\n",
    "x = df_ini.iloc[0,29:].copy()\n",
    "area = gpd.GeoDataFrame(geometry=pd.Series(x.geometry_place))\n",
    "    # take data for buiding and plot on the same axis\n",
    "x = df_ini.iloc[0, :29].copy()\n",
    "building = gpd.GeoDataFrame(geometry=pd.Series(x.geometry_building))\n",
    "    \n",
    "# plot\n",
    "# area \n",
    "p = area.plot(color='000',  figsize=figsize)\n",
    "p.set_axis_off()\n",
    "plt.savefig(f'land_plot.jpg')\n",
    "# building.plot(color='red',  ax=axes)\n",
    "#ax = plt.subplot(122)\n",
    "# ax.set_axis_off()\n",
    "#building.plot(color='red', figsize=figsize, ax=axes[1])\n",
    "#plt.tight_layout()\n",
    "# plt.savefig(f'{DATASET_FOLDER}/areas/area_{x.name}.png',\\\n",
    "#            dpi=dpi)   \n",
    "#     plt.close('all')\n",
    "    \n",
    "\n",
    "\n",
    "\n",
    "# ax = plt.subplot(111)#\n",
    "# t = gpd.GeoDataFrame(df[df.PID_LONG=='2205632000'].geometry)\n",
    "# ax = plt.plot(df['building_x'].loc[0:0].to_array(), \n",
    "#               df['building_y'].loc[0:0].to_array(), \\\n",
    "#        #color='000', figsize=figsize,)\n",
    "#               #\n",
    "#              )\n",
    "# ax.set_axis_off()\n",
    "\n",
    "# df = df_ini.iloc[:,:29].copy()\n",
    "# df.rename(columns={'geometry_building': 'geometry'}, inplace=True)\n",
    "# # df = gpd.GeoDataFrame(df)\n",
    "\n",
    "# t = gpd.GeoDataFrame(df[df.PARCEL_ID=='2205632000'].geometry)\n",
    "# t.plot(color='r', figsize=figsize, ax=ax)\n",
    "# fig.show()"
   ]
  },
  {
   "cell_type": "code",
   "execution_count": null,
   "metadata": {},
   "outputs": [],
   "source": [
    "f.set_figheight(15)"
   ]
  },
  {
   "cell_type": "code",
   "execution_count": 18,
   "metadata": {},
   "outputs": [],
   "source": [
    "plt.style.use('default')"
   ]
  },
  {
   "cell_type": "code",
   "execution_count": 61,
   "metadata": {},
   "outputs": [],
   "source": [
    "from tqdm import tqdm\n",
    "\n",
    "DATASET_FOLDER = './dataset'\n",
    "figsize = (3, 3)\n",
    "\n",
    "def plot_dataset(x_ini):\n",
    "    '''create 3 type of sample pictures to DATASET_FOLDER:\n",
    "     - building footprint, \n",
    "     - area/place,\n",
    "     - combine both\n",
    "    x_ini - pandas Series with featers for biuldings (first 29) and features for area (others)\n",
    "    '''\n",
    "    \n",
    "    dpi=40\n",
    "    # take data for place\n",
    "    x = x_ini.iloc[29:].copy()\n",
    "    area = gpd.GeoDataFrame(geometry=pd.Series(x.geometry_place))\n",
    "    # take data for buiding and plot on the same axis\n",
    "    x = x_ini.iloc[:29].copy()\n",
    "    building = gpd.GeoDataFrame(geometry=pd.Series(x.geometry_building))\n",
    "    \n",
    "    # plot\n",
    "    # area \n",
    "    ax = plt.subplot(111)\n",
    "    ax.set_axis_off()\n",
    "    area.plot(color='000', figsize=figsize, ax=ax)\n",
    "    plt.tight_layout()\n",
    "    plt.savefig(f'{DATASET_FOLDER}/areas/area_{x.name}.png',\\\n",
    "               dpi=dpi)   \n",
    "    plt.close('all')\n",
    "    \n",
    "    ax2 = plt.subplot(111)\n",
    "    ax2.set_axis_off()\n",
    "    building.plot(color='000', figsize=figsize, ax=ax2)\n",
    "    xl = ax.get_xlim()\n",
    "    yl = ax.get_ylim()\n",
    "    ax2.axis(xmin=xl[0],xmax=xl[1], ymin=yl[0], ymax=yl[1])\n",
    "    plt.tight_layout()\n",
    "    plt.savefig(f'{DATASET_FOLDER}/buildings/building_{x.name}.png',\n",
    "               dpi=dpi)   \n",
    "    plt.close('all')\n",
    "    \n",
    "    ax = plt.subplot(111)\n",
    "    ax.set_axis_off()\n",
    "    area.plot(color='000', figsize=figsize, ax=ax)\n",
    "    building.plot(color='r', figsize=figsize, ax=ax)\n",
    "    plt.tight_layout()\n",
    "    plt.savefig(f'{DATASET_FOLDER}/combined/total_{x.name}.png',\n",
    "               dpi=dpi,\n",
    "#                 bbox_inches='tight')   \n",
    "               )\n",
    "    plt.close('all')   \n",
    "    \n",
    "    ax = plt.subplot(121)\n",
    "    ax.set_axis_off()\n",
    "    area.plot(color='000', figsize=figsize, ax=ax)\n",
    "    plt.tight_layout()\n",
    "    ax2 = plt.subplot(122)\n",
    "    ax2.set_axis_off()\n",
    "    building.plot(color='000', figsize=figsize, ax=ax2)\n",
    "    xl = ax.get_xlim()\n",
    "    yl = ax.get_ylim()\n",
    "    ax2.axis(xmin=xl[0],xmax=xl[1], ymin=yl[0], ymax=yl[1])\n",
    "    plt.tight_layout()\n",
    "    \n",
    "    plt.savefig(f'{DATASET_FOLDER}/closer/both_{x.name}.png',\n",
    "               dpi=dpi)png\n",
    "    "
   ]
  },
  {
   "cell_type": "code",
   "execution_count": 63,
   "metadata": {},
   "outputs": [
    {
     "name": "stderr",
     "output_type": "stream",
     "text": [
      "  0%|          | 188/47186 [00:26<1:50:11,  7.11it/s]\n"
     ]
    },
    {
     "ename": "KeyboardInterrupt",
     "evalue": "",
     "output_type": "error",
     "traceback": [
      "\u001b[0;31m---------------------------------------------------------------------------\u001b[0m",
      "\u001b[0;31mKeyboardInterrupt\u001b[0m                         Traceback (most recent call last)",
      "\u001b[0;32m<ipython-input-63-b3db29fd632e>\u001b[0m in \u001b[0;36m<module>\u001b[0;34m\u001b[0m\n\u001b[1;32m      1\u001b[0m \u001b[0mtqdm\u001b[0m\u001b[0;34m.\u001b[0m\u001b[0mpandas\u001b[0m\u001b[0;34m(\u001b[0m\u001b[0;34m)\u001b[0m\u001b[0;34m\u001b[0m\u001b[0;34m\u001b[0m\u001b[0m\n\u001b[0;32m----> 2\u001b[0;31m \u001b[0mdf_ini\u001b[0m\u001b[0;34m.\u001b[0m\u001b[0mprogress_apply\u001b[0m\u001b[0;34m(\u001b[0m\u001b[0mplot_dataset\u001b[0m\u001b[0;34m,\u001b[0m \u001b[0maxis\u001b[0m\u001b[0;34m=\u001b[0m\u001b[0;36m1\u001b[0m\u001b[0;34m)\u001b[0m\u001b[0;34m\u001b[0m\u001b[0;34m\u001b[0m\u001b[0m\n\u001b[0m",
      "\u001b[0;32m/usr/lib/python3.8/site-packages/tqdm/std.py\u001b[0m in \u001b[0;36minner\u001b[0;34m(df, func, *args, **kwargs)\u001b[0m\n\u001b[1;32m    804\u001b[0m                 \u001b[0;31m# on the df using our wrapper (which provides bar updating)\u001b[0m\u001b[0;34m\u001b[0m\u001b[0;34m\u001b[0m\u001b[0;34m\u001b[0m\u001b[0m\n\u001b[1;32m    805\u001b[0m                 \u001b[0;32mtry\u001b[0m\u001b[0;34m:\u001b[0m\u001b[0;34m\u001b[0m\u001b[0;34m\u001b[0m\u001b[0m\n\u001b[0;32m--> 806\u001b[0;31m                     \u001b[0;32mreturn\u001b[0m \u001b[0mgetattr\u001b[0m\u001b[0;34m(\u001b[0m\u001b[0mdf\u001b[0m\u001b[0;34m,\u001b[0m \u001b[0mdf_function\u001b[0m\u001b[0;34m)\u001b[0m\u001b[0;34m(\u001b[0m\u001b[0mwrapper\u001b[0m\u001b[0;34m,\u001b[0m \u001b[0;34m**\u001b[0m\u001b[0mkwargs\u001b[0m\u001b[0;34m)\u001b[0m\u001b[0;34m\u001b[0m\u001b[0;34m\u001b[0m\u001b[0m\n\u001b[0m\u001b[1;32m    807\u001b[0m                 \u001b[0;32mfinally\u001b[0m\u001b[0;34m:\u001b[0m\u001b[0;34m\u001b[0m\u001b[0;34m\u001b[0m\u001b[0m\n\u001b[1;32m    808\u001b[0m                     \u001b[0mt\u001b[0m\u001b[0;34m.\u001b[0m\u001b[0mclose\u001b[0m\u001b[0;34m(\u001b[0m\u001b[0;34m)\u001b[0m\u001b[0;34m\u001b[0m\u001b[0;34m\u001b[0m\u001b[0m\n",
      "\u001b[0;32m~/.local/lib/python3.8/site-packages/pandas/core/frame.py\u001b[0m in \u001b[0;36mapply\u001b[0;34m(self, func, axis, raw, result_type, args, **kwds)\u001b[0m\n\u001b[1;32m   7545\u001b[0m             \u001b[0mkwds\u001b[0m\u001b[0;34m=\u001b[0m\u001b[0mkwds\u001b[0m\u001b[0;34m,\u001b[0m\u001b[0;34m\u001b[0m\u001b[0;34m\u001b[0m\u001b[0m\n\u001b[1;32m   7546\u001b[0m         )\n\u001b[0;32m-> 7547\u001b[0;31m         \u001b[0;32mreturn\u001b[0m \u001b[0mop\u001b[0m\u001b[0;34m.\u001b[0m\u001b[0mget_result\u001b[0m\u001b[0;34m(\u001b[0m\u001b[0;34m)\u001b[0m\u001b[0;34m\u001b[0m\u001b[0;34m\u001b[0m\u001b[0m\n\u001b[0m\u001b[1;32m   7548\u001b[0m \u001b[0;34m\u001b[0m\u001b[0m\n\u001b[1;32m   7549\u001b[0m     \u001b[0;32mdef\u001b[0m \u001b[0mapplymap\u001b[0m\u001b[0;34m(\u001b[0m\u001b[0mself\u001b[0m\u001b[0;34m,\u001b[0m \u001b[0mfunc\u001b[0m\u001b[0;34m)\u001b[0m \u001b[0;34m->\u001b[0m \u001b[0;34m\"DataFrame\"\u001b[0m\u001b[0;34m:\u001b[0m\u001b[0;34m\u001b[0m\u001b[0;34m\u001b[0m\u001b[0m\n",
      "\u001b[0;32m~/.local/lib/python3.8/site-packages/pandas/core/apply.py\u001b[0m in \u001b[0;36mget_result\u001b[0;34m(self)\u001b[0m\n\u001b[1;32m    178\u001b[0m             \u001b[0;32mreturn\u001b[0m \u001b[0mself\u001b[0m\u001b[0;34m.\u001b[0m\u001b[0mapply_raw\u001b[0m\u001b[0;34m(\u001b[0m\u001b[0;34m)\u001b[0m\u001b[0;34m\u001b[0m\u001b[0;34m\u001b[0m\u001b[0m\n\u001b[1;32m    179\u001b[0m \u001b[0;34m\u001b[0m\u001b[0m\n\u001b[0;32m--> 180\u001b[0;31m         \u001b[0;32mreturn\u001b[0m \u001b[0mself\u001b[0m\u001b[0;34m.\u001b[0m\u001b[0mapply_standard\u001b[0m\u001b[0;34m(\u001b[0m\u001b[0;34m)\u001b[0m\u001b[0;34m\u001b[0m\u001b[0;34m\u001b[0m\u001b[0m\n\u001b[0m\u001b[1;32m    181\u001b[0m \u001b[0;34m\u001b[0m\u001b[0m\n\u001b[1;32m    182\u001b[0m     \u001b[0;32mdef\u001b[0m \u001b[0mapply_empty_result\u001b[0m\u001b[0;34m(\u001b[0m\u001b[0mself\u001b[0m\u001b[0;34m)\u001b[0m\u001b[0;34m:\u001b[0m\u001b[0;34m\u001b[0m\u001b[0;34m\u001b[0m\u001b[0m\n",
      "\u001b[0;32m~/.local/lib/python3.8/site-packages/pandas/core/apply.py\u001b[0m in \u001b[0;36mapply_standard\u001b[0;34m(self)\u001b[0m\n\u001b[1;32m    253\u001b[0m \u001b[0;34m\u001b[0m\u001b[0m\n\u001b[1;32m    254\u001b[0m     \u001b[0;32mdef\u001b[0m \u001b[0mapply_standard\u001b[0m\u001b[0;34m(\u001b[0m\u001b[0mself\u001b[0m\u001b[0;34m)\u001b[0m\u001b[0;34m:\u001b[0m\u001b[0;34m\u001b[0m\u001b[0;34m\u001b[0m\u001b[0m\n\u001b[0;32m--> 255\u001b[0;31m         \u001b[0mresults\u001b[0m\u001b[0;34m,\u001b[0m \u001b[0mres_index\u001b[0m \u001b[0;34m=\u001b[0m \u001b[0mself\u001b[0m\u001b[0;34m.\u001b[0m\u001b[0mapply_series_generator\u001b[0m\u001b[0;34m(\u001b[0m\u001b[0;34m)\u001b[0m\u001b[0;34m\u001b[0m\u001b[0;34m\u001b[0m\u001b[0m\n\u001b[0m\u001b[1;32m    256\u001b[0m \u001b[0;34m\u001b[0m\u001b[0m\n\u001b[1;32m    257\u001b[0m         \u001b[0;31m# wrap results\u001b[0m\u001b[0;34m\u001b[0m\u001b[0;34m\u001b[0m\u001b[0;34m\u001b[0m\u001b[0m\n",
      "\u001b[0;32m~/.local/lib/python3.8/site-packages/pandas/core/apply.py\u001b[0m in \u001b[0;36mapply_series_generator\u001b[0;34m(self)\u001b[0m\n\u001b[1;32m    282\u001b[0m                 \u001b[0;32mfor\u001b[0m \u001b[0mi\u001b[0m\u001b[0;34m,\u001b[0m \u001b[0mv\u001b[0m \u001b[0;32min\u001b[0m \u001b[0menumerate\u001b[0m\u001b[0;34m(\u001b[0m\u001b[0mseries_gen\u001b[0m\u001b[0;34m)\u001b[0m\u001b[0;34m:\u001b[0m\u001b[0;34m\u001b[0m\u001b[0;34m\u001b[0m\u001b[0m\n\u001b[1;32m    283\u001b[0m                     \u001b[0;31m# ignore SettingWithCopy here in case the user mutates\u001b[0m\u001b[0;34m\u001b[0m\u001b[0;34m\u001b[0m\u001b[0;34m\u001b[0m\u001b[0m\n\u001b[0;32m--> 284\u001b[0;31m                     \u001b[0mresults\u001b[0m\u001b[0;34m[\u001b[0m\u001b[0mi\u001b[0m\u001b[0;34m]\u001b[0m \u001b[0;34m=\u001b[0m \u001b[0mself\u001b[0m\u001b[0;34m.\u001b[0m\u001b[0mf\u001b[0m\u001b[0;34m(\u001b[0m\u001b[0mv\u001b[0m\u001b[0;34m)\u001b[0m\u001b[0;34m\u001b[0m\u001b[0;34m\u001b[0m\u001b[0m\n\u001b[0m\u001b[1;32m    285\u001b[0m                     \u001b[0;32mif\u001b[0m \u001b[0misinstance\u001b[0m\u001b[0;34m(\u001b[0m\u001b[0mresults\u001b[0m\u001b[0;34m[\u001b[0m\u001b[0mi\u001b[0m\u001b[0;34m]\u001b[0m\u001b[0;34m,\u001b[0m \u001b[0mABCSeries\u001b[0m\u001b[0;34m)\u001b[0m\u001b[0;34m:\u001b[0m\u001b[0;34m\u001b[0m\u001b[0;34m\u001b[0m\u001b[0m\n\u001b[1;32m    286\u001b[0m                         \u001b[0;31m# If we have a view on v, we need to make a copy because\u001b[0m\u001b[0;34m\u001b[0m\u001b[0;34m\u001b[0m\u001b[0;34m\u001b[0m\u001b[0m\n",
      "\u001b[0;32m/usr/lib/python3.8/site-packages/tqdm/std.py\u001b[0m in \u001b[0;36mwrapper\u001b[0;34m(*args, **kwargs)\u001b[0m\n\u001b[1;32m    799\u001b[0m                     \u001b[0;31m# take a fast or slow code path; so stop when t.total==t.n\u001b[0m\u001b[0;34m\u001b[0m\u001b[0;34m\u001b[0m\u001b[0;34m\u001b[0m\u001b[0m\n\u001b[1;32m    800\u001b[0m                     \u001b[0mt\u001b[0m\u001b[0;34m.\u001b[0m\u001b[0mupdate\u001b[0m\u001b[0;34m(\u001b[0m\u001b[0mn\u001b[0m\u001b[0;34m=\u001b[0m\u001b[0;36m1\u001b[0m \u001b[0;32mif\u001b[0m \u001b[0;32mnot\u001b[0m \u001b[0mt\u001b[0m\u001b[0;34m.\u001b[0m\u001b[0mtotal\u001b[0m \u001b[0;32mor\u001b[0m \u001b[0mt\u001b[0m\u001b[0;34m.\u001b[0m\u001b[0mn\u001b[0m \u001b[0;34m<\u001b[0m \u001b[0mt\u001b[0m\u001b[0;34m.\u001b[0m\u001b[0mtotal\u001b[0m \u001b[0;32melse\u001b[0m \u001b[0;36m0\u001b[0m\u001b[0;34m)\u001b[0m\u001b[0;34m\u001b[0m\u001b[0;34m\u001b[0m\u001b[0m\n\u001b[0;32m--> 801\u001b[0;31m                     \u001b[0;32mreturn\u001b[0m \u001b[0mfunc\u001b[0m\u001b[0;34m(\u001b[0m\u001b[0;34m*\u001b[0m\u001b[0margs\u001b[0m\u001b[0;34m,\u001b[0m \u001b[0;34m**\u001b[0m\u001b[0mkwargs\u001b[0m\u001b[0;34m)\u001b[0m\u001b[0;34m\u001b[0m\u001b[0;34m\u001b[0m\u001b[0m\n\u001b[0m\u001b[1;32m    802\u001b[0m \u001b[0;34m\u001b[0m\u001b[0m\n\u001b[1;32m    803\u001b[0m                 \u001b[0;31m# Apply the provided function (in **kwargs)\u001b[0m\u001b[0;34m\u001b[0m\u001b[0;34m\u001b[0m\u001b[0;34m\u001b[0m\u001b[0m\n",
      "\u001b[0;32m<ipython-input-61-ba635c228695>\u001b[0m in \u001b[0;36mplot_dataset\u001b[0;34m(x_ini)\u001b[0m\n\u001b[1;32m     58\u001b[0m     \u001b[0max2\u001b[0m \u001b[0;34m=\u001b[0m \u001b[0mplt\u001b[0m\u001b[0;34m.\u001b[0m\u001b[0msubplot\u001b[0m\u001b[0;34m(\u001b[0m\u001b[0;36m122\u001b[0m\u001b[0;34m)\u001b[0m\u001b[0;34m\u001b[0m\u001b[0;34m\u001b[0m\u001b[0m\n\u001b[1;32m     59\u001b[0m     \u001b[0max2\u001b[0m\u001b[0;34m.\u001b[0m\u001b[0mset_axis_off\u001b[0m\u001b[0;34m(\u001b[0m\u001b[0;34m)\u001b[0m\u001b[0;34m\u001b[0m\u001b[0;34m\u001b[0m\u001b[0m\n\u001b[0;32m---> 60\u001b[0;31m     \u001b[0mbuilding\u001b[0m\u001b[0;34m.\u001b[0m\u001b[0mplot\u001b[0m\u001b[0;34m(\u001b[0m\u001b[0mcolor\u001b[0m\u001b[0;34m=\u001b[0m\u001b[0;34m'000'\u001b[0m\u001b[0;34m,\u001b[0m \u001b[0mfigsize\u001b[0m\u001b[0;34m=\u001b[0m\u001b[0mfigsize\u001b[0m\u001b[0;34m,\u001b[0m \u001b[0max\u001b[0m\u001b[0;34m=\u001b[0m\u001b[0max2\u001b[0m\u001b[0;34m)\u001b[0m\u001b[0;34m\u001b[0m\u001b[0;34m\u001b[0m\u001b[0m\n\u001b[0m\u001b[1;32m     61\u001b[0m     \u001b[0mxl\u001b[0m \u001b[0;34m=\u001b[0m \u001b[0max\u001b[0m\u001b[0;34m.\u001b[0m\u001b[0mget_xlim\u001b[0m\u001b[0;34m(\u001b[0m\u001b[0;34m)\u001b[0m\u001b[0;34m\u001b[0m\u001b[0;34m\u001b[0m\u001b[0m\n\u001b[1;32m     62\u001b[0m     \u001b[0myl\u001b[0m \u001b[0;34m=\u001b[0m \u001b[0max\u001b[0m\u001b[0;34m.\u001b[0m\u001b[0mget_ylim\u001b[0m\u001b[0;34m(\u001b[0m\u001b[0;34m)\u001b[0m\u001b[0;34m\u001b[0m\u001b[0;34m\u001b[0m\u001b[0m\n",
      "\u001b[0;32m~/.local/lib/python3.8/site-packages/geopandas/geodataframe.py\u001b[0m in \u001b[0;36mplot\u001b[0;34m(self, *args, **kwargs)\u001b[0m\n\u001b[1;32m    919\u001b[0m         \u001b[0;32mfrom\u001b[0m \u001b[0mthere\u001b[0m\u001b[0;34m.\u001b[0m\u001b[0;34m\u001b[0m\u001b[0;34m\u001b[0m\u001b[0m\n\u001b[1;32m    920\u001b[0m         \"\"\"\n\u001b[0;32m--> 921\u001b[0;31m         \u001b[0;32mreturn\u001b[0m \u001b[0mplot_dataframe\u001b[0m\u001b[0;34m(\u001b[0m\u001b[0mself\u001b[0m\u001b[0;34m,\u001b[0m \u001b[0;34m*\u001b[0m\u001b[0margs\u001b[0m\u001b[0;34m,\u001b[0m \u001b[0;34m**\u001b[0m\u001b[0mkwargs\u001b[0m\u001b[0;34m)\u001b[0m\u001b[0;34m\u001b[0m\u001b[0;34m\u001b[0m\u001b[0m\n\u001b[0m\u001b[1;32m    922\u001b[0m \u001b[0;34m\u001b[0m\u001b[0m\n\u001b[1;32m    923\u001b[0m     \u001b[0mplot\u001b[0m\u001b[0;34m.\u001b[0m\u001b[0m__doc__\u001b[0m \u001b[0;34m=\u001b[0m \u001b[0mplot_dataframe\u001b[0m\u001b[0;34m.\u001b[0m\u001b[0m__doc__\u001b[0m\u001b[0;34m\u001b[0m\u001b[0;34m\u001b[0m\u001b[0m\n",
      "\u001b[0;32m~/.local/lib/python3.8/site-packages/geopandas/plotting.py\u001b[0m in \u001b[0;36mplot_dataframe\u001b[0;34m(df, column, cmap, color, ax, cax, categorical, legend, scheme, k, vmin, vmax, markersize, figsize, legend_kwds, categories, classification_kwds, missing_kwds, aspect, **style_kwds)\u001b[0m\n\u001b[1;32m    613\u001b[0m \u001b[0;34m\u001b[0m\u001b[0m\n\u001b[1;32m    614\u001b[0m     \u001b[0;32mif\u001b[0m \u001b[0mcolumn\u001b[0m \u001b[0;32mis\u001b[0m \u001b[0;32mNone\u001b[0m\u001b[0;34m:\u001b[0m\u001b[0;34m\u001b[0m\u001b[0;34m\u001b[0m\u001b[0m\n\u001b[0;32m--> 615\u001b[0;31m         return plot_series(\n\u001b[0m\u001b[1;32m    616\u001b[0m             \u001b[0mdf\u001b[0m\u001b[0;34m.\u001b[0m\u001b[0mgeometry\u001b[0m\u001b[0;34m,\u001b[0m\u001b[0;34m\u001b[0m\u001b[0;34m\u001b[0m\u001b[0m\n\u001b[1;32m    617\u001b[0m             \u001b[0mcmap\u001b[0m\u001b[0;34m=\u001b[0m\u001b[0mcmap\u001b[0m\u001b[0;34m,\u001b[0m\u001b[0;34m\u001b[0m\u001b[0;34m\u001b[0m\u001b[0m\n",
      "\u001b[0;32m~/.local/lib/python3.8/site-packages/geopandas/plotting.py\u001b[0m in \u001b[0;36mplot_series\u001b[0;34m(s, cmap, color, ax, figsize, aspect, **style_kwds)\u001b[0m\n\u001b[1;32m    431\u001b[0m         )\n\u001b[1;32m    432\u001b[0m \u001b[0;34m\u001b[0m\u001b[0m\n\u001b[0;32m--> 433\u001b[0;31m     \u001b[0mplt\u001b[0m\u001b[0;34m.\u001b[0m\u001b[0mdraw\u001b[0m\u001b[0;34m(\u001b[0m\u001b[0;34m)\u001b[0m\u001b[0;34m\u001b[0m\u001b[0;34m\u001b[0m\u001b[0m\n\u001b[0m\u001b[1;32m    434\u001b[0m     \u001b[0;32mreturn\u001b[0m \u001b[0max\u001b[0m\u001b[0;34m\u001b[0m\u001b[0;34m\u001b[0m\u001b[0m\n\u001b[1;32m    435\u001b[0m \u001b[0;34m\u001b[0m\u001b[0m\n",
      "\u001b[0;32m/usr/lib/python3.8/site-packages/matplotlib/pyplot.py\u001b[0m in \u001b[0;36mdraw\u001b[0;34m()\u001b[0m\n\u001b[1;32m    851\u001b[0m     \u001b[0mthe\u001b[0m \u001b[0mcurrent\u001b[0m \u001b[0mfigure\u001b[0m\u001b[0;34m.\u001b[0m\u001b[0;34m\u001b[0m\u001b[0;34m\u001b[0m\u001b[0m\n\u001b[1;32m    852\u001b[0m     \"\"\"\n\u001b[0;32m--> 853\u001b[0;31m     \u001b[0mgcf\u001b[0m\u001b[0;34m(\u001b[0m\u001b[0;34m)\u001b[0m\u001b[0;34m.\u001b[0m\u001b[0mcanvas\u001b[0m\u001b[0;34m.\u001b[0m\u001b[0mdraw_idle\u001b[0m\u001b[0;34m(\u001b[0m\u001b[0;34m)\u001b[0m\u001b[0;34m\u001b[0m\u001b[0;34m\u001b[0m\u001b[0m\n\u001b[0m\u001b[1;32m    854\u001b[0m \u001b[0;34m\u001b[0m\u001b[0m\n\u001b[1;32m    855\u001b[0m \u001b[0;34m\u001b[0m\u001b[0m\n",
      "\u001b[0;32m/usr/lib/python3.8/site-packages/matplotlib/backend_bases.py\u001b[0m in \u001b[0;36mdraw_idle\u001b[0;34m(self, *args, **kwargs)\u001b[0m\n\u001b[1;32m   2010\u001b[0m         \u001b[0;32mif\u001b[0m \u001b[0;32mnot\u001b[0m \u001b[0mself\u001b[0m\u001b[0;34m.\u001b[0m\u001b[0m_is_idle_drawing\u001b[0m\u001b[0;34m:\u001b[0m\u001b[0;34m\u001b[0m\u001b[0;34m\u001b[0m\u001b[0m\n\u001b[1;32m   2011\u001b[0m             \u001b[0;32mwith\u001b[0m \u001b[0mself\u001b[0m\u001b[0;34m.\u001b[0m\u001b[0m_idle_draw_cntx\u001b[0m\u001b[0;34m(\u001b[0m\u001b[0;34m)\u001b[0m\u001b[0;34m:\u001b[0m\u001b[0;34m\u001b[0m\u001b[0;34m\u001b[0m\u001b[0m\n\u001b[0;32m-> 2012\u001b[0;31m                 \u001b[0mself\u001b[0m\u001b[0;34m.\u001b[0m\u001b[0mdraw\u001b[0m\u001b[0;34m(\u001b[0m\u001b[0;34m*\u001b[0m\u001b[0margs\u001b[0m\u001b[0;34m,\u001b[0m \u001b[0;34m**\u001b[0m\u001b[0mkwargs\u001b[0m\u001b[0;34m)\u001b[0m\u001b[0;34m\u001b[0m\u001b[0;34m\u001b[0m\u001b[0m\n\u001b[0m\u001b[1;32m   2013\u001b[0m \u001b[0;34m\u001b[0m\u001b[0m\n\u001b[1;32m   2014\u001b[0m     \u001b[0;34m@\u001b[0m\u001b[0mcbook\u001b[0m\u001b[0;34m.\u001b[0m\u001b[0mdeprecated\u001b[0m\u001b[0;34m(\u001b[0m\u001b[0;34m\"3.2\"\u001b[0m\u001b[0;34m)\u001b[0m\u001b[0;34m\u001b[0m\u001b[0;34m\u001b[0m\u001b[0m\n",
      "\u001b[0;32m/usr/lib/python3.8/site-packages/matplotlib/backends/backend_agg.py\u001b[0m in \u001b[0;36mdraw\u001b[0;34m(self)\u001b[0m\n\u001b[1;32m    405\u001b[0m              (self.toolbar._wait_cursor_for_draw_cm() if self.toolbar\n\u001b[1;32m    406\u001b[0m               else nullcontext()):\n\u001b[0;32m--> 407\u001b[0;31m             \u001b[0mself\u001b[0m\u001b[0;34m.\u001b[0m\u001b[0mfigure\u001b[0m\u001b[0;34m.\u001b[0m\u001b[0mdraw\u001b[0m\u001b[0;34m(\u001b[0m\u001b[0mself\u001b[0m\u001b[0;34m.\u001b[0m\u001b[0mrenderer\u001b[0m\u001b[0;34m)\u001b[0m\u001b[0;34m\u001b[0m\u001b[0;34m\u001b[0m\u001b[0m\n\u001b[0m\u001b[1;32m    408\u001b[0m             \u001b[0;31m# A GUI class may be need to update a window using this draw, so\u001b[0m\u001b[0;34m\u001b[0m\u001b[0;34m\u001b[0m\u001b[0;34m\u001b[0m\u001b[0m\n\u001b[1;32m    409\u001b[0m             \u001b[0;31m# don't forget to call the superclass.\u001b[0m\u001b[0;34m\u001b[0m\u001b[0;34m\u001b[0m\u001b[0;34m\u001b[0m\u001b[0m\n",
      "\u001b[0;32m/usr/lib/python3.8/site-packages/matplotlib/artist.py\u001b[0m in \u001b[0;36mdraw_wrapper\u001b[0;34m(artist, renderer, *args, **kwargs)\u001b[0m\n\u001b[1;32m     39\u001b[0m                 \u001b[0mrenderer\u001b[0m\u001b[0;34m.\u001b[0m\u001b[0mstart_filter\u001b[0m\u001b[0;34m(\u001b[0m\u001b[0;34m)\u001b[0m\u001b[0;34m\u001b[0m\u001b[0;34m\u001b[0m\u001b[0m\n\u001b[1;32m     40\u001b[0m \u001b[0;34m\u001b[0m\u001b[0m\n\u001b[0;32m---> 41\u001b[0;31m             \u001b[0;32mreturn\u001b[0m \u001b[0mdraw\u001b[0m\u001b[0;34m(\u001b[0m\u001b[0martist\u001b[0m\u001b[0;34m,\u001b[0m \u001b[0mrenderer\u001b[0m\u001b[0;34m,\u001b[0m \u001b[0;34m*\u001b[0m\u001b[0margs\u001b[0m\u001b[0;34m,\u001b[0m \u001b[0;34m**\u001b[0m\u001b[0mkwargs\u001b[0m\u001b[0;34m)\u001b[0m\u001b[0;34m\u001b[0m\u001b[0;34m\u001b[0m\u001b[0m\n\u001b[0m\u001b[1;32m     42\u001b[0m         \u001b[0;32mfinally\u001b[0m\u001b[0;34m:\u001b[0m\u001b[0;34m\u001b[0m\u001b[0;34m\u001b[0m\u001b[0m\n\u001b[1;32m     43\u001b[0m             \u001b[0;32mif\u001b[0m \u001b[0martist\u001b[0m\u001b[0;34m.\u001b[0m\u001b[0mget_agg_filter\u001b[0m\u001b[0;34m(\u001b[0m\u001b[0;34m)\u001b[0m \u001b[0;32mis\u001b[0m \u001b[0;32mnot\u001b[0m \u001b[0;32mNone\u001b[0m\u001b[0;34m:\u001b[0m\u001b[0;34m\u001b[0m\u001b[0;34m\u001b[0m\u001b[0m\n",
      "\u001b[0;32m/usr/lib/python3.8/site-packages/matplotlib/figure.py\u001b[0m in \u001b[0;36mdraw\u001b[0;34m(self, renderer)\u001b[0m\n\u001b[1;32m   1861\u001b[0m \u001b[0;34m\u001b[0m\u001b[0m\n\u001b[1;32m   1862\u001b[0m             \u001b[0mself\u001b[0m\u001b[0;34m.\u001b[0m\u001b[0mpatch\u001b[0m\u001b[0;34m.\u001b[0m\u001b[0mdraw\u001b[0m\u001b[0;34m(\u001b[0m\u001b[0mrenderer\u001b[0m\u001b[0;34m)\u001b[0m\u001b[0;34m\u001b[0m\u001b[0;34m\u001b[0m\u001b[0m\n\u001b[0;32m-> 1863\u001b[0;31m             mimage._draw_list_compositing_images(\n\u001b[0m\u001b[1;32m   1864\u001b[0m                 renderer, self, artists, self.suppressComposite)\n\u001b[1;32m   1865\u001b[0m \u001b[0;34m\u001b[0m\u001b[0m\n",
      "\u001b[0;32m/usr/lib/python3.8/site-packages/matplotlib/image.py\u001b[0m in \u001b[0;36m_draw_list_compositing_images\u001b[0;34m(renderer, parent, artists, suppress_composite)\u001b[0m\n\u001b[1;32m    129\u001b[0m     \u001b[0;32mif\u001b[0m \u001b[0mnot_composite\u001b[0m \u001b[0;32mor\u001b[0m \u001b[0;32mnot\u001b[0m \u001b[0mhas_images\u001b[0m\u001b[0;34m:\u001b[0m\u001b[0;34m\u001b[0m\u001b[0;34m\u001b[0m\u001b[0m\n\u001b[1;32m    130\u001b[0m         \u001b[0;32mfor\u001b[0m \u001b[0ma\u001b[0m \u001b[0;32min\u001b[0m \u001b[0martists\u001b[0m\u001b[0;34m:\u001b[0m\u001b[0;34m\u001b[0m\u001b[0;34m\u001b[0m\u001b[0m\n\u001b[0;32m--> 131\u001b[0;31m             \u001b[0ma\u001b[0m\u001b[0;34m.\u001b[0m\u001b[0mdraw\u001b[0m\u001b[0;34m(\u001b[0m\u001b[0mrenderer\u001b[0m\u001b[0;34m)\u001b[0m\u001b[0;34m\u001b[0m\u001b[0;34m\u001b[0m\u001b[0m\n\u001b[0m\u001b[1;32m    132\u001b[0m     \u001b[0;32melse\u001b[0m\u001b[0;34m:\u001b[0m\u001b[0;34m\u001b[0m\u001b[0;34m\u001b[0m\u001b[0m\n\u001b[1;32m    133\u001b[0m         \u001b[0;31m# Composite any adjacent images together\u001b[0m\u001b[0;34m\u001b[0m\u001b[0;34m\u001b[0m\u001b[0;34m\u001b[0m\u001b[0m\n",
      "\u001b[0;32m/usr/lib/python3.8/site-packages/matplotlib/artist.py\u001b[0m in \u001b[0;36mdraw_wrapper\u001b[0;34m(artist, renderer, *args, **kwargs)\u001b[0m\n\u001b[1;32m     39\u001b[0m                 \u001b[0mrenderer\u001b[0m\u001b[0;34m.\u001b[0m\u001b[0mstart_filter\u001b[0m\u001b[0;34m(\u001b[0m\u001b[0;34m)\u001b[0m\u001b[0;34m\u001b[0m\u001b[0;34m\u001b[0m\u001b[0m\n\u001b[1;32m     40\u001b[0m \u001b[0;34m\u001b[0m\u001b[0m\n\u001b[0;32m---> 41\u001b[0;31m             \u001b[0;32mreturn\u001b[0m \u001b[0mdraw\u001b[0m\u001b[0;34m(\u001b[0m\u001b[0martist\u001b[0m\u001b[0;34m,\u001b[0m \u001b[0mrenderer\u001b[0m\u001b[0;34m,\u001b[0m \u001b[0;34m*\u001b[0m\u001b[0margs\u001b[0m\u001b[0;34m,\u001b[0m \u001b[0;34m**\u001b[0m\u001b[0mkwargs\u001b[0m\u001b[0;34m)\u001b[0m\u001b[0;34m\u001b[0m\u001b[0;34m\u001b[0m\u001b[0m\n\u001b[0m\u001b[1;32m     42\u001b[0m         \u001b[0;32mfinally\u001b[0m\u001b[0;34m:\u001b[0m\u001b[0;34m\u001b[0m\u001b[0;34m\u001b[0m\u001b[0m\n\u001b[1;32m     43\u001b[0m             \u001b[0;32mif\u001b[0m \u001b[0martist\u001b[0m\u001b[0;34m.\u001b[0m\u001b[0mget_agg_filter\u001b[0m\u001b[0;34m(\u001b[0m\u001b[0;34m)\u001b[0m \u001b[0;32mis\u001b[0m \u001b[0;32mnot\u001b[0m \u001b[0;32mNone\u001b[0m\u001b[0;34m:\u001b[0m\u001b[0;34m\u001b[0m\u001b[0;34m\u001b[0m\u001b[0m\n",
      "\u001b[0;32m/usr/lib/python3.8/site-packages/matplotlib/cbook/deprecation.py\u001b[0m in \u001b[0;36mwrapper\u001b[0;34m(*inner_args, **inner_kwargs)\u001b[0m\n\u001b[1;32m    409\u001b[0m                          \u001b[0;32melse\u001b[0m \u001b[0mdeprecation_addendum\u001b[0m\u001b[0;34m,\u001b[0m\u001b[0;34m\u001b[0m\u001b[0;34m\u001b[0m\u001b[0m\n\u001b[1;32m    410\u001b[0m                 **kwargs)\n\u001b[0;32m--> 411\u001b[0;31m         \u001b[0;32mreturn\u001b[0m \u001b[0mfunc\u001b[0m\u001b[0;34m(\u001b[0m\u001b[0;34m*\u001b[0m\u001b[0minner_args\u001b[0m\u001b[0;34m,\u001b[0m \u001b[0;34m**\u001b[0m\u001b[0minner_kwargs\u001b[0m\u001b[0;34m)\u001b[0m\u001b[0;34m\u001b[0m\u001b[0;34m\u001b[0m\u001b[0m\n\u001b[0m\u001b[1;32m    412\u001b[0m \u001b[0;34m\u001b[0m\u001b[0m\n\u001b[1;32m    413\u001b[0m     \u001b[0;32mreturn\u001b[0m \u001b[0mwrapper\u001b[0m\u001b[0;34m\u001b[0m\u001b[0;34m\u001b[0m\u001b[0m\n",
      "\u001b[0;32m/usr/lib/python3.8/site-packages/matplotlib/axes/_base.py\u001b[0m in \u001b[0;36mdraw\u001b[0;34m(self, renderer, inframe)\u001b[0m\n\u001b[1;32m   2705\u001b[0m                 \u001b[0martists\u001b[0m\u001b[0;34m.\u001b[0m\u001b[0mremove\u001b[0m\u001b[0;34m(\u001b[0m\u001b[0mspine\u001b[0m\u001b[0;34m)\u001b[0m\u001b[0;34m\u001b[0m\u001b[0;34m\u001b[0m\u001b[0m\n\u001b[1;32m   2706\u001b[0m \u001b[0;34m\u001b[0m\u001b[0m\n\u001b[0;32m-> 2707\u001b[0;31m         \u001b[0mself\u001b[0m\u001b[0;34m.\u001b[0m\u001b[0m_update_title_position\u001b[0m\u001b[0;34m(\u001b[0m\u001b[0mrenderer\u001b[0m\u001b[0;34m)\u001b[0m\u001b[0;34m\u001b[0m\u001b[0;34m\u001b[0m\u001b[0m\n\u001b[0m\u001b[1;32m   2708\u001b[0m \u001b[0;34m\u001b[0m\u001b[0m\n\u001b[1;32m   2709\u001b[0m         \u001b[0;32mif\u001b[0m \u001b[0;32mnot\u001b[0m \u001b[0mself\u001b[0m\u001b[0;34m.\u001b[0m\u001b[0maxison\u001b[0m \u001b[0;32mor\u001b[0m \u001b[0minframe\u001b[0m\u001b[0;34m:\u001b[0m\u001b[0;34m\u001b[0m\u001b[0;34m\u001b[0m\u001b[0m\n",
      "\u001b[0;32m/usr/lib/python3.8/site-packages/matplotlib/axes/_base.py\u001b[0m in \u001b[0;36m_update_title_position\u001b[0;34m(self, renderer)\u001b[0m\n\u001b[1;32m   2646\u001b[0m                 \u001b[0m_log\u001b[0m\u001b[0;34m.\u001b[0m\u001b[0mdebug\u001b[0m\u001b[0;34m(\u001b[0m\u001b[0;34m'top of axes not in the figure, so title not moved'\u001b[0m\u001b[0;34m)\u001b[0m\u001b[0;34m\u001b[0m\u001b[0;34m\u001b[0m\u001b[0m\n\u001b[1;32m   2647\u001b[0m                 \u001b[0;32mreturn\u001b[0m\u001b[0;34m\u001b[0m\u001b[0;34m\u001b[0m\u001b[0m\n\u001b[0;32m-> 2648\u001b[0;31m             \u001b[0;32mif\u001b[0m \u001b[0mtitle\u001b[0m\u001b[0;34m.\u001b[0m\u001b[0mget_window_extent\u001b[0m\u001b[0;34m(\u001b[0m\u001b[0mrenderer\u001b[0m\u001b[0;34m)\u001b[0m\u001b[0;34m.\u001b[0m\u001b[0mymin\u001b[0m \u001b[0;34m<\u001b[0m \u001b[0mtop\u001b[0m\u001b[0;34m:\u001b[0m\u001b[0;34m\u001b[0m\u001b[0;34m\u001b[0m\u001b[0m\n\u001b[0m\u001b[1;32m   2649\u001b[0m                 \u001b[0m_\u001b[0m\u001b[0;34m,\u001b[0m \u001b[0my\u001b[0m \u001b[0;34m=\u001b[0m \u001b[0mself\u001b[0m\u001b[0;34m.\u001b[0m\u001b[0mtransAxes\u001b[0m\u001b[0;34m.\u001b[0m\u001b[0minverted\u001b[0m\u001b[0;34m(\u001b[0m\u001b[0;34m)\u001b[0m\u001b[0;34m.\u001b[0m\u001b[0mtransform\u001b[0m\u001b[0;34m(\u001b[0m\u001b[0;34m(\u001b[0m\u001b[0;36m0\u001b[0m\u001b[0;34m,\u001b[0m \u001b[0mtop\u001b[0m\u001b[0;34m)\u001b[0m\u001b[0;34m)\u001b[0m\u001b[0;34m\u001b[0m\u001b[0;34m\u001b[0m\u001b[0m\n\u001b[1;32m   2650\u001b[0m                 \u001b[0mtitle\u001b[0m\u001b[0;34m.\u001b[0m\u001b[0mset_position\u001b[0m\u001b[0;34m(\u001b[0m\u001b[0;34m(\u001b[0m\u001b[0mx\u001b[0m\u001b[0;34m,\u001b[0m \u001b[0my\u001b[0m\u001b[0;34m)\u001b[0m\u001b[0;34m)\u001b[0m\u001b[0;34m\u001b[0m\u001b[0;34m\u001b[0m\u001b[0m\n",
      "\u001b[0;32m/usr/lib/python3.8/site-packages/matplotlib/text.py\u001b[0m in \u001b[0;36mget_window_extent\u001b[0;34m(self, renderer, dpi)\u001b[0m\n\u001b[1;32m    888\u001b[0m             \u001b[0;32mwith\u001b[0m \u001b[0mcbook\u001b[0m\u001b[0;34m.\u001b[0m\u001b[0m_setattr_cm\u001b[0m\u001b[0;34m(\u001b[0m\u001b[0mself\u001b[0m\u001b[0;34m.\u001b[0m\u001b[0mfigure\u001b[0m\u001b[0;34m,\u001b[0m \u001b[0mdpi\u001b[0m\u001b[0;34m=\u001b[0m\u001b[0mdpi\u001b[0m\u001b[0;34m)\u001b[0m\u001b[0;34m:\u001b[0m\u001b[0;34m\u001b[0m\u001b[0;34m\u001b[0m\u001b[0m\n\u001b[1;32m    889\u001b[0m                 \u001b[0mtx\u001b[0m\u001b[0;34m,\u001b[0m \u001b[0mty\u001b[0m \u001b[0;34m=\u001b[0m \u001b[0mself\u001b[0m\u001b[0;34m.\u001b[0m\u001b[0m_get_xy_display\u001b[0m\u001b[0;34m(\u001b[0m\u001b[0;34m)\u001b[0m\u001b[0;34m\u001b[0m\u001b[0;34m\u001b[0m\u001b[0m\n\u001b[0;32m--> 890\u001b[0;31m                 \u001b[0;32mreturn\u001b[0m \u001b[0mBbox\u001b[0m\u001b[0;34m.\u001b[0m\u001b[0mfrom_bounds\u001b[0m\u001b[0;34m(\u001b[0m\u001b[0mtx\u001b[0m\u001b[0;34m,\u001b[0m \u001b[0mty\u001b[0m\u001b[0;34m,\u001b[0m \u001b[0;36m0\u001b[0m\u001b[0;34m,\u001b[0m \u001b[0;36m0\u001b[0m\u001b[0;34m)\u001b[0m\u001b[0;34m\u001b[0m\u001b[0;34m\u001b[0m\u001b[0m\n\u001b[0m\u001b[1;32m    891\u001b[0m \u001b[0;34m\u001b[0m\u001b[0m\n\u001b[1;32m    892\u001b[0m         \u001b[0;32mif\u001b[0m \u001b[0mrenderer\u001b[0m \u001b[0;32mis\u001b[0m \u001b[0;32mnot\u001b[0m \u001b[0;32mNone\u001b[0m\u001b[0;34m:\u001b[0m\u001b[0;34m\u001b[0m\u001b[0;34m\u001b[0m\u001b[0m\n",
      "\u001b[0;32m/usr/lib/python3.8/site-packages/matplotlib/transforms.py\u001b[0m in \u001b[0;36mfrom_bounds\u001b[0;34m(x0, y0, width, height)\u001b[0m\n\u001b[1;32m    811\u001b[0m         \u001b[0;34m*\u001b[0m\u001b[0mwidth\u001b[0m\u001b[0;34m*\u001b[0m \u001b[0;32mand\u001b[0m \u001b[0;34m*\u001b[0m\u001b[0mheight\u001b[0m\u001b[0;34m*\u001b[0m \u001b[0mmay\u001b[0m \u001b[0mbe\u001b[0m \u001b[0mnegative\u001b[0m\u001b[0;34m.\u001b[0m\u001b[0;34m\u001b[0m\u001b[0;34m\u001b[0m\u001b[0m\n\u001b[1;32m    812\u001b[0m         \"\"\"\n\u001b[0;32m--> 813\u001b[0;31m         \u001b[0;32mreturn\u001b[0m \u001b[0mBbox\u001b[0m\u001b[0;34m.\u001b[0m\u001b[0mfrom_extents\u001b[0m\u001b[0;34m(\u001b[0m\u001b[0mx0\u001b[0m\u001b[0;34m,\u001b[0m \u001b[0my0\u001b[0m\u001b[0;34m,\u001b[0m \u001b[0mx0\u001b[0m \u001b[0;34m+\u001b[0m \u001b[0mwidth\u001b[0m\u001b[0;34m,\u001b[0m \u001b[0my0\u001b[0m \u001b[0;34m+\u001b[0m \u001b[0mheight\u001b[0m\u001b[0;34m)\u001b[0m\u001b[0;34m\u001b[0m\u001b[0;34m\u001b[0m\u001b[0m\n\u001b[0m\u001b[1;32m    814\u001b[0m \u001b[0;34m\u001b[0m\u001b[0m\n\u001b[1;32m    815\u001b[0m     \u001b[0;34m@\u001b[0m\u001b[0mstaticmethod\u001b[0m\u001b[0;34m\u001b[0m\u001b[0;34m\u001b[0m\u001b[0m\n",
      "\u001b[0;32m/usr/lib/python3.8/site-packages/matplotlib/transforms.py\u001b[0m in \u001b[0;36mfrom_extents\u001b[0;34m(*args)\u001b[0m\n\u001b[1;32m    820\u001b[0m         \u001b[0mThe\u001b[0m \u001b[0;34m*\u001b[0m\u001b[0my\u001b[0m\u001b[0;34m*\u001b[0m\u001b[0;34m-\u001b[0m\u001b[0maxis\u001b[0m \u001b[0mincreases\u001b[0m \u001b[0mupwards\u001b[0m\u001b[0;34m.\u001b[0m\u001b[0;34m\u001b[0m\u001b[0;34m\u001b[0m\u001b[0m\n\u001b[1;32m    821\u001b[0m         \"\"\"\n\u001b[0;32m--> 822\u001b[0;31m         \u001b[0;32mreturn\u001b[0m \u001b[0mBbox\u001b[0m\u001b[0;34m(\u001b[0m\u001b[0mnp\u001b[0m\u001b[0;34m.\u001b[0m\u001b[0mreshape\u001b[0m\u001b[0;34m(\u001b[0m\u001b[0margs\u001b[0m\u001b[0;34m,\u001b[0m \u001b[0;34m(\u001b[0m\u001b[0;36m2\u001b[0m\u001b[0;34m,\u001b[0m \u001b[0;36m2\u001b[0m\u001b[0;34m)\u001b[0m\u001b[0;34m)\u001b[0m\u001b[0;34m)\u001b[0m\u001b[0;34m\u001b[0m\u001b[0;34m\u001b[0m\u001b[0m\n\u001b[0m\u001b[1;32m    823\u001b[0m \u001b[0;34m\u001b[0m\u001b[0m\n\u001b[1;32m    824\u001b[0m     \u001b[0;32mdef\u001b[0m \u001b[0m__format__\u001b[0m\u001b[0;34m(\u001b[0m\u001b[0mself\u001b[0m\u001b[0;34m,\u001b[0m \u001b[0mfmt\u001b[0m\u001b[0;34m)\u001b[0m\u001b[0;34m:\u001b[0m\u001b[0;34m\u001b[0m\u001b[0;34m\u001b[0m\u001b[0m\n",
      "\u001b[0;32m<__array_function__ internals>\u001b[0m in \u001b[0;36mreshape\u001b[0;34m(*args, **kwargs)\u001b[0m\n",
      "\u001b[0;32m/usr/lib/python3.8/site-packages/numpy/core/fromnumeric.py\u001b[0m in \u001b[0;36mreshape\u001b[0;34m(a, newshape, order)\u001b[0m\n\u001b[1;32m    297\u001b[0m            [5, 6]])\n\u001b[1;32m    298\u001b[0m     \"\"\"\n\u001b[0;32m--> 299\u001b[0;31m     \u001b[0;32mreturn\u001b[0m \u001b[0m_wrapfunc\u001b[0m\u001b[0;34m(\u001b[0m\u001b[0ma\u001b[0m\u001b[0;34m,\u001b[0m \u001b[0;34m'reshape'\u001b[0m\u001b[0;34m,\u001b[0m \u001b[0mnewshape\u001b[0m\u001b[0;34m,\u001b[0m \u001b[0morder\u001b[0m\u001b[0;34m=\u001b[0m\u001b[0morder\u001b[0m\u001b[0;34m)\u001b[0m\u001b[0;34m\u001b[0m\u001b[0;34m\u001b[0m\u001b[0m\n\u001b[0m\u001b[1;32m    300\u001b[0m \u001b[0;34m\u001b[0m\u001b[0m\n\u001b[1;32m    301\u001b[0m \u001b[0;34m\u001b[0m\u001b[0m\n",
      "\u001b[0;32m/usr/lib/python3.8/site-packages/numpy/core/fromnumeric.py\u001b[0m in \u001b[0;36m_wrapfunc\u001b[0;34m(obj, method, *args, **kwds)\u001b[0m\n\u001b[1;32m     53\u001b[0m     \u001b[0mbound\u001b[0m \u001b[0;34m=\u001b[0m \u001b[0mgetattr\u001b[0m\u001b[0;34m(\u001b[0m\u001b[0mobj\u001b[0m\u001b[0;34m,\u001b[0m \u001b[0mmethod\u001b[0m\u001b[0;34m,\u001b[0m \u001b[0;32mNone\u001b[0m\u001b[0;34m)\u001b[0m\u001b[0;34m\u001b[0m\u001b[0;34m\u001b[0m\u001b[0m\n\u001b[1;32m     54\u001b[0m     \u001b[0;32mif\u001b[0m \u001b[0mbound\u001b[0m \u001b[0;32mis\u001b[0m \u001b[0;32mNone\u001b[0m\u001b[0;34m:\u001b[0m\u001b[0;34m\u001b[0m\u001b[0;34m\u001b[0m\u001b[0m\n\u001b[0;32m---> 55\u001b[0;31m         \u001b[0;32mreturn\u001b[0m \u001b[0m_wrapit\u001b[0m\u001b[0;34m(\u001b[0m\u001b[0mobj\u001b[0m\u001b[0;34m,\u001b[0m \u001b[0mmethod\u001b[0m\u001b[0;34m,\u001b[0m \u001b[0;34m*\u001b[0m\u001b[0margs\u001b[0m\u001b[0;34m,\u001b[0m \u001b[0;34m**\u001b[0m\u001b[0mkwds\u001b[0m\u001b[0;34m)\u001b[0m\u001b[0;34m\u001b[0m\u001b[0;34m\u001b[0m\u001b[0m\n\u001b[0m\u001b[1;32m     56\u001b[0m \u001b[0;34m\u001b[0m\u001b[0m\n\u001b[1;32m     57\u001b[0m     \u001b[0;32mtry\u001b[0m\u001b[0;34m:\u001b[0m\u001b[0;34m\u001b[0m\u001b[0;34m\u001b[0m\u001b[0m\n",
      "\u001b[0;32m/usr/lib/python3.8/site-packages/numpy/core/fromnumeric.py\u001b[0m in \u001b[0;36m_wrapit\u001b[0;34m(obj, method, *args, **kwds)\u001b[0m\n\u001b[1;32m     41\u001b[0m         \u001b[0mwrap\u001b[0m \u001b[0;34m=\u001b[0m \u001b[0mobj\u001b[0m\u001b[0;34m.\u001b[0m\u001b[0m__array_wrap__\u001b[0m\u001b[0;34m\u001b[0m\u001b[0;34m\u001b[0m\u001b[0m\n\u001b[1;32m     42\u001b[0m     \u001b[0;32mexcept\u001b[0m \u001b[0mAttributeError\u001b[0m\u001b[0;34m:\u001b[0m\u001b[0;34m\u001b[0m\u001b[0;34m\u001b[0m\u001b[0m\n\u001b[0;32m---> 43\u001b[0;31m         \u001b[0mwrap\u001b[0m \u001b[0;34m=\u001b[0m \u001b[0;32mNone\u001b[0m\u001b[0;34m\u001b[0m\u001b[0;34m\u001b[0m\u001b[0m\n\u001b[0m\u001b[1;32m     44\u001b[0m     \u001b[0mresult\u001b[0m \u001b[0;34m=\u001b[0m \u001b[0mgetattr\u001b[0m\u001b[0;34m(\u001b[0m\u001b[0masarray\u001b[0m\u001b[0;34m(\u001b[0m\u001b[0mobj\u001b[0m\u001b[0;34m)\u001b[0m\u001b[0;34m,\u001b[0m \u001b[0mmethod\u001b[0m\u001b[0;34m)\u001b[0m\u001b[0;34m(\u001b[0m\u001b[0;34m*\u001b[0m\u001b[0margs\u001b[0m\u001b[0;34m,\u001b[0m \u001b[0;34m**\u001b[0m\u001b[0mkwds\u001b[0m\u001b[0;34m)\u001b[0m\u001b[0;34m\u001b[0m\u001b[0;34m\u001b[0m\u001b[0m\n\u001b[1;32m     45\u001b[0m     \u001b[0;32mif\u001b[0m \u001b[0mwrap\u001b[0m\u001b[0;34m:\u001b[0m\u001b[0;34m\u001b[0m\u001b[0;34m\u001b[0m\u001b[0m\n",
      "\u001b[0;31mKeyboardInterrupt\u001b[0m: "
     ]
    },
    {
     "data": {
      "image/png": "[encoded data removed]",
      "text/plain": [
       "<Figure size 640x480 with 2 Axes>"
      ]
     },
     "metadata": {},
     "output_type": "display_data"
    }
   ],
   "source": [
    "tqdm.pandas()\n",
    "df_ini.progress_apply(plot_dataset, axis=1)"
   ]
  }
 ],
 "metadata": {
  "colab": {
   "collapsed_sections": [],
   "name": "data_parsing.ipynb",
   "provenance": []
  },
  "kernelspec": {
   "display_name": "Python 3",
   "language": "python",
   "name": "python3"
  },
  "language_info": {
   "codemirror_mode": {
    "name": "ipython",
    "version": 3
   },
   "file_extension": ".py",
   "mimetype": "text/x-python",
   "name": "python",
   "nbconvert_exporter": "python",
   "pygments_lexer": "ipython3",
   "version": "3.8.5"
  }
 },
 "nbformat": 4,
 "nbformat_minor": 1
}
