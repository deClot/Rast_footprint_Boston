{
 "cells": [
  {
   "cell_type": "code",
   "execution_count": 112,
   "metadata": {
    "colab": {},
    "colab_type": "code",
    "id": "aoURzhdL_7TF"
   },
   "outputs": [],
   "source": [
    "import geopandas as gpd # Для парсинга карты\n",
    "import pandas as pd\n",
    "import cudf\n",
    "\n",
    "import matplotlib.pyplot as plt # Для отрисовки\n",
    "from tqdm import tqdm\n",
    "\n",
    "import warnings\n",
    "warnings.filterwarnings('ignore')\n",
    "\n",
    "import IPython\n",
    "def display(*dfs):\n",
    "    for df in dfs:\n",
    "        IPython.display.display(df)"
   ]
  },
  {
   "cell_type": "code",
   "execution_count": 113,
   "metadata": {
    "colab": {},
    "colab_type": "code",
    "id": "2l-h_p7d_-bf"
   },
   "outputs": [],
   "source": [
    "# DATASET_FOLDER = 'drive/My Drive/dataset'\n",
    "# MAPS_FOLDER = f'{DATASET_FOLDER}/maps'\n",
    "\n",
    "MAPS_FOLDER = './boston_dataset_ini'"
   ]
  },
  {
   "cell_type": "code",
   "execution_count": 114,
   "metadata": {
    "colab": {
     "base_uri": "https://localhost:8080/",
     "height": 581
    },
    "colab_type": "code",
    "id": "h3BMEjwWAVtB",
    "outputId": "4d65f0c8-78ab-4b8a-d43e-0f9fd0b676f5"
   },
   "outputs": [
    {
     "name": "stdout",
     "output_type": "stream",
     "text": [
      "(129370, 29)\n"
     ]
    },
    {
     "data": {
      "text/html": [
       "<div>\n",
       "<style scoped>\n",
       "    .dataframe tbody tr th:only-of-type {\n",
       "        vertical-align: middle;\n",
       "    }\n",
       "\n",
       "    .dataframe tbody tr th {\n",
       "        vertical-align: top;\n",
       "    }\n",
       "\n",
       "    .dataframe thead th {\n",
       "        text-align: right;\n",
       "    }\n",
       "</style>\n",
       "<table border=\"1\" class=\"dataframe\">\n",
       "  <thead>\n",
       "    <tr style=\"text-align: right;\">\n",
       "      <th></th>\n",
       "      <th>BUILDING_I</th>\n",
       "      <th>PARCEL_ID</th>\n",
       "      <th>ADDRESS_ID</th>\n",
       "      <th>PART_ADDRE</th>\n",
       "      <th>PART_ID</th>\n",
       "      <th>PART_USE</th>\n",
       "      <th>PART_BRA_U</th>\n",
       "      <th>PART_CONTA</th>\n",
       "      <th>PART_STATU</th>\n",
       "      <th>PART_VIEW</th>\n",
       "      <th>...</th>\n",
       "      <th>BUILDING_H</th>\n",
       "      <th>IEL_TYPE</th>\n",
       "      <th>BASE_ELEVA</th>\n",
       "      <th>ELEVATION_</th>\n",
       "      <th>TOP_SEA_LE</th>\n",
       "      <th>ELEVATION1</th>\n",
       "      <th>TOP_GROUND</th>\n",
       "      <th>Shape_area</th>\n",
       "      <th>Shape_len</th>\n",
       "      <th>geometry</th>\n",
       "    </tr>\n",
       "  </thead>\n",
       "  <tbody>\n",
       "    <tr>\n",
       "      <th>0</th>\n",
       "      <td>Bos_2205632000_B0</td>\n",
       "      <td>2205632000</td>\n",
       "      <td>2205632000_A0</td>\n",
       "      <td>68 KENRICK ST, 02135</td>\n",
       "      <td>Bos_2205632000_B0_M0</td>\n",
       "      <td>R1</td>\n",
       "      <td>R1</td>\n",
       "      <td>MCNAMARA ROBERT O</td>\n",
       "      <td>BUILT</td>\n",
       "      <td>PUBLIC</td>\n",
       "      <td>...</td>\n",
       "      <td>16.890698</td>\n",
       "      <td>BLDG</td>\n",
       "      <td>55.365665</td>\n",
       "      <td>70.138047</td>\n",
       "      <td>74.846878</td>\n",
       "      <td>14.772382</td>\n",
       "      <td>19.481212</td>\n",
       "      <td>1161.397293</td>\n",
       "      <td>149.394841</td>\n",
       "      <td>POLYGON Z ((746591.271 2951419.399 69.207, 746...</td>\n",
       "    </tr>\n",
       "    <tr>\n",
       "      <th>1</th>\n",
       "      <td>Bos_2102861000_B1</td>\n",
       "      <td>2102861000</td>\n",
       "      <td>2102861000_A0</td>\n",
       "      <td>53 CHESTNUT HILL AV, 02135</td>\n",
       "      <td>Bos_2102861000_B1_M0</td>\n",
       "      <td>R2</td>\n",
       "      <td>R2</td>\n",
       "      <td>CUNNINGHAM JOHN J</td>\n",
       "      <td>BUILT</td>\n",
       "      <td>PUBLIC</td>\n",
       "      <td>...</td>\n",
       "      <td>36.756003</td>\n",
       "      <td>BLDG</td>\n",
       "      <td>129.925217</td>\n",
       "      <td>137.779148</td>\n",
       "      <td>146.070301</td>\n",
       "      <td>7.853931</td>\n",
       "      <td>16.145084</td>\n",
       "      <td>549.002100</td>\n",
       "      <td>96.663101</td>\n",
       "      <td>POLYGON Z ((749810.012 2951406.252 137.778, 74...</td>\n",
       "    </tr>\n",
       "    <tr>\n",
       "      <th>2</th>\n",
       "      <td>Bos_2204921000_B0</td>\n",
       "      <td>2204921000</td>\n",
       "      <td>2204921000_A0</td>\n",
       "      <td>97 ACADEMY HILL RD, 02135</td>\n",
       "      <td>Bos_2204921000_B0_M0</td>\n",
       "      <td>R2</td>\n",
       "      <td>R2</td>\n",
       "      <td>KEEFE EDWARD J</td>\n",
       "      <td>BUILT</td>\n",
       "      <td>PUBLIC</td>\n",
       "      <td>...</td>\n",
       "      <td>21.713000</td>\n",
       "      <td>BLDG</td>\n",
       "      <td>162.142441</td>\n",
       "      <td>184.654210</td>\n",
       "      <td>190.966186</td>\n",
       "      <td>22.511769</td>\n",
       "      <td>28.823745</td>\n",
       "      <td>1456.043245</td>\n",
       "      <td>181.859296</td>\n",
       "      <td>POLYGON Z ((749458.573 2951325.510 175.721, 74...</td>\n",
       "    </tr>\n",
       "    <tr>\n",
       "      <th>3</th>\n",
       "      <td>Bos_2102862000_B1</td>\n",
       "      <td>2102862000</td>\n",
       "      <td>2102862000_A0</td>\n",
       "      <td>55 CHESTNUT HILL AV, 02135</td>\n",
       "      <td>Bos_2102862000_B1_M0</td>\n",
       "      <td>R3</td>\n",
       "      <td>R3</td>\n",
       "      <td>CUNNINGHAM JOHN J</td>\n",
       "      <td>BUILT</td>\n",
       "      <td>PUBLIC</td>\n",
       "      <td>...</td>\n",
       "      <td>22.761005</td>\n",
       "      <td>BLDG</td>\n",
       "      <td>131.035858</td>\n",
       "      <td>152.578506</td>\n",
       "      <td>161.123235</td>\n",
       "      <td>21.542647</td>\n",
       "      <td>30.087377</td>\n",
       "      <td>982.054372</td>\n",
       "      <td>135.393057</td>\n",
       "      <td>POLYGON Z ((749791.436 2951364.987 144.628, 74...</td>\n",
       "    </tr>\n",
       "    <tr>\n",
       "      <th>4</th>\n",
       "      <td>Bos_2102870000_B0</td>\n",
       "      <td>2102870000</td>\n",
       "      <td>2102870000_A0</td>\n",
       "      <td>15 WM JACKSON AV, 02135</td>\n",
       "      <td>Bos_2102870000_B0_M0</td>\n",
       "      <td>R1</td>\n",
       "      <td>R1</td>\n",
       "      <td>YUNG JIN P</td>\n",
       "      <td>BUILT</td>\n",
       "      <td>PUBLIC</td>\n",
       "      <td>...</td>\n",
       "      <td>20.348997</td>\n",
       "      <td>BLDG</td>\n",
       "      <td>170.059418</td>\n",
       "      <td>184.541181</td>\n",
       "      <td>196.525357</td>\n",
       "      <td>14.481763</td>\n",
       "      <td>26.465939</td>\n",
       "      <td>1167.143115</td>\n",
       "      <td>149.400957</td>\n",
       "      <td>POLYGON Z ((749737.548 2951033.339 183.535, 74...</td>\n",
       "    </tr>\n",
       "  </tbody>\n",
       "</table>\n",
       "<p>5 rows × 29 columns</p>\n",
       "</div>"
      ],
      "text/plain": [
       "          BUILDING_I   PARCEL_ID     ADDRESS_ID                  PART_ADDRE  \\\n",
       "0  Bos_2205632000_B0  2205632000  2205632000_A0        68 KENRICK ST, 02135   \n",
       "1  Bos_2102861000_B1  2102861000  2102861000_A0  53 CHESTNUT HILL AV, 02135   \n",
       "2  Bos_2204921000_B0  2204921000  2204921000_A0   97 ACADEMY HILL RD, 02135   \n",
       "3  Bos_2102862000_B1  2102862000  2102862000_A0  55 CHESTNUT HILL AV, 02135   \n",
       "4  Bos_2102870000_B0  2102870000  2102870000_A0     15 WM JACKSON AV, 02135   \n",
       "\n",
       "                PART_ID PART_USE PART_BRA_U         PART_CONTA PART_STATU  \\\n",
       "0  Bos_2205632000_B0_M0       R1         R1  MCNAMARA ROBERT O      BUILT   \n",
       "1  Bos_2102861000_B1_M0       R2         R2  CUNNINGHAM JOHN J      BUILT   \n",
       "2  Bos_2204921000_B0_M0       R2         R2     KEEFE EDWARD J      BUILT   \n",
       "3  Bos_2102862000_B1_M0       R3         R3  CUNNINGHAM JOHN J      BUILT   \n",
       "4  Bos_2102870000_B0_M0       R1         R1         YUNG JIN P      BUILT   \n",
       "\n",
       "  PART_VIEW  ...  BUILDING_H  IEL_TYPE  BASE_ELEVA  ELEVATION_  TOP_SEA_LE  \\\n",
       "0    PUBLIC  ...   16.890698      BLDG   55.365665   70.138047   74.846878   \n",
       "1    PUBLIC  ...   36.756003      BLDG  129.925217  137.779148  146.070301   \n",
       "2    PUBLIC  ...   21.713000      BLDG  162.142441  184.654210  190.966186   \n",
       "3    PUBLIC  ...   22.761005      BLDG  131.035858  152.578506  161.123235   \n",
       "4    PUBLIC  ...   20.348997      BLDG  170.059418  184.541181  196.525357   \n",
       "\n",
       "   ELEVATION1  TOP_GROUND   Shape_area   Shape_len  \\\n",
       "0   14.772382   19.481212  1161.397293  149.394841   \n",
       "1    7.853931   16.145084   549.002100   96.663101   \n",
       "2   22.511769   28.823745  1456.043245  181.859296   \n",
       "3   21.542647   30.087377   982.054372  135.393057   \n",
       "4   14.481763   26.465939  1167.143115  149.400957   \n",
       "\n",
       "                                            geometry  \n",
       "0  POLYGON Z ((746591.271 2951419.399 69.207, 746...  \n",
       "1  POLYGON Z ((749810.012 2951406.252 137.778, 74...  \n",
       "2  POLYGON Z ((749458.573 2951325.510 175.721, 74...  \n",
       "3  POLYGON Z ((749791.436 2951364.987 144.628, 74...  \n",
       "4  POLYGON Z ((749737.548 2951033.339 183.535, 74...  \n",
       "\n",
       "[5 rows x 29 columns]"
      ]
     },
     "execution_count": 114,
     "metadata": {},
     "output_type": "execute_result"
    }
   ],
   "source": [
    "# builds = gpd.read_file(f'{MAPS_FOLDER}/building/boston_buildings.shp')\n",
    "builds = gpd.read_file(f'{MAPS_FOLDER}/building/boston_buildings.shp')\n",
    "print(builds.shape)\n",
    "builds.head()"
   ]
  },
  {
   "cell_type": "code",
   "execution_count": 115,
   "metadata": {
    "colab": {},
    "colab_type": "code",
    "id": "orWZVLjBKazQ"
   },
   "outputs": [],
   "source": [
    "# Пропуски в участках\n",
    "builds = builds[builds.PARCEL_ID.notna()]\n",
    "# Выбрасываем участки с количеством домов больше 1 (17 from 130 *10^3)\n",
    "buildings_ids = builds.PARCEL_ID.value_counts()[builds.PARCEL_ID.value_counts() > 1].index\n",
    "builds = builds[~builds.PARCEL_ID.isin(buildings_ids)]\n",
    "# Выбрасываем дважды зарегестрированные дома\n",
    "buildings_ids = builds.BUILDING_I.value_counts()[builds.BUILDING_I.value_counts()>1].index\n",
    "builds = builds[~builds.BUILDING_I.isin(buildings_ids)]\n",
    "# Убираем пропуски в форме здания  и в типе здания\n",
    "builds = builds[builds.geometry.notna()]\n",
    "builds = builds[builds.PART_STATU.notna()]\n",
    "# Количество уникальных участков совпадает с количеством наблюдений\n",
    "assert builds.PARCEL_ID.nunique() == builds.shape[0]"
   ]
  },
  {
   "cell_type": "code",
   "execution_count": 116,
   "metadata": {
    "colab": {
     "base_uri": "https://localhost:8080/",
     "height": 289
    },
    "colab_type": "code",
    "id": "eJdeQhAFEo3m",
    "outputId": "5bae249f-71e8-4eec-833e-809abf91c0b5"
   },
   "outputs": [
    {
     "data": {
      "text/html": [
       "<div>\n",
       "<style scoped>\n",
       "    .dataframe tbody tr th:only-of-type {\n",
       "        vertical-align: middle;\n",
       "    }\n",
       "\n",
       "    .dataframe tbody tr th {\n",
       "        vertical-align: top;\n",
       "    }\n",
       "\n",
       "    .dataframe thead th {\n",
       "        text-align: right;\n",
       "    }\n",
       "</style>\n",
       "<table border=\"1\" class=\"dataframe\">\n",
       "  <thead>\n",
       "    <tr style=\"text-align: right;\">\n",
       "      <th></th>\n",
       "      <th>WARD</th>\n",
       "      <th>PARCEL</th>\n",
       "      <th>PID_LONG</th>\n",
       "      <th>WPD</th>\n",
       "      <th>BATCH</th>\n",
       "      <th>SHAPE_area</th>\n",
       "      <th>SHAPE_len</th>\n",
       "      <th>geometry</th>\n",
       "    </tr>\n",
       "  </thead>\n",
       "  <tbody>\n",
       "    <tr>\n",
       "      <th>0</th>\n",
       "      <td>14</td>\n",
       "      <td>2056</td>\n",
       "      <td>1402056000</td>\n",
       "      <td>14-02-105</td>\n",
       "      <td>0</td>\n",
       "      <td>5757.493630</td>\n",
       "      <td>315.033758</td>\n",
       "      <td>POLYGON ((769130.915 2932963.653, 769077.636 2...</td>\n",
       "    </tr>\n",
       "    <tr>\n",
       "      <th>1</th>\n",
       "      <td>14</td>\n",
       "      <td>2062</td>\n",
       "      <td>1402062000</td>\n",
       "      <td>14-02-105</td>\n",
       "      <td>0</td>\n",
       "      <td>15992.697124</td>\n",
       "      <td>504.383439</td>\n",
       "      <td>POLYGON ((768725.435 2932877.770, 768724.966 2...</td>\n",
       "    </tr>\n",
       "    <tr>\n",
       "      <th>2</th>\n",
       "      <td>14</td>\n",
       "      <td>2031</td>\n",
       "      <td>1402031000</td>\n",
       "      <td>14-02-105</td>\n",
       "      <td>0</td>\n",
       "      <td>6848.300234</td>\n",
       "      <td>374.282334</td>\n",
       "      <td>POLYGON ((768817.544 2933017.601, 768791.533 2...</td>\n",
       "    </tr>\n",
       "    <tr>\n",
       "      <th>3</th>\n",
       "      <td>20</td>\n",
       "      <td>11758-10</td>\n",
       "      <td>2011758010</td>\n",
       "      <td>20-03-011</td>\n",
       "      <td>0</td>\n",
       "      <td>13714.523754</td>\n",
       "      <td>504.092976</td>\n",
       "      <td>POLYGON ((749271.802 2918978.927, 749392.524 2...</td>\n",
       "    </tr>\n",
       "    <tr>\n",
       "      <th>4</th>\n",
       "      <td>20</td>\n",
       "      <td>11760</td>\n",
       "      <td>2011760000</td>\n",
       "      <td>20-03-011</td>\n",
       "      <td>0</td>\n",
       "      <td>14186.845679</td>\n",
       "      <td>500.495781</td>\n",
       "      <td>POLYGON ((749411.968 2919142.915, 749259.493 2...</td>\n",
       "    </tr>\n",
       "  </tbody>\n",
       "</table>\n",
       "</div>"
      ],
      "text/plain": [
       "   WARD    PARCEL    PID_LONG        WPD  BATCH    SHAPE_area   SHAPE_len  \\\n",
       "0    14      2056  1402056000  14-02-105      0   5757.493630  315.033758   \n",
       "1    14      2062  1402062000  14-02-105      0  15992.697124  504.383439   \n",
       "2    14      2031  1402031000  14-02-105      0   6848.300234  374.282334   \n",
       "3    20  11758-10  2011758010  20-03-011      0  13714.523754  504.092976   \n",
       "4    20     11760  2011760000  20-03-011      0  14186.845679  500.495781   \n",
       "\n",
       "                                            geometry  \n",
       "0  POLYGON ((769130.915 2932963.653, 769077.636 2...  \n",
       "1  POLYGON ((768725.435 2932877.770, 768724.966 2...  \n",
       "2  POLYGON ((768817.544 2933017.601, 768791.533 2...  \n",
       "3  POLYGON ((749271.802 2918978.927, 749392.524 2...  \n",
       "4  POLYGON ((749411.968 2919142.915, 749259.493 2...  "
      ]
     },
     "execution_count": 116,
     "metadata": {},
     "output_type": "execute_result"
    }
   ],
   "source": [
    "places = gpd.read_file(f'{MAPS_FOLDER}/parcels/parcels_14.shp')\n",
    "places.head()"
   ]
  },
  {
   "cell_type": "code",
   "execution_count": 117,
   "metadata": {
    "colab": {},
    "colab_type": "code",
    "id": "jcfci6GwEXQL"
   },
   "outputs": [],
   "source": [
    "# Участи, зарегестрированные более 1 раза\n",
    "place_ids = places.PID_LONG.value_counts()[places.PID_LONG.value_counts() >1].index\n",
    "places = places[~places.PID_LONG.isin(place_ids)]\n",
    "# Участки с пропусками\n",
    "places = places[places.PID_LONG.notna()]\n",
    "# Количество уникальных участков совпадает с количеством наблюдений\n",
    "assert places.shape[0] == places.PID_LONG.nunique()"
   ]
  },
  {
   "cell_type": "code",
   "execution_count": 118,
   "metadata": {
    "colab": {
     "base_uri": "https://localhost:8080/",
     "height": 34
    },
    "colab_type": "code",
    "id": "c0rXMBDSNx9l",
    "outputId": "6efacdd0-9530-4413-e488-0b38bb29858e"
   },
   "outputs": [
    {
     "data": {
      "text/plain": [
       "((71706, 29), (99241, 8))"
      ]
     },
     "execution_count": 118,
     "metadata": {},
     "output_type": "execute_result"
    }
   ],
   "source": [
    "builds.shape, places.shape"
   ]
  },
  {
   "cell_type": "code",
   "execution_count": 119,
   "metadata": {
    "colab": {
     "base_uri": "https://localhost:8080/",
     "height": 51
    },
    "colab_type": "code",
    "id": "fj1o4cPrBi6_",
    "outputId": "56322cac-f0c1-4008-c874-b4d99fa18202"
   },
   "outputs": [
    {
     "name": "stdout",
     "output_type": "stream",
     "text": [
      "(99241, 8) (71706, 29)\n",
      "buildings on places 71210\n"
     ]
    }
   ],
   "source": [
    "print(places.shape, builds.shape)\n",
    "print('buildings on places', builds.PARCEL_ID.isin(places.PID_LONG.unique()).sum())"
   ]
  },
  {
   "cell_type": "code",
   "execution_count": 120,
   "metadata": {
    "colab": {
     "base_uri": "https://localhost:8080/",
     "height": 479
    },
    "colab_type": "code",
    "id": "EBnqfhG5Dwrx",
    "outputId": "d80951b4-87dd-4c9e-fb62-1967ed38cfc2"
   },
   "outputs": [
    {
     "data": {
      "text/html": [
       "<div>\n",
       "<style scoped>\n",
       "    .dataframe tbody tr th:only-of-type {\n",
       "        vertical-align: middle;\n",
       "    }\n",
       "\n",
       "    .dataframe tbody tr th {\n",
       "        vertical-align: top;\n",
       "    }\n",
       "\n",
       "    .dataframe thead th {\n",
       "        text-align: right;\n",
       "    }\n",
       "</style>\n",
       "<table border=\"1\" class=\"dataframe\">\n",
       "  <thead>\n",
       "    <tr style=\"text-align: right;\">\n",
       "      <th></th>\n",
       "      <th>BUILDING_I</th>\n",
       "      <th>PARCEL_ID</th>\n",
       "      <th>ADDRESS_ID</th>\n",
       "      <th>PART_ADDRE</th>\n",
       "      <th>PART_ID</th>\n",
       "      <th>PART_USE</th>\n",
       "      <th>PART_BRA_U</th>\n",
       "      <th>PART_CONTA</th>\n",
       "      <th>PART_STATU</th>\n",
       "      <th>PART_VIEW</th>\n",
       "      <th>...</th>\n",
       "      <th>Shape_len</th>\n",
       "      <th>geometry_building</th>\n",
       "      <th>WARD</th>\n",
       "      <th>PARCEL</th>\n",
       "      <th>PID_LONG</th>\n",
       "      <th>WPD</th>\n",
       "      <th>BATCH</th>\n",
       "      <th>SHAPE_area</th>\n",
       "      <th>SHAPE_len</th>\n",
       "      <th>geometry_place</th>\n",
       "    </tr>\n",
       "  </thead>\n",
       "  <tbody>\n",
       "    <tr>\n",
       "      <th>0</th>\n",
       "      <td>Bos_2205632000_B0</td>\n",
       "      <td>2205632000</td>\n",
       "      <td>2205632000_A0</td>\n",
       "      <td>68 KENRICK ST, 02135</td>\n",
       "      <td>Bos_2205632000_B0_M0</td>\n",
       "      <td>R1</td>\n",
       "      <td>R1</td>\n",
       "      <td>MCNAMARA ROBERT O</td>\n",
       "      <td>BUILT</td>\n",
       "      <td>PUBLIC</td>\n",
       "      <td>...</td>\n",
       "      <td>149.394841</td>\n",
       "      <td>POLYGON Z ((746591.271 2951419.399 69.207, 746...</td>\n",
       "      <td>22</td>\n",
       "      <td>5632</td>\n",
       "      <td>2205632000</td>\n",
       "      <td>22-08-060</td>\n",
       "      <td>0</td>\n",
       "      <td>6147.989082</td>\n",
       "      <td>325.006781</td>\n",
       "      <td>POLYGON ((746621.759 2951435.076, 746611.102 2...</td>\n",
       "    </tr>\n",
       "    <tr>\n",
       "      <th>1</th>\n",
       "      <td>Bos_2204921000_B0</td>\n",
       "      <td>2204921000</td>\n",
       "      <td>2204921000_A0</td>\n",
       "      <td>97 ACADEMY HILL RD, 02135</td>\n",
       "      <td>Bos_2204921000_B0_M0</td>\n",
       "      <td>R2</td>\n",
       "      <td>R2</td>\n",
       "      <td>KEEFE EDWARD J</td>\n",
       "      <td>BUILT</td>\n",
       "      <td>PUBLIC</td>\n",
       "      <td>...</td>\n",
       "      <td>181.859296</td>\n",
       "      <td>POLYGON Z ((749458.573 2951325.510 175.721, 74...</td>\n",
       "      <td>22</td>\n",
       "      <td>4921</td>\n",
       "      <td>2204921000</td>\n",
       "      <td>22-09-020</td>\n",
       "      <td>0</td>\n",
       "      <td>8083.907188</td>\n",
       "      <td>362.749418</td>\n",
       "      <td>POLYGON ((749402.010 2951291.513, 749435.010 2...</td>\n",
       "    </tr>\n",
       "    <tr>\n",
       "      <th>2</th>\n",
       "      <td>Bos_2102870000_B0</td>\n",
       "      <td>2102870000</td>\n",
       "      <td>2102870000_A0</td>\n",
       "      <td>15 WM JACKSON AV, 02135</td>\n",
       "      <td>Bos_2102870000_B0_M0</td>\n",
       "      <td>R1</td>\n",
       "      <td>R1</td>\n",
       "      <td>YUNG JIN P</td>\n",
       "      <td>BUILT</td>\n",
       "      <td>PUBLIC</td>\n",
       "      <td>...</td>\n",
       "      <td>149.400957</td>\n",
       "      <td>POLYGON Z ((749737.548 2951033.339 183.535, 74...</td>\n",
       "      <td>21</td>\n",
       "      <td>2870</td>\n",
       "      <td>2102870000</td>\n",
       "      <td>21-13-005</td>\n",
       "      <td>0</td>\n",
       "      <td>4271.789581</td>\n",
       "      <td>421.615170</td>\n",
       "      <td>POLYGON ((749743.230 2950985.758, 749714.095 2...</td>\n",
       "    </tr>\n",
       "    <tr>\n",
       "      <th>3</th>\n",
       "      <td>Bos_2102857000_B0</td>\n",
       "      <td>2102857000</td>\n",
       "      <td>2102857000_A0</td>\n",
       "      <td>86 ACADEMY HILL RD, 02135</td>\n",
       "      <td>Bos_2102857000_B0_M0</td>\n",
       "      <td>R2</td>\n",
       "      <td>R2</td>\n",
       "      <td>JOE CAROL</td>\n",
       "      <td>BUILT</td>\n",
       "      <td>PUBLIC</td>\n",
       "      <td>...</td>\n",
       "      <td>184.331184</td>\n",
       "      <td>POLYGON Z ((749675.844 2951369.308 177.057, 74...</td>\n",
       "      <td>21</td>\n",
       "      <td>2857</td>\n",
       "      <td>2102857000</td>\n",
       "      <td>21-13-005</td>\n",
       "      <td>0</td>\n",
       "      <td>9911.996103</td>\n",
       "      <td>466.564661</td>\n",
       "      <td>POLYGON ((749750.445 2951355.464, 749741.850 2...</td>\n",
       "    </tr>\n",
       "    <tr>\n",
       "      <th>4</th>\n",
       "      <td>Bos_2102856000_B0</td>\n",
       "      <td>2102856000</td>\n",
       "      <td>2102856000_A0</td>\n",
       "      <td>90 ACADEMY HILL RD, 02135</td>\n",
       "      <td>Bos_2102856000_B0_M0</td>\n",
       "      <td>R2</td>\n",
       "      <td>R2</td>\n",
       "      <td>KRIZAN MAGDA</td>\n",
       "      <td>BUILT</td>\n",
       "      <td>PUBLIC</td>\n",
       "      <td>...</td>\n",
       "      <td>181.610025</td>\n",
       "      <td>POLYGON Z ((749656.610 2951320.949 183.698, 74...</td>\n",
       "      <td>21</td>\n",
       "      <td>2856</td>\n",
       "      <td>2102856000</td>\n",
       "      <td>21-13-005</td>\n",
       "      <td>0</td>\n",
       "      <td>7543.744282</td>\n",
       "      <td>434.782996</td>\n",
       "      <td>POLYGON ((749737.693 2951282.616, 749733.662 2...</td>\n",
       "    </tr>\n",
       "  </tbody>\n",
       "</table>\n",
       "<p>5 rows × 37 columns</p>\n",
       "</div>"
      ],
      "text/plain": [
       "          BUILDING_I   PARCEL_ID     ADDRESS_ID                 PART_ADDRE  \\\n",
       "0  Bos_2205632000_B0  2205632000  2205632000_A0       68 KENRICK ST, 02135   \n",
       "1  Bos_2204921000_B0  2204921000  2204921000_A0  97 ACADEMY HILL RD, 02135   \n",
       "2  Bos_2102870000_B0  2102870000  2102870000_A0    15 WM JACKSON AV, 02135   \n",
       "3  Bos_2102857000_B0  2102857000  2102857000_A0  86 ACADEMY HILL RD, 02135   \n",
       "4  Bos_2102856000_B0  2102856000  2102856000_A0  90 ACADEMY HILL RD, 02135   \n",
       "\n",
       "                PART_ID PART_USE PART_BRA_U         PART_CONTA PART_STATU  \\\n",
       "0  Bos_2205632000_B0_M0       R1         R1  MCNAMARA ROBERT O      BUILT   \n",
       "1  Bos_2204921000_B0_M0       R2         R2     KEEFE EDWARD J      BUILT   \n",
       "2  Bos_2102870000_B0_M0       R1         R1         YUNG JIN P      BUILT   \n",
       "3  Bos_2102857000_B0_M0       R2         R2          JOE CAROL      BUILT   \n",
       "4  Bos_2102856000_B0_M0       R2         R2       KRIZAN MAGDA      BUILT   \n",
       "\n",
       "  PART_VIEW  ...   Shape_len  \\\n",
       "0    PUBLIC  ...  149.394841   \n",
       "1    PUBLIC  ...  181.859296   \n",
       "2    PUBLIC  ...  149.400957   \n",
       "3    PUBLIC  ...  184.331184   \n",
       "4    PUBLIC  ...  181.610025   \n",
       "\n",
       "                                   geometry_building  WARD PARCEL    PID_LONG  \\\n",
       "0  POLYGON Z ((746591.271 2951419.399 69.207, 746...    22   5632  2205632000   \n",
       "1  POLYGON Z ((749458.573 2951325.510 175.721, 74...    22   4921  2204921000   \n",
       "2  POLYGON Z ((749737.548 2951033.339 183.535, 74...    21   2870  2102870000   \n",
       "3  POLYGON Z ((749675.844 2951369.308 177.057, 74...    21   2857  2102857000   \n",
       "4  POLYGON Z ((749656.610 2951320.949 183.698, 74...    21   2856  2102856000   \n",
       "\n",
       "         WPD  BATCH   SHAPE_area   SHAPE_len  \\\n",
       "0  22-08-060      0  6147.989082  325.006781   \n",
       "1  22-09-020      0  8083.907188  362.749418   \n",
       "2  21-13-005      0  4271.789581  421.615170   \n",
       "3  21-13-005      0  9911.996103  466.564661   \n",
       "4  21-13-005      0  7543.744282  434.782996   \n",
       "\n",
       "                                      geometry_place  \n",
       "0  POLYGON ((746621.759 2951435.076, 746611.102 2...  \n",
       "1  POLYGON ((749402.010 2951291.513, 749435.010 2...  \n",
       "2  POLYGON ((749743.230 2950985.758, 749714.095 2...  \n",
       "3  POLYGON ((749750.445 2951355.464, 749741.850 2...  \n",
       "4  POLYGON ((749737.693 2951282.616, 749733.662 2...  \n",
       "\n",
       "[5 rows x 37 columns]"
      ]
     },
     "execution_count": 120,
     "metadata": {},
     "output_type": "execute_result"
    }
   ],
   "source": [
    "df_ini = builds.merge(places,  left_on='PARCEL_ID', right_on='PID_LONG', how='inner')\n",
    "df_ini.rename(columns={'geometry_x': 'geometry_building',\n",
    "                       'geometry_y': 'geometry_place'},\n",
    "              inplace=True)\n",
    "# df_ini[['geometry_building', 'geometry_place']] = \\\n",
    "#     df_ini[['geometry_building', 'geometry_place']].astype('object')\n",
    "df_ini.head()"
   ]
  },
  {
   "cell_type": "code",
   "execution_count": 121,
   "metadata": {},
   "outputs": [],
   "source": [
    "df_ini = df_ini[df_ini.geometry_place.apply( \\\n",
    "            lambda x: x.geom_type) != 'MultiPolygon']\n",
    "right_location = df_ini.apply(lambda x: \\\n",
    "                      x.geometry_building.within(x.geometry_place),\\\n",
    "                          axis=1)\n",
    "df_ini = df_ini[right_location]"
   ]
  },
  {
   "cell_type": "code",
   "execution_count": 122,
   "metadata": {},
   "outputs": [
    {
     "name": "stderr",
     "output_type": "stream",
     "text": [
      "100%|██████████| 47186/47186 [00:05<00:00, 8475.64it/s] \n"
     ]
    },
    {
     "data": {
      "text/plain": [
       "0        [[746591.2708547711, 746595.948995024, 746607....\n",
       "1        [[749458.5731910318, 749459.8156426102, 749466...\n",
       "2        [[749737.5483548641, 749738.5240746886, 749736...\n",
       "3        [[749675.8437538594, 749670.2076102793, 749662...\n",
       "5        [[749629.7231111974, 749622.379293859, 749629....\n",
       "                               ...                        \n",
       "71189    [[773261.6492724419, 773245.5859843642, 773233...\n",
       "71191    [[775884.1177807748, 775878.3175955266, 775878...\n",
       "71198    [[757958.7766630203, 757954.6923536062, 757951...\n",
       "71199    [[775760.3109417707, 775752.6406815201, 775752...\n",
       "71207    [[777191.655191943, 777252.4247554392, 777261....\n",
       "Length: 47186, dtype: object"
      ]
     },
     "execution_count": 122,
     "metadata": {},
     "output_type": "execute_result"
    }
   ],
   "source": [
    "tqdm.pandas()\n",
    "df_ini.progress_apply(lambda x: np.array(x.geometry_building.exterior.coords.xy),\\\n",
    "             axis=1)"
   ]
  },
  {
   "cell_type": "code",
   "execution_count": 123,
   "metadata": {},
   "outputs": [],
   "source": [
    "df_ini[['building_x']] = \\\n",
    "        df_ini.apply(lambda x: np.array(x.geometry_building.exterior.coords.xy),\\\n",
    "             axis=1)\n",
    "df_ini[['place_x']] = \\\n",
    "        df_ini.apply(lambda x: np.array(x.geometry_place.exterior.coords.xy),\\\n",
    "             axis=1)"
   ]
  },
  {
   "cell_type": "code",
   "execution_count": 124,
   "metadata": {},
   "outputs": [],
   "source": [
    "df_ini['building_y'] = df_ini['building_x'].apply(lambda x: x[1])\n",
    "df_ini['building_x'] = df_ini['building_x'].apply(lambda x: x[0])\n",
    "\n",
    "df_ini['place_y'] = df_ini['place_x'].apply(lambda x: x[1])\n",
    "df_ini['place_x'] = df_ini['place_x'].apply(lambda x: x[0])"
   ]
  },
  {
   "cell_type": "code",
   "execution_count": 125,
   "metadata": {},
   "outputs": [],
   "source": [
    "df_ini.drop(columns=['geometry_building', 'geometry_place'], inplace=True)"
   ]
  },
  {
   "cell_type": "code",
   "execution_count": 126,
   "metadata": {},
   "outputs": [],
   "source": [
    "df_ini = cudf.DataFrame.from_pandas(df_ini)\n",
    "type(df_ini)"
   ]
  },
  {
   "cell_type": "code",
   "execution_count": 128,
   "metadata": {},
   "outputs": [
    {
     "data": {
      "text/plain": [
       "cudf.core.dataframe.DataFrame"
      ]
     },
     "execution_count": 128,
     "metadata": {},
     "output_type": "execute_result"
    }
   ],
   "source": [
    "type(df_ini)"
   ]
  },
  {
   "cell_type": "code",
   "execution_count": 129,
   "metadata": {
    "colab": {
     "base_uri": "https://localhost:8080/",
     "height": 102
    },
    "colab_type": "code",
    "id": "d9vBzgB3St6H",
    "outputId": "f3b015fb-c053-41a9-8865-b13a9cbd7852"
   },
   "outputs": [
    {
     "name": "stdout",
     "output_type": "stream",
     "text": [
      "PART_VIEW 1\n",
      "PART_USE 14\n",
      "PART_CONTA 44548\n",
      "PART_ADDRE 46989\n",
      "PART_FLOOR 41\n"
     ]
    }
   ],
   "source": [
    "features = ['PART_VIEW', 'PART_USE', 'PART_CONTA', 'PART_ADDRE', 'PART_FLOOR']\n",
    "for f in features:\n",
    "    print(f, df_ini[f].nunique())"
   ]
  },
  {
   "cell_type": "code",
   "execution_count": 161,
   "metadata": {},
   "outputs": [
    {
     "data": {
      "text/plain": [
       "0    [746591.2708547711, 746595.948995024, 746607.6...\n",
       "Name: building_x, dtype: list"
      ]
     },
     "execution_count": 161,
     "metadata": {},
     "output_type": "execute_result"
    }
   ],
   "source": [
    "df['building_x'].loc[0:0]"
   ]
  },
  {
   "cell_type": "code",
   "execution_count": 159,
   "metadata": {
    "colab": {
     "base_uri": "https://localhost:8080/",
     "height": 248
    },
    "colab_type": "code",
    "id": "bcNQjUoETp5B",
    "outputId": "5a1e52c5-2d34-408d-f725-e4b04b9693a2"
   },
   "outputs": [
    {
     "ename": "AttributeError",
     "evalue": "'ListDtype' object has no attribute 'itemsize'",
     "output_type": "error",
     "traceback": [
      "\u001b[0;31m---------------------------------------------------------------------------\u001b[0m",
      "\u001b[0;31mAttributeError\u001b[0m                            Traceback (most recent call last)",
      "\u001b[0;32m<ipython-input-159-822217949054>\u001b[0m in \u001b[0;36m<module>\u001b[0;34m\u001b[0m\n\u001b[1;32m      7\u001b[0m \u001b[0;31m# ax = plt.subplot(111)#\u001b[0m\u001b[0;34m\u001b[0m\u001b[0;34m\u001b[0m\u001b[0;34m\u001b[0m\u001b[0m\n\u001b[1;32m      8\u001b[0m \u001b[0;31m# t = gpd.GeoDataFrame(df[df.PID_LONG=='2205632000'].geometry)\u001b[0m\u001b[0;34m\u001b[0m\u001b[0;34m\u001b[0m\u001b[0;34m\u001b[0m\u001b[0m\n\u001b[0;32m----> 9\u001b[0;31m ax = plt.plot(df['building_x'].loc[0:0].to_array(), \n\u001b[0m\u001b[1;32m     10\u001b[0m               \u001b[0mdf\u001b[0m\u001b[0;34m[\u001b[0m\u001b[0;34m'building_y'\u001b[0m\u001b[0;34m]\u001b[0m\u001b[0;34m.\u001b[0m\u001b[0mloc\u001b[0m\u001b[0;34m[\u001b[0m\u001b[0;36m0\u001b[0m\u001b[0;34m:\u001b[0m\u001b[0;36m0\u001b[0m\u001b[0;34m]\u001b[0m\u001b[0;34m.\u001b[0m\u001b[0mto_array\u001b[0m\u001b[0;34m(\u001b[0m\u001b[0;34m)\u001b[0m\u001b[0;34m,\u001b[0m\u001b[0;31m \u001b[0m\u001b[0;31m\\\u001b[0m\u001b[0;34m\u001b[0m\u001b[0;34m\u001b[0m\u001b[0m\n\u001b[1;32m     11\u001b[0m        \u001b[0;31m#color='000', figsize=figsize,)\u001b[0m\u001b[0;34m\u001b[0m\u001b[0;34m\u001b[0m\u001b[0;34m\u001b[0m\u001b[0m\n",
      "\u001b[0;32m~/miniconda3/envs/firstEnv/lib/python3.8/site-packages/cudf/core/series.py\u001b[0m in \u001b[0;36mto_array\u001b[0;34m(self, fillna)\u001b[0m\n\u001b[1;32m   1843\u001b[0m         \u001b[0moutput\u001b[0m \u001b[0msize\u001b[0m \u001b[0mcould\u001b[0m \u001b[0mbe\u001b[0m \u001b[0msmaller\u001b[0m\u001b[0;34m.\u001b[0m\u001b[0;34m\u001b[0m\u001b[0;34m\u001b[0m\u001b[0m\n\u001b[1;32m   1844\u001b[0m         \"\"\"\n\u001b[0;32m-> 1845\u001b[0;31m         \u001b[0;32mreturn\u001b[0m \u001b[0mself\u001b[0m\u001b[0;34m.\u001b[0m\u001b[0m_column\u001b[0m\u001b[0;34m.\u001b[0m\u001b[0mto_array\u001b[0m\u001b[0;34m(\u001b[0m\u001b[0mfillna\u001b[0m\u001b[0;34m=\u001b[0m\u001b[0mfillna\u001b[0m\u001b[0;34m)\u001b[0m\u001b[0;34m\u001b[0m\u001b[0;34m\u001b[0m\u001b[0m\n\u001b[0m\u001b[1;32m   1846\u001b[0m \u001b[0;34m\u001b[0m\u001b[0m\n\u001b[1;32m   1847\u001b[0m     \u001b[0;32mdef\u001b[0m \u001b[0mnans_to_nulls\u001b[0m\u001b[0;34m(\u001b[0m\u001b[0mself\u001b[0m\u001b[0;34m)\u001b[0m\u001b[0;34m:\u001b[0m\u001b[0;34m\u001b[0m\u001b[0;34m\u001b[0m\u001b[0m\n",
      "\u001b[0;32m~/miniconda3/envs/firstEnv/lib/python3.8/site-packages/cudf/core/column/column.py\u001b[0m in \u001b[0;36mto_array\u001b[0;34m(self, fillna)\u001b[0m\n\u001b[1;32m    334\u001b[0m         \u001b[0moutput\u001b[0m \u001b[0msize\u001b[0m \u001b[0mcould\u001b[0m \u001b[0mbe\u001b[0m \u001b[0msmaller\u001b[0m\u001b[0;34m.\u001b[0m\u001b[0;34m\u001b[0m\u001b[0;34m\u001b[0m\u001b[0m\n\u001b[1;32m    335\u001b[0m         \"\"\"\n\u001b[0;32m--> 336\u001b[0;31m         \u001b[0;32mreturn\u001b[0m \u001b[0mself\u001b[0m\u001b[0;34m.\u001b[0m\u001b[0mto_gpu_array\u001b[0m\u001b[0;34m(\u001b[0m\u001b[0mfillna\u001b[0m\u001b[0;34m=\u001b[0m\u001b[0mfillna\u001b[0m\u001b[0;34m)\u001b[0m\u001b[0;34m.\u001b[0m\u001b[0mcopy_to_host\u001b[0m\u001b[0;34m(\u001b[0m\u001b[0;34m)\u001b[0m\u001b[0;34m\u001b[0m\u001b[0;34m\u001b[0m\u001b[0m\n\u001b[0m\u001b[1;32m    337\u001b[0m \u001b[0;34m\u001b[0m\u001b[0m\n\u001b[1;32m    338\u001b[0m     \u001b[0;32mdef\u001b[0m \u001b[0m_fill\u001b[0m\u001b[0;34m(\u001b[0m\u001b[0mself\u001b[0m\u001b[0;34m,\u001b[0m \u001b[0mfill_value\u001b[0m\u001b[0;34m,\u001b[0m \u001b[0mbegin\u001b[0m\u001b[0;34m=\u001b[0m\u001b[0;36m0\u001b[0m\u001b[0;34m,\u001b[0m \u001b[0mend\u001b[0m\u001b[0;34m=\u001b[0m\u001b[0;34m-\u001b[0m\u001b[0;36m1\u001b[0m\u001b[0;34m,\u001b[0m \u001b[0minplace\u001b[0m\u001b[0;34m=\u001b[0m\u001b[0;32mFalse\u001b[0m\u001b[0;34m)\u001b[0m\u001b[0;34m:\u001b[0m\u001b[0;34m\u001b[0m\u001b[0;34m\u001b[0m\u001b[0m\n",
      "\u001b[0;32m~/miniconda3/envs/firstEnv/lib/python3.8/site-packages/cudf/core/column/column.py\u001b[0m in \u001b[0;36mto_gpu_array\u001b[0;34m(self, fillna)\u001b[0m\n\u001b[1;32m    316\u001b[0m             \u001b[0;32mreturn\u001b[0m \u001b[0mself\u001b[0m\u001b[0;34m.\u001b[0m\u001b[0mfillna\u001b[0m\u001b[0;34m(\u001b[0m\u001b[0mself\u001b[0m\u001b[0;34m.\u001b[0m\u001b[0mdefault_na_value\u001b[0m\u001b[0;34m(\u001b[0m\u001b[0;34m)\u001b[0m\u001b[0;34m)\u001b[0m\u001b[0;34m.\u001b[0m\u001b[0mdata_array_view\u001b[0m\u001b[0;34m\u001b[0m\u001b[0;34m\u001b[0m\u001b[0m\n\u001b[1;32m    317\u001b[0m         \u001b[0;32melse\u001b[0m\u001b[0;34m:\u001b[0m\u001b[0;34m\u001b[0m\u001b[0;34m\u001b[0m\u001b[0m\n\u001b[0;32m--> 318\u001b[0;31m             \u001b[0;32mreturn\u001b[0m \u001b[0mself\u001b[0m\u001b[0;34m.\u001b[0m\u001b[0mdropna\u001b[0m\u001b[0;34m(\u001b[0m\u001b[0;34m)\u001b[0m\u001b[0;34m.\u001b[0m\u001b[0mdata_array_view\u001b[0m\u001b[0;34m\u001b[0m\u001b[0;34m\u001b[0m\u001b[0m\n\u001b[0m\u001b[1;32m    319\u001b[0m \u001b[0;34m\u001b[0m\u001b[0m\n\u001b[1;32m    320\u001b[0m     \u001b[0;32mdef\u001b[0m \u001b[0mto_array\u001b[0m\u001b[0;34m(\u001b[0m\u001b[0mself\u001b[0m\u001b[0;34m,\u001b[0m \u001b[0mfillna\u001b[0m\u001b[0;34m=\u001b[0m\u001b[0;32mNone\u001b[0m\u001b[0;34m)\u001b[0m\u001b[0;34m:\u001b[0m\u001b[0;34m\u001b[0m\u001b[0;34m\u001b[0m\u001b[0m\n",
      "\u001b[0;32m~/miniconda3/envs/firstEnv/lib/python3.8/site-packages/cudf/core/column/column.py\u001b[0m in \u001b[0;36mdata_array_view\u001b[0;34m(self)\u001b[0m\n\u001b[1;32m     90\u001b[0m             \u001b[0mdtype\u001b[0m \u001b[0;34m=\u001b[0m \u001b[0mself\u001b[0m\u001b[0;34m.\u001b[0m\u001b[0mdtype\u001b[0m\u001b[0;34m\u001b[0m\u001b[0;34m\u001b[0m\u001b[0m\n\u001b[1;32m     91\u001b[0m \u001b[0;34m\u001b[0m\u001b[0m\n\u001b[0;32m---> 92\u001b[0;31m         \u001b[0mresult\u001b[0m \u001b[0;34m=\u001b[0m \u001b[0mcuda\u001b[0m\u001b[0;34m.\u001b[0m\u001b[0mas_cuda_array\u001b[0m\u001b[0;34m(\u001b[0m\u001b[0mself\u001b[0m\u001b[0;34m.\u001b[0m\u001b[0mdata\u001b[0m\u001b[0;34m)\u001b[0m\u001b[0;34m\u001b[0m\u001b[0;34m\u001b[0m\u001b[0m\n\u001b[0m\u001b[1;32m     93\u001b[0m         \u001b[0;31m# Workaround until `.view(...)` can change itemsize\u001b[0m\u001b[0;34m\u001b[0m\u001b[0;34m\u001b[0m\u001b[0;34m\u001b[0m\u001b[0m\n\u001b[1;32m     94\u001b[0m         \u001b[0;31m# xref: https://github.com/numba/numba/issues/4829\u001b[0m\u001b[0;34m\u001b[0m\u001b[0;34m\u001b[0m\u001b[0;34m\u001b[0m\u001b[0m\n",
      "\u001b[0;32mcudf/_lib/column.pyx\u001b[0m in \u001b[0;36mcudf._lib.column.Column.data.__get__\u001b[0;34m()\u001b[0m\n",
      "\u001b[0;31mAttributeError\u001b[0m: 'ListDtype' object has no attribute 'itemsize'"
     ]
    }
   ],
   "source": [
    "df = df_ini.copy()\n",
    "# df.rename(columns={'geometry_place': 'geometry'}, inplace=True)\n",
    "# df = gpd.GeoDataFrame(df)\n",
    "\n",
    "figsize = (5, 5)\n",
    "\n",
    "# ax = plt.subplot(111)#\n",
    "# t = gpd.GeoDataFrame(df[df.PID_LONG=='2205632000'].geometry)\n",
    "ax = plt.plot(df['building_x'].loc[0:0].to_array(), \n",
    "              df['building_y'].loc[0:0].to_array(), \\\n",
    "       #color='000', figsize=figsize,)\n",
    "              #\n",
    "             )\n",
    "ax.set_axis_off()\n",
    "\n",
    "# df = df_ini.iloc[:,:29].copy()\n",
    "# df.rename(columns={'geometry_building': 'geometry'}, inplace=True)\n",
    "# # df = gpd.GeoDataFrame(df)\n",
    "\n",
    "# t = gpd.GeoDataFrame(df[df.PARCEL_ID=='2205632000'].geometry)\n",
    "# t.plot(color='r', figsize=figsize, ax=ax)\n",
    "plt.show()"
   ]
  },
  {
   "cell_type": "code",
   "execution_count": 138,
   "metadata": {},
   "outputs": [
    {
     "ename": "TypeError",
     "evalue": "no numeric data to plot",
     "output_type": "error",
     "traceback": [
      "\u001b[0;31m---------------------------------------------------------------------------\u001b[0m",
      "\u001b[0;31mTypeError\u001b[0m                                 Traceback (most recent call last)",
      "\u001b[0;32m<ipython-input-138-e47b92246765>\u001b[0m in \u001b[0;36m<module>\u001b[0;34m\u001b[0m\n\u001b[0;32m----> 1\u001b[0;31m \u001b[0mdf_ini\u001b[0m\u001b[0;34m.\u001b[0m\u001b[0mto_pandas\u001b[0m\u001b[0;34m(\u001b[0m\u001b[0;34m)\u001b[0m\u001b[0;34m.\u001b[0m\u001b[0mplot\u001b[0m\u001b[0;34m(\u001b[0m\u001b[0mx\u001b[0m\u001b[0;34m=\u001b[0m\u001b[0;34m'building_x'\u001b[0m\u001b[0;34m,\u001b[0m \u001b[0my\u001b[0m\u001b[0;34m=\u001b[0m\u001b[0;34m'building_y'\u001b[0m\u001b[0;34m)\u001b[0m\u001b[0;34m\u001b[0m\u001b[0;34m\u001b[0m\u001b[0m\n\u001b[0m",
      "\u001b[0;32m~/.local/lib/python3.8/site-packages/pandas/plotting/_core.py\u001b[0m in \u001b[0;36m__call__\u001b[0;34m(self, *args, **kwargs)\u001b[0m\n\u001b[1;32m    947\u001b[0m                     \u001b[0mdata\u001b[0m\u001b[0;34m.\u001b[0m\u001b[0mcolumns\u001b[0m \u001b[0;34m=\u001b[0m \u001b[0mlabel_name\u001b[0m\u001b[0;34m\u001b[0m\u001b[0;34m\u001b[0m\u001b[0m\n\u001b[1;32m    948\u001b[0m \u001b[0;34m\u001b[0m\u001b[0m\n\u001b[0;32m--> 949\u001b[0;31m         \u001b[0;32mreturn\u001b[0m \u001b[0mplot_backend\u001b[0m\u001b[0;34m.\u001b[0m\u001b[0mplot\u001b[0m\u001b[0;34m(\u001b[0m\u001b[0mdata\u001b[0m\u001b[0;34m,\u001b[0m \u001b[0mkind\u001b[0m\u001b[0;34m=\u001b[0m\u001b[0mkind\u001b[0m\u001b[0;34m,\u001b[0m \u001b[0;34m**\u001b[0m\u001b[0mkwargs\u001b[0m\u001b[0;34m)\u001b[0m\u001b[0;34m\u001b[0m\u001b[0;34m\u001b[0m\u001b[0m\n\u001b[0m\u001b[1;32m    950\u001b[0m \u001b[0;34m\u001b[0m\u001b[0m\n\u001b[1;32m    951\u001b[0m     \u001b[0m__call__\u001b[0m\u001b[0;34m.\u001b[0m\u001b[0m__doc__\u001b[0m \u001b[0;34m=\u001b[0m \u001b[0m__doc__\u001b[0m\u001b[0;34m\u001b[0m\u001b[0;34m\u001b[0m\u001b[0m\n",
      "\u001b[0;32m~/.local/lib/python3.8/site-packages/pandas/plotting/_matplotlib/__init__.py\u001b[0m in \u001b[0;36mplot\u001b[0;34m(data, kind, **kwargs)\u001b[0m\n\u001b[1;32m     59\u001b[0m             \u001b[0mkwargs\u001b[0m\u001b[0;34m[\u001b[0m\u001b[0;34m\"ax\"\u001b[0m\u001b[0;34m]\u001b[0m \u001b[0;34m=\u001b[0m \u001b[0mgetattr\u001b[0m\u001b[0;34m(\u001b[0m\u001b[0max\u001b[0m\u001b[0;34m,\u001b[0m \u001b[0;34m\"left_ax\"\u001b[0m\u001b[0;34m,\u001b[0m \u001b[0max\u001b[0m\u001b[0;34m)\u001b[0m\u001b[0;34m\u001b[0m\u001b[0;34m\u001b[0m\u001b[0m\n\u001b[1;32m     60\u001b[0m     \u001b[0mplot_obj\u001b[0m \u001b[0;34m=\u001b[0m \u001b[0mPLOT_CLASSES\u001b[0m\u001b[0;34m[\u001b[0m\u001b[0mkind\u001b[0m\u001b[0;34m]\u001b[0m\u001b[0;34m(\u001b[0m\u001b[0mdata\u001b[0m\u001b[0;34m,\u001b[0m \u001b[0;34m**\u001b[0m\u001b[0mkwargs\u001b[0m\u001b[0;34m)\u001b[0m\u001b[0;34m\u001b[0m\u001b[0;34m\u001b[0m\u001b[0m\n\u001b[0;32m---> 61\u001b[0;31m     \u001b[0mplot_obj\u001b[0m\u001b[0;34m.\u001b[0m\u001b[0mgenerate\u001b[0m\u001b[0;34m(\u001b[0m\u001b[0;34m)\u001b[0m\u001b[0;34m\u001b[0m\u001b[0;34m\u001b[0m\u001b[0m\n\u001b[0m\u001b[1;32m     62\u001b[0m     \u001b[0mplot_obj\u001b[0m\u001b[0;34m.\u001b[0m\u001b[0mdraw\u001b[0m\u001b[0;34m(\u001b[0m\u001b[0;34m)\u001b[0m\u001b[0;34m\u001b[0m\u001b[0;34m\u001b[0m\u001b[0m\n\u001b[1;32m     63\u001b[0m     \u001b[0;32mreturn\u001b[0m \u001b[0mplot_obj\u001b[0m\u001b[0;34m.\u001b[0m\u001b[0mresult\u001b[0m\u001b[0;34m\u001b[0m\u001b[0;34m\u001b[0m\u001b[0m\n",
      "\u001b[0;32m~/.local/lib/python3.8/site-packages/pandas/plotting/_matplotlib/core.py\u001b[0m in \u001b[0;36mgenerate\u001b[0;34m(self)\u001b[0m\n\u001b[1;32m    267\u001b[0m     \u001b[0;32mdef\u001b[0m \u001b[0mgenerate\u001b[0m\u001b[0;34m(\u001b[0m\u001b[0mself\u001b[0m\u001b[0;34m)\u001b[0m\u001b[0;34m:\u001b[0m\u001b[0;34m\u001b[0m\u001b[0;34m\u001b[0m\u001b[0m\n\u001b[1;32m    268\u001b[0m         \u001b[0mself\u001b[0m\u001b[0;34m.\u001b[0m\u001b[0m_args_adjust\u001b[0m\u001b[0;34m(\u001b[0m\u001b[0;34m)\u001b[0m\u001b[0;34m\u001b[0m\u001b[0;34m\u001b[0m\u001b[0m\n\u001b[0;32m--> 269\u001b[0;31m         \u001b[0mself\u001b[0m\u001b[0;34m.\u001b[0m\u001b[0m_compute_plot_data\u001b[0m\u001b[0;34m(\u001b[0m\u001b[0;34m)\u001b[0m\u001b[0;34m\u001b[0m\u001b[0;34m\u001b[0m\u001b[0m\n\u001b[0m\u001b[1;32m    270\u001b[0m         \u001b[0mself\u001b[0m\u001b[0;34m.\u001b[0m\u001b[0m_setup_subplots\u001b[0m\u001b[0;34m(\u001b[0m\u001b[0;34m)\u001b[0m\u001b[0;34m\u001b[0m\u001b[0;34m\u001b[0m\u001b[0m\n\u001b[1;32m    271\u001b[0m         \u001b[0mself\u001b[0m\u001b[0;34m.\u001b[0m\u001b[0m_make_plot\u001b[0m\u001b[0;34m(\u001b[0m\u001b[0;34m)\u001b[0m\u001b[0;34m\u001b[0m\u001b[0;34m\u001b[0m\u001b[0m\n",
      "\u001b[0;32m~/.local/lib/python3.8/site-packages/pandas/plotting/_matplotlib/core.py\u001b[0m in \u001b[0;36m_compute_plot_data\u001b[0;34m(self)\u001b[0m\n\u001b[1;32m    416\u001b[0m         \u001b[0;31m# no non-numeric frames or series allowed\u001b[0m\u001b[0;34m\u001b[0m\u001b[0;34m\u001b[0m\u001b[0;34m\u001b[0m\u001b[0m\n\u001b[1;32m    417\u001b[0m         \u001b[0;32mif\u001b[0m \u001b[0mis_empty\u001b[0m\u001b[0;34m:\u001b[0m\u001b[0;34m\u001b[0m\u001b[0;34m\u001b[0m\u001b[0m\n\u001b[0;32m--> 418\u001b[0;31m             \u001b[0;32mraise\u001b[0m \u001b[0mTypeError\u001b[0m\u001b[0;34m(\u001b[0m\u001b[0;34m\"no numeric data to plot\"\u001b[0m\u001b[0;34m)\u001b[0m\u001b[0;34m\u001b[0m\u001b[0;34m\u001b[0m\u001b[0m\n\u001b[0m\u001b[1;32m    419\u001b[0m \u001b[0;34m\u001b[0m\u001b[0m\n\u001b[1;32m    420\u001b[0m         \u001b[0;31m# GH25587: cast ExtensionArray of pandas (IntegerArray, etc.) to\u001b[0m\u001b[0;34m\u001b[0m\u001b[0;34m\u001b[0m\u001b[0;34m\u001b[0m\u001b[0m\n",
      "\u001b[0;31mTypeError\u001b[0m: no numeric data to plot"
     ]
    }
   ],
   "source": [
    "df_ini.to_pandas().plot(x='building_x', y='building_y')"
   ]
  },
  {
   "cell_type": "code",
   "execution_count": 17,
   "metadata": {
    "colab": {},
    "colab_type": "code",
    "id": "TGHaqRzIHGxe"
   },
   "outputs": [
    {
     "data": {
      "text/plain": [
       "(geopandas.geodataframe.GeoDataFrame, pandas.core.frame.DataFrame)"
      ]
     },
     "execution_count": 17,
     "metadata": {},
     "output_type": "execute_result"
    }
   ],
   "source": [
    "type(t), type(df)"
   ]
  },
  {
   "cell_type": "code",
   "execution_count": 12,
   "metadata": {},
   "outputs": [
    {
     "data": {
      "text/plain": [
       "(array('d', [749656.6095403582, 749650.009159863, 749642.9123892784, 749641.8014991134, 749598.4479112774, 749598.6368872821, 749603.8540684432, 749606.9318181872, 749607.0115424395, 749612.3504425287, 749655.7043584436, 749649.5127697736, 749656.6095403582]),\n",
       " array('d', [2951320.949321598, 2951305.1061774343, 2951308.062536359, 2951305.395875022, 2951323.457190603, 2951323.9109298587, 2951336.434198767, 2951343.8223073483, 2951344.013579935, 2951356.8285149336, 2951338.7675274312, 2951323.9056805223, 2951320.949321598]))"
      ]
     },
     "execution_count": 12,
     "metadata": {},
     "output_type": "execute_result"
    }
   ],
   "source": [
    "t.geometry_building.exterior.coords.xy"
   ]
  },
  {
   "cell_type": "code",
   "execution_count": 59,
   "metadata": {},
   "outputs": [],
   "source": []
  },
  {
   "cell_type": "code",
   "execution_count": 98,
   "metadata": {},
   "outputs": [
    {
     "name": "stderr",
     "output_type": "stream",
     "text": [
      "100%|██████████| 71191/71191 [00:03<00:00, 20357.14it/s]\n"
     ]
    }
   ],
   "source": []
  },
  {
   "cell_type": "code",
   "execution_count": 61,
   "metadata": {},
   "outputs": [
    {
     "name": "stderr",
     "output_type": "stream",
     "text": [
      "100%|██████████| 71191/71191 [00:04<00:00, 15789.98it/s]\n"
     ]
    }
   ],
   "source": [
    "tqdm.pandas()\n",
    "lengths = df_ini.progress_apply(lambda x: len(x.geometry_place.exterior.coords.xy[0]), axis=1)\n",
    "lengths.plot(kind='hist')"
   ]
  },
  {
   "cell_type": "code",
   "execution_count": 67,
   "metadata": {},
   "outputs": [
    {
     "data": {
      "image/svg+xml": [
       "<svg xmlns=\"http://www.w3.org/2000/svg\" xmlns:xlink=\"http://www.w3.org/1999/xlink\" width=\"300\" height=\"300\" viewBox=\"752182.3000330889 2914318.308390554 2229.958047516411 2048.5433273538947\" preserveAspectRatio=\"xMinYMin meet\"><g transform=\"matrix(1,0,0,-1,0,5830685.160108462)\"><path fill-rule=\"evenodd\" fill=\"#66cc99\" stroke=\"#555555\" stroke-width=\"14.866386983442741\" opacity=\"0.6\" d=\"M 752712.4835202992,2916251.116455078 L 752750.5843203366,2916224.8167750537 L 752852.6001284271,2916154.3987589926 L 752975.2185285538,2916069.759430915 L 753025.0650245994,2916035.3521028757 L 753135.3131846935,2915959.2515588105 L 753205.616832763,2915910.723366767 L 753258.201344803,2915874.426054731 L 753310.8255688548,2915838.101350695 L 753314.1812488586,2915835.785030693 L 753334.9504968822,2915839.888134703 L 753368.3903689086,2915818.502982676 L 753421.9793929607,2915784.2321986407 L 753475.5567050129,2915749.9689026177 L 753531.0692490637,2915714.4680385888 L 753592.3424331248,2915788.450214654 L 753651.9522571713,2915749.360102609 L 753703.9832972288,2915715.23987858 L 753754.2559372783,2915682.2727425545 L 753805.4744653255,2915648.6853505224 L 753857.7539853752,2915614.4021824896 L 753907.7195854187,2915581.6364224553 L 753967.105057463,2915542.69341442 L 754017.6967695206,2915509.4419903904 L 754149.7370576411,2915436.3907583207 L 754216.8526417017,2915399.349766284 L 754221.4688336998,2915396.72883828 L 754159.7466576546,2915288.2177981883 L 754018.4326095134,2915369.619398266 L 753862.7834573686,2915100.0314620137 L 753899.2167694122,2915076.8273979872 L 754038.3990415335,2914988.181637898 L 754120.0159376115,2915044.324197963 L 754181.2794576734,2914920.945893839 L 754250.9120337367,2914959.0784698725 L 754280.9281297624,2914908.914981827 L 754329.6670418084,2914826.1868537515 L 754308.9605137855,2914812.900997743 L 754303.1648017764,2914804.723973736 L 754286.5809617639,2914793.7760697305 L 754266.002561748,2914779.8385017067 L 754259.8335377425,2914775.607205704 L 754253.8043537438,2914771.1767417043 L 754247.9224017262,2914766.5523577034 L 754242.19555372,2914761.7339257 L 754236.6296337247,2914756.7355576903 L 754208.2591056973,2914740.4175736755 L 754200.2688656896,2914730.551045671 L 754192.3751696795,2914723.5784056634 L 754177.8890896738,2914714.621957645 L 754169.1980496645,2914706.652325645 L 754162.5027536452,2914702.0701176375 L 754151.8130576462,2914693.9070456326 L 754141.8224976361,2914686.9377016276 L 754097.0698575974,2914654.679621592 L 754049.2008975446,2914630.045253575 L 754036.7424015403,2914621.6923255622 L 754028.061409533,2914614.788837552 L 754020.4892495275,2914613.5893815607 L 754006.4524175078,2914604.0129975528 L 753991.8312014937,2914593.6368055344 L 753978.775393486,2914585.37203753 L 753971.1374734789,2914581.8760055304 L 753957.8291214556,2914570.3156855106 L 753947.4969934523,2914566.8819255084 L 753937.2274254411,2914559.2576375008 L 753922.8850894272,2914550.1793974936 L 753909.7992334217,2914543.8145974874 L 753890.1729294062,2914534.0652534813 L 753873.3425293863,2914524.355589479 L 753864.5232653767,2914519.744549468 L 753848.535937354,2914513.6423734576 L 753833.1923213452,2914504.7480374575 L 753824.1901453435,2914499.137541443 L 753810.3957133293,2914493.461701438 L 753797.5005773157,2914481.109445438 L 753784.2144653052,2914474.741573423 L 753781.9695052952,2914474.460165426 L 753779.7346892953,2914474.1054454297 L 753777.5126412958,2914473.6760374308 L 753775.3098892868,2914473.1713974327 L 753773.1209612936,2914472.594853431 L 753770.9551052898,2914471.939333424 L 753768.8110732883,2914471.2147894204 L 753766.6942732781,2914470.4212854207 L 753764.6075852811,2914469.551877424 L 753762.5458572805,2914468.614437416 L 753760.5208972842,2914467.607781425 L 753758.5322572738,2914466.5353654176 L 753756.5756172687,2914465.393957421 L 753754.6629452705,2914464.1873974204 L 753752.7922572643,2914462.9177654088 L 753750.9634572715,2914461.586341411 L 753749.181985274,2914460.192709416 L 753743.8056652695,2914459.1238134056 L 753742.6960972548,2914459.400037408 L 753741.5765772611,2914459.6331254095 L 753740.4510092586,2914459.829413414 L 753739.3216012567,2914459.9877814204 L 753738.1831052601,2914460.1058614105 L 753737.0435212553,2914460.182053417 L 753735.9011212587,2914460.2184054106 L 753734.7594252527,2914460.2145334184 L 753733.6170892566,2914460.1728374064 L 753732.4775372446,2914460.0869814157 L 753731.3422092497,2914459.9661494195 L 753730.213537246,2914459.802405417 L 753729.0871052444,2914459.599621415 L 753727.9717772454,2914459.359941408 L 753726.8653452396,2914459.0781174153 L 753725.7658892423,2914458.75645341 L 753724.6823692471,2914458.399653405 L 753723.6099532396,2914458.0058934093 L 753722.5525132418,2914457.570245415 L 753721.5120012462,2914457.1013174057 L 753720.4888012409,2914456.5956854075 L 753719.4842252433,2914456.054885417 L 753718.4989452362,2914455.4781174064 L 753717.5317132324,2914454.864357412 L 753716.5893452317,2914454.218629405 L 753715.6699212343,2914453.542725414 L 753714.7746572345,2914452.834085405 L 753713.9043852389,2914452.0934134126 L 753713.0611852407,2914451.322629407 L 753695.90777722,2914449.5970934033 L 753686.8328972161,2914448.777925402 L 753665.3610251844,2914442.6676533967 L 753644.082817167,2914435.9234933853 L 753637.9636171609,2914437.640453398 L 753632.3642571568,2914437.8642933965 L 753622.7153611481,2914435.5404213965 L 753604.1442251354,2914434.993157387 L 753584.2138251066,2914431.9293813854 L 753558.9566730857,2914431.0943093896 L 753537.2515850663,2914426.709733382 L 753529.57462506,2914424.486501381 L 753521.8192970604,2914422.5462133735 L 753514.0011530519,2914420.887845382 L 753506.124001041,2914419.5144693702 L 753498.2035210282,2914418.427205369 L 753490.2500490248,2914417.6317493767 L 753482.2716170251,2914417.1214773804 L 753474.2819850147,2914416.9028533697 L 753466.2866570055,2914416.9733813703 L 753458.6264649928,2914414.30115737 L 753450.877440989,2914411.8918133676 L 753443.0492809862,2914409.747653365 L 753435.1520969719,2914407.8723893613 L 753427.1996489614,2914406.267013356 L 753419.2759049535,2914408.4593013674 L 753418.7697609663,2914408.909477368 L 753418.2513289601,2914409.3394293636 L 753417.7160009593,2914409.752549365 L 753417.1647369564,2914410.1465973705 L 753416.6005449593,2914410.517669365 L 753416.0222409517,2914410.8717173636 L 753415.434880957,2914411.2028853744 L 753414.8346889615,2914411.5118133724 L 753414.223456949,2914411.800037369 L 753413.6000329554,2914412.0660533756 L 753412.9697929472,2914412.312101364 L 753412.333376959,2914412.532357365 L 753411.6859529465,2914412.729445368 L 753411.0327369571,2914412.903589368 L 753410.3734089583,2914413.0546613634 L 753409.7071689516,2914413.1827893704 L 753409.0409609526,2914413.283973366 L 753408.36742495,2914413.3629173636 L 753407.6952009499,2914413.4189813733 L 753407.0187849551,2914413.4482293725 L 753406.3427209407,2914413.4553973675 L 753405.6694729477,2914413.435493365 L 753404.9940169454,2914413.393669367 L 753404.3207689524,2914413.3277493715 L 753403.6514569521,2914413.2357813716 L 753402.9852489382,2914413.1209973693 L 753402.3218569458,2914412.9802613705 L 753401.6687369496,2914412.819301367 L 753401.0193289369,2914412.6323893666 L 753400.3760649413,2914412.422533363 L 753399.7388169467,2914412.189733371 L 753392.1564809382,2914411.5911733657 L 753379.9608329237,2914405.836101368 L 753369.046976909,2914407.688997358 L 753327.5885768682,2914408.1329013705 L 753290.0389768332,2914407.730309367 L 753245.4126728028,2914406.4360373616 L 753241.4908807874,2914405.275941357 L 753237.5292167962,2914404.249669358 L 753233.5345287919,2914403.3545333594 L 753229.5141127855,2914402.6014133543 L 753225.4672647864,2914401.9852853566 L 753221.4035207778,2914401.504197359 L 753217.3268167675,2914401.16285336 L 753213.2369927615,2914400.963749364 L 753209.1472007632,2914400.899429351 L 753205.0544327646,2914400.9783733636 L 753200.9686407596,2914401.193029359 L 753196.8918407559,2914401.547685355 L 753192.8279687464,2914402.043397352 L 753188.7870087475,2914402.6741173565 L 753184.7661447376,2914403.443013355 L 753180.7753287405,2914404.349541366 L 753176.8163527399,2914405.3903413564 L 753172.8976007253,2914406.5649333596 L 753158.4808647186,2914408.6704693586 L 753133.2641927004,2914405.4346613586 L 753118.2443526834,2914407.7302453667 L 753112.6043846756,2914410.749029368 L 753097.7838406563,2914419.738117382 L 753079.0449606478,2914423.7833013833 L 753059.2359686196,2914425.8139253855 L 753049.3881286085,2914429.677317381 L 753032.0432645977,2914440.427653402 L 753021.7891205847,2914444.684197396 L 753006.6941125691,2914448.0497014076 L 752991.73596856,2914451.9721973985 L 752976.9317765534,2914456.4435254037 L 752962.3017605394,2914461.46195741 L 752953.4625285268,2914464.5413814187 L 752936.7419525087,2914473.801509425 L 752921.970816493,2914479.496837437 L 752893.2951044738,2914486.6997814327 L 752889.0509444624,2914489.7382454425 L 752885.7421764582,2914491.7035574466 L 752882.3675844669,2914493.547973439 L 752878.9247684628,2914495.2705334425 L 752875.4249604493,2914496.869061455 L 752871.8672964573,2914498.339685455 L 752868.2636164427,2914499.682245448 L 752864.6097604483,2914500.892677456 L 752855.7177604288,2914501.075493455 L 752853.9419524372,2914501.0199094564 L 752852.1661124378,2914501.027237445 L 752850.3914564252,2914501.0923894495 L 752848.6188164353,2914501.2178934515 L 752846.8528324217,2914501.408165455 L 752845.0930244327,2914501.658533454 L 752843.3441924304,2914501.9667574465 L 752841.6074564159,2914502.334021449 L 752839.884576425,2914502.764453456 L 752838.1738244146,2914503.2505654544 L 752836.4840324223,2914503.798853457 L 752834.813088417,2914504.399237454 L 752833.1652484089,2914505.062277451 L 752831.5405444056,2914505.7776694596 L 752829.9416644126,2914506.551845461 L 752828.3688644171,2914507.3790774643 L 752826.826176405,2914508.258373454 L 752825.3133124113,2914509.190565452 L 752823.8365124017,2914510.1746614575 L 752822.3917763978,2914511.2089654654 L 752820.9831364006,2914512.2909814566 L 752811.9863363951,2914519.461157471 L 752794.5261123776,2914531.11011748 L 752786.625440374,2914531.9026614875 L 752751.023712337,2914547.602981493 L 752744.2690243274,2914545.114629492 L 752736.4201283306,2914548.8035575002 L 752727.0230083168,2914549.3793974966 L 752714.3890883029,2914552.504581496 L 752707.5912322998,2914559.5031415075 L 752702.1778882891,2914567.2173495144 L 752697.3362562805,2914570.3480055183 L 752691.3448962867,2914576.758437529 L 752682.7310082763,2914584.7322935313 L 752673.1073282659,2914587.09904553 L 752665.8009922653,2914588.1013495326 L 752665.3538562506,2914587.9144055396 L 752664.4485442638,2914587.5895415395 L 752663.9883202612,2914587.451781526 L 752663.5261762589,2914587.3308535367 L 752662.583840251,2914587.1311415285 L 752661.632448256,2914586.99629353 L 752661.1531522572,2914586.95421353 L 752660.6741442531,2914586.924421534 L 752659.7126402557,2914586.9217335284 L 752659.2294082493,2914586.940613538 L 752658.7501762509,2914586.980709538 L 752658.2749442458,2914587.0329015255 L 752657.3255042434,2914587.1909495294 L 752656.8532162458,2914587.2930615246 L 752656.3871362507,2914587.4112695307 L 752655.4717122465,2914587.696421534 L 752655.0184322447,2914587.860453531 L 752654.5721282512,2914588.0415735394 L 752653.6986562461,2914588.4445815384 L 752653.275552243,2914588.6676855385 L 752652.4480962455,2914589.1598775387 L 752652.047904253,2914589.4258615375 L 752651.2734722495,2914589.9969655275 L 752650.9022402465,2914590.3019575328 L 752650.5410882384,2914590.620005533 L 752649.8516162485,2914591.293029532 L 752649.5234882385,2914591.6441015303 L 752649.211360246,2914592.008229539 L 752648.6168962419,2914592.7660855353 L 752648.3418562412,2914593.160101533 L 752646.2963842452,2914596.3261175454 L 752631.7507522255,2914606.81696555 L 752608.6000002027,2914618.3882615566 L 752595.8377921879,2914623.4093495607 L 752594.369952187,2914625.2833655626 L 752592.8370881975,2914627.107397571 L 752591.2380801886,2914628.8724535704 L 752589.5802241862,2914630.581669569 L 752587.8641921878,2914632.232901573 L 752586.0913921893,2914633.821125582 L 752584.2593281865,2914635.3463095725 L 752582.3781441748,2914636.806437582 L 752580.4451521784,2914638.197637573 L 752578.4650881737,2914639.519877583 L 752576.4369601756,2914640.7703095824 L 752574.3690881729,2914641.951525584 L 752572.261920169,2914643.057797581 L 752570.1118401736,2914644.0881335884 L 752567.9287361652,2914645.0435255915 L 752565.71670416,2914645.919845581 L 752563.4715841562,2914646.7172535807 L 752561.1995201558,2914647.436581582 L 752555.2280961573,2914653.880037591 L 752549.0206081569,2914660.0916215926 L 752542.5839041471,2914666.0662776083 L 752535.9263681322,2914671.795941606 L 752529.0555841327,2914677.268709615 L 752526.4619201273,2914681.8717816174 L 752520.9508481175,2914687.788133621 L 752515.2284481227,2914693.506885633 L 752509.3131521195,2914699.019461632 L 752503.2048321068,2914704.318053648 L 752496.9154561013,2914709.4006136507 L 752391.9894080013,2914794.265477732 L 752264.8910718858,2915617.7638784945 L 752474.7837120742,2915948.6322308034 L 752510.73558411,2916015.5190788656 L 752558.8145281523,2916103.081542939 L 752593.1550081968,2916165.0109509975 L 752629.1212482303,2916226.6187910587 L 752664.4669122547,2916284.260679111 L 752712.4835202992,2916251.116455078 z\" /></g></svg>"
      ],
      "text/plain": [
       "<shapely.geometry.polygon.Polygon at 0x7f843f32a8b0>"
      ]
     },
     "execution_count": 67,
     "metadata": {},
     "output_type": "execute_result"
    }
   ],
   "source": [
    "idx = lengths.argmax()\n",
    "df_ini.iloc[idx].geometry_place"
   ]
  },
  {
   "cell_type": "code",
   "execution_count": 128,
   "metadata": {},
   "outputs": [],
   "source": [
    "from tqdm import tqdm\n",
    "\n",
    "DATASET_FOLDER = './dataset'\n",
    "figsize = (3, 3)\n",
    "\n",
    "def plot_dataset(x_ini):\n",
    "    '''create 3 type of sample pictures to DATASET_FOLDER:\n",
    "     - building footprint, \n",
    "     - area/place,\n",
    "     - combine both\n",
    "    x_ini - pandas Series with featers for biuldings (first 29) and features for area (others)\n",
    "    '''\n",
    "    \n",
    "    dpi=40\n",
    "    # take data for place\n",
    "    x = x_ini.iloc[29:].copy()\n",
    "    area = gpd.GeoDataFrame(geometry=pd.Series(x.geometry_place))\n",
    "    # take data for buiding and plot on the same axis\n",
    "    x = x_ini.iloc[:29].copy()\n",
    "    building = gpd.GeoDataFrame(geometry=pd.Series(x.geometry_building))\n",
    "    \n",
    "    # plot\n",
    "    # area \n",
    "    ax = plt.subplot(111)\n",
    "    ax.set_axis_off()\n",
    "    area.plot(color='000', figsize=figsize, ax=ax)\n",
    "    plt.tight_layout()\n",
    "    plt.savefig(f'{DATASET_FOLDER}/areas/area_{x.name}.png',\\\n",
    "               dpi=dpi)   \n",
    "#     plt.close('all')\n",
    "    \n",
    "    ax = plt.subplot(111)\n",
    "    ax.set_axis_off()\n",
    "    building.plot(color='000', figsize=figsize, ax=ax)\n",
    "    plt.tight_layout()\n",
    "    plt.savefig(f'{DATASET_FOLDER}/buildings/building_{x.name}.png',\n",
    "               dpi=dpi)   \n",
    "#     plt.close('all')\n",
    "    \n",
    "    ax = plt.subplot(111)\n",
    "    ax.set_axis_off()\n",
    "    area.plot(color='000', figsize=figsize, ax=ax)\n",
    "    building.plot(color='r', figsize=figsize, ax=ax)\n",
    "    plt.tight_layout()\n",
    "    plt.savefig(f'{DATASET_FOLDER}/combined/total_{x.name}.png',\n",
    "               dpi=dpi,\n",
    "#                 bbox_inches='tight')   \n",
    "               )\n",
    "    plt.close('all')    "
   ]
  },
  {
   "cell_type": "code",
   "execution_count": null,
   "metadata": {},
   "outputs": [
    {
     "name": "stderr",
     "output_type": "stream",
     "text": [
      " 11%|█         | 5089/47186 [12:05<24:04:16,  2.06s/it] "
     ]
    }
   ],
   "source": [
    "tqdm.pandas()\n",
    "df_ini.progress_apply(plot_dataset, axis=1)"
   ]
  },
  {
   "cell_type": "code",
   "execution_count": 1,
   "metadata": {},
   "outputs": [
    {
     "ename": "NameError",
     "evalue": "name 'df_ini' is not defined",
     "output_type": "error",
     "traceback": [
      "\u001b[0;31m---------------------------------------------------------------------------\u001b[0m",
      "\u001b[0;31mNameError\u001b[0m                                 Traceback (most recent call last)",
      "\u001b[0;32m<ipython-input-1-7cda4bb3e76f>\u001b[0m in \u001b[0;36m<module>\u001b[0;34m\u001b[0m\n\u001b[0;32m----> 1\u001b[0;31m \u001b[0mp\u001b[0m \u001b[0;34m=\u001b[0m \u001b[0mdf_ini\u001b[0m\u001b[0;34m.\u001b[0m\u001b[0mgeometry_place\u001b[0m\u001b[0;34m.\u001b[0m\u001b[0miloc\u001b[0m\u001b[0;34m[\u001b[0m\u001b[0;36m4\u001b[0m\u001b[0;34m]\u001b[0m\u001b[0;34m.\u001b[0m\u001b[0mboundary\u001b[0m\u001b[0;34m.\u001b[0m\u001b[0mcoords\u001b[0m\u001b[0;34m.\u001b[0m\u001b[0mxy\u001b[0m\u001b[0;34m\u001b[0m\u001b[0;34m\u001b[0m\u001b[0m\n\u001b[0m",
      "\u001b[0;31mNameError\u001b[0m: name 'df_ini' is not defined"
     ]
    }
   ],
   "source": [
    "p = df_ini.geometry_place.iloc[4].boundary.coords.xy"
   ]
  },
  {
   "cell_type": "code",
   "execution_count": 22,
   "metadata": {},
   "outputs": [
    {
     "data": {
      "image/svg+xml": [
       "<svg xmlns=\"http://www.w3.org/2000/svg\" xmlns:xlink=\"http://www.w3.org/1999/xlink\" width=\"183.34118032152764\" height=\"129.5160922827199\" viewBox=\"749565.298831293 2951253.592505598 183.34118032152764 129.5160922827199\" preserveAspectRatio=\"xMinYMin meet\"><g transform=\"matrix(1,0,0,-1,0,5902636.701103479)\"><polyline fill=\"none\" stroke=\"#66cc99\" stroke-width=\"2.0\" points=\"749737.6930215359,2951282.616327703 749733.6623975337,2951260.382919684 749572.089245379,2951337.6817677617 749590.7213414013,2951376.3181837946 749741.8495975286,2951305.544583723 749737.6930215359,2951282.616327703\" opacity=\"0.8\" /></g></svg>"
      ],
      "text/plain": [
       "<shapely.geometry.linestring.LineString at 0x7f669a8a8580>"
      ]
     },
     "execution_count": 22,
     "metadata": {},
     "output_type": "execute_result"
    }
   ],
   "source": [
    "df_ini.geometry_place.iloc[4].boundary"
   ]
  },
  {
   "cell_type": "code",
   "execution_count": 47,
   "metadata": {},
   "outputs": [
    {
     "data": {
      "text/plain": [
       "array('d', [749656.6095403582, 749650.009159863, 749642.9123892784, 749641.8014991134, 749598.4479112774, 749598.6368872821, 749603.8540684432, 749606.9318181872, 749607.0115424395, 749612.3504425287, 749655.7043584436, 749649.5127697736, 749656.6095403582])"
      ]
     },
     "execution_count": 47,
     "metadata": {},
     "output_type": "execute_result"
    }
   ],
   "source": [
    "b = df_ini.geometry_building.iloc[4].boundary.coords.xy\n",
    "b[0]"
   ]
  },
  {
   "cell_type": "code",
   "execution_count": 39,
   "metadata": {},
   "outputs": [
    {
     "data": {
      "image/svg+xml": [
       "<svg xmlns=\"http://www.w3.org/2000/svg\" xmlns:xlink=\"http://www.w3.org/1999/xlink\" width=\"100.0\" height=\"100.0\" viewBox=\"749596.1214461141 2951302.779712271 62.814559407299384 56.37526782602072\" preserveAspectRatio=\"xMinYMin meet\"><g transform=\"matrix(1,0,0,-1,0,5902661.934692368)\"><path fill-rule=\"evenodd\" fill=\"#66cc99\" stroke=\"#555555\" stroke-width=\"1.2562911881459877\" opacity=\"0.6\" d=\"M 749656.6095403582,2951320.949321598 L 749650.009159863,2951305.1061774343 L 749642.9123892784,2951308.062536359 L 749641.8014991134,2951305.395875022 L 749598.4479112774,2951323.457190603 L 749598.6368872821,2951323.9109298587 L 749603.8540684432,2951336.434198767 L 749606.9318181872,2951343.8223073483 L 749607.0115424395,2951344.013579935 L 749612.3504425287,2951356.8285149336 L 749655.7043584436,2951338.7675274312 L 749649.5127697736,2951323.9056805223 L 749656.6095403582,2951320.949321598 z\" /></g></svg>"
      ],
      "text/plain": [
       "<shapely.geometry.polygon.Polygon at 0x7f66b465fa90>"
      ]
     },
     "execution_count": 39,
     "metadata": {},
     "output_type": "execute_result"
    }
   ],
   "source": [
    " df_ini.geometry_building.iloc[4]"
   ]
  },
  {
   "cell_type": "code",
   "execution_count": 48,
   "metadata": {},
   "outputs": [],
   "source": [
    "import matplotlib.pyplot as plt"
   ]
  },
  {
   "cell_type": "code",
   "execution_count": 56,
   "metadata": {},
   "outputs": [
    {
     "data": {
      "text/plain": [
       "[<matplotlib.lines.Line2D at 0x7f669b72c4f0>]"
      ]
     },
     "execution_count": 56,
     "metadata": {},
     "output_type": "execute_result"
    },
    {
     "data": {
      "image/png": "[encoded data removed]",
      "text/plain": [
       "<Figure size 432x288 with 1 Axes>"
      ]
     },
     "metadata": {
      "needs_background": "light"
     },
     "output_type": "display_data"
    }
   ],
   "source": [
    "plt.plot(b[0], b[1])\n",
    "plt.plot(p[0], p[1])"
   ]
  },
  {
   "cell_type": "code",
   "execution_count": null,
   "metadata": {},
   "outputs": [],
   "source": []
  }
 ],
 "metadata": {
  "colab": {
   "collapsed_sections": [],
   "name": "data_parsing.ipynb",
   "provenance": []
  },
  "kernelspec": {
   "display_name": "firstEnv",
   "language": "python",
   "name": "firstenv"
  },
  "language_info": {
   "codemirror_mode": {
    "name": "ipython",
    "version": 3
   },
   "file_extension": ".py",
   "mimetype": "text/x-python",
   "name": "python",
   "nbconvert_exporter": "python",
   "pygments_lexer": "ipython3",
   "version": "3.8.5"
  }
 },
 "nbformat": 4,
 "nbformat_minor": 1
}
