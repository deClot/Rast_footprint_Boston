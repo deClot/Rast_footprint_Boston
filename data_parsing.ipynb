{
 "cells": [
  {
   "cell_type": "code",
   "execution_count": 77,
   "metadata": {
    "colab": {},
    "colab_type": "code",
    "id": "aoURzhdL_7TF"
   },
   "outputs": [],
   "source": [
    "import geopandas as gpd # Для парсинга карты\n",
    "import pandas as pd\n",
    "import matplotlib.pyplot as plt # Для отрисовки\n",
    "from tqdm import tqdm\n",
    "import IPython\n",
    "\n",
    "def display(*dfs):\n",
    "    for df in dfs:\n",
    "        IPython.display.display(df)"
   ]
  },
  {
   "cell_type": "code",
   "execution_count": 78,
   "metadata": {
    "colab": {},
    "colab_type": "code",
    "id": "2l-h_p7d_-bf"
   },
   "outputs": [],
   "source": [
    "# DATASET_FOLDER = 'drive/My Drive/dataset'\n",
    "# MAPS_FOLDER = f'{DATASET_FOLDER}/maps'\n",
    "\n",
    "MAPS_FOLDER = './boston_dataset'"
   ]
  },
  {
   "cell_type": "code",
   "execution_count": 35,
   "metadata": {
    "colab": {
     "base_uri": "https://localhost:8080/",
     "height": 581
    },
    "colab_type": "code",
    "id": "h3BMEjwWAVtB",
    "outputId": "4d65f0c8-78ab-4b8a-d43e-0f9fd0b676f5"
   },
   "outputs": [
    {
     "name": "stdout",
     "output_type": "stream",
     "text": [
      "(129370, 29)\n"
     ]
    },
    {
     "data": {
      "text/html": [
       "<div>\n",
       "<style scoped>\n",
       "    .dataframe tbody tr th:only-of-type {\n",
       "        vertical-align: middle;\n",
       "    }\n",
       "\n",
       "    .dataframe tbody tr th {\n",
       "        vertical-align: top;\n",
       "    }\n",
       "\n",
       "    .dataframe thead th {\n",
       "        text-align: right;\n",
       "    }\n",
       "</style>\n",
       "<table border=\"1\" class=\"dataframe\">\n",
       "  <thead>\n",
       "    <tr style=\"text-align: right;\">\n",
       "      <th></th>\n",
       "      <th>BUILDING_I</th>\n",
       "      <th>PARCEL_ID</th>\n",
       "      <th>ADDRESS_ID</th>\n",
       "      <th>PART_ADDRE</th>\n",
       "      <th>PART_ID</th>\n",
       "      <th>PART_USE</th>\n",
       "      <th>PART_BRA_U</th>\n",
       "      <th>PART_CONTA</th>\n",
       "      <th>PART_STATU</th>\n",
       "      <th>PART_VIEW</th>\n",
       "      <th>...</th>\n",
       "      <th>BUILDING_H</th>\n",
       "      <th>IEL_TYPE</th>\n",
       "      <th>BASE_ELEVA</th>\n",
       "      <th>ELEVATION_</th>\n",
       "      <th>TOP_SEA_LE</th>\n",
       "      <th>ELEVATION1</th>\n",
       "      <th>TOP_GROUND</th>\n",
       "      <th>Shape_area</th>\n",
       "      <th>Shape_len</th>\n",
       "      <th>geometry</th>\n",
       "    </tr>\n",
       "  </thead>\n",
       "  <tbody>\n",
       "    <tr>\n",
       "      <th>0</th>\n",
       "      <td>Bos_2205632000_B0</td>\n",
       "      <td>2205632000</td>\n",
       "      <td>2205632000_A0</td>\n",
       "      <td>68 KENRICK ST, 02135</td>\n",
       "      <td>Bos_2205632000_B0_M0</td>\n",
       "      <td>R1</td>\n",
       "      <td>R1</td>\n",
       "      <td>MCNAMARA ROBERT O</td>\n",
       "      <td>BUILT</td>\n",
       "      <td>PUBLIC</td>\n",
       "      <td>...</td>\n",
       "      <td>16.890698</td>\n",
       "      <td>BLDG</td>\n",
       "      <td>55.365665</td>\n",
       "      <td>70.138047</td>\n",
       "      <td>74.846878</td>\n",
       "      <td>14.772382</td>\n",
       "      <td>19.481212</td>\n",
       "      <td>1161.397293</td>\n",
       "      <td>149.394841</td>\n",
       "      <td>POLYGON Z ((746591.271 2951419.399 69.207, 746...</td>\n",
       "    </tr>\n",
       "    <tr>\n",
       "      <th>1</th>\n",
       "      <td>Bos_2102861000_B1</td>\n",
       "      <td>2102861000</td>\n",
       "      <td>2102861000_A0</td>\n",
       "      <td>53 CHESTNUT HILL AV, 02135</td>\n",
       "      <td>Bos_2102861000_B1_M0</td>\n",
       "      <td>R2</td>\n",
       "      <td>R2</td>\n",
       "      <td>CUNNINGHAM JOHN J</td>\n",
       "      <td>BUILT</td>\n",
       "      <td>PUBLIC</td>\n",
       "      <td>...</td>\n",
       "      <td>36.756003</td>\n",
       "      <td>BLDG</td>\n",
       "      <td>129.925217</td>\n",
       "      <td>137.779148</td>\n",
       "      <td>146.070301</td>\n",
       "      <td>7.853931</td>\n",
       "      <td>16.145084</td>\n",
       "      <td>549.002100</td>\n",
       "      <td>96.663101</td>\n",
       "      <td>POLYGON Z ((749810.012 2951406.252 137.778, 74...</td>\n",
       "    </tr>\n",
       "    <tr>\n",
       "      <th>2</th>\n",
       "      <td>Bos_2204921000_B0</td>\n",
       "      <td>2204921000</td>\n",
       "      <td>2204921000_A0</td>\n",
       "      <td>97 ACADEMY HILL RD, 02135</td>\n",
       "      <td>Bos_2204921000_B0_M0</td>\n",
       "      <td>R2</td>\n",
       "      <td>R2</td>\n",
       "      <td>KEEFE EDWARD J</td>\n",
       "      <td>BUILT</td>\n",
       "      <td>PUBLIC</td>\n",
       "      <td>...</td>\n",
       "      <td>21.713000</td>\n",
       "      <td>BLDG</td>\n",
       "      <td>162.142441</td>\n",
       "      <td>184.654210</td>\n",
       "      <td>190.966186</td>\n",
       "      <td>22.511769</td>\n",
       "      <td>28.823745</td>\n",
       "      <td>1456.043245</td>\n",
       "      <td>181.859296</td>\n",
       "      <td>POLYGON Z ((749458.573 2951325.510 175.721, 74...</td>\n",
       "    </tr>\n",
       "    <tr>\n",
       "      <th>3</th>\n",
       "      <td>Bos_2102862000_B1</td>\n",
       "      <td>2102862000</td>\n",
       "      <td>2102862000_A0</td>\n",
       "      <td>55 CHESTNUT HILL AV, 02135</td>\n",
       "      <td>Bos_2102862000_B1_M0</td>\n",
       "      <td>R3</td>\n",
       "      <td>R3</td>\n",
       "      <td>CUNNINGHAM JOHN J</td>\n",
       "      <td>BUILT</td>\n",
       "      <td>PUBLIC</td>\n",
       "      <td>...</td>\n",
       "      <td>22.761005</td>\n",
       "      <td>BLDG</td>\n",
       "      <td>131.035858</td>\n",
       "      <td>152.578506</td>\n",
       "      <td>161.123235</td>\n",
       "      <td>21.542647</td>\n",
       "      <td>30.087377</td>\n",
       "      <td>982.054372</td>\n",
       "      <td>135.393057</td>\n",
       "      <td>POLYGON Z ((749791.436 2951364.987 144.628, 74...</td>\n",
       "    </tr>\n",
       "    <tr>\n",
       "      <th>4</th>\n",
       "      <td>Bos_2102870000_B0</td>\n",
       "      <td>2102870000</td>\n",
       "      <td>2102870000_A0</td>\n",
       "      <td>15 WM JACKSON AV, 02135</td>\n",
       "      <td>Bos_2102870000_B0_M0</td>\n",
       "      <td>R1</td>\n",
       "      <td>R1</td>\n",
       "      <td>YUNG JIN P</td>\n",
       "      <td>BUILT</td>\n",
       "      <td>PUBLIC</td>\n",
       "      <td>...</td>\n",
       "      <td>20.348997</td>\n",
       "      <td>BLDG</td>\n",
       "      <td>170.059418</td>\n",
       "      <td>184.541181</td>\n",
       "      <td>196.525357</td>\n",
       "      <td>14.481763</td>\n",
       "      <td>26.465939</td>\n",
       "      <td>1167.143115</td>\n",
       "      <td>149.400957</td>\n",
       "      <td>POLYGON Z ((749737.548 2951033.339 183.535, 74...</td>\n",
       "    </tr>\n",
       "  </tbody>\n",
       "</table>\n",
       "<p>5 rows × 29 columns</p>\n",
       "</div>"
      ],
      "text/plain": [
       "          BUILDING_I   PARCEL_ID     ADDRESS_ID                  PART_ADDRE  \\\n",
       "0  Bos_2205632000_B0  2205632000  2205632000_A0        68 KENRICK ST, 02135   \n",
       "1  Bos_2102861000_B1  2102861000  2102861000_A0  53 CHESTNUT HILL AV, 02135   \n",
       "2  Bos_2204921000_B0  2204921000  2204921000_A0   97 ACADEMY HILL RD, 02135   \n",
       "3  Bos_2102862000_B1  2102862000  2102862000_A0  55 CHESTNUT HILL AV, 02135   \n",
       "4  Bos_2102870000_B0  2102870000  2102870000_A0     15 WM JACKSON AV, 02135   \n",
       "\n",
       "                PART_ID PART_USE PART_BRA_U         PART_CONTA PART_STATU  \\\n",
       "0  Bos_2205632000_B0_M0       R1         R1  MCNAMARA ROBERT O      BUILT   \n",
       "1  Bos_2102861000_B1_M0       R2         R2  CUNNINGHAM JOHN J      BUILT   \n",
       "2  Bos_2204921000_B0_M0       R2         R2     KEEFE EDWARD J      BUILT   \n",
       "3  Bos_2102862000_B1_M0       R3         R3  CUNNINGHAM JOHN J      BUILT   \n",
       "4  Bos_2102870000_B0_M0       R1         R1         YUNG JIN P      BUILT   \n",
       "\n",
       "  PART_VIEW  ...  BUILDING_H  IEL_TYPE  BASE_ELEVA  ELEVATION_  TOP_SEA_LE  \\\n",
       "0    PUBLIC  ...   16.890698      BLDG   55.365665   70.138047   74.846878   \n",
       "1    PUBLIC  ...   36.756003      BLDG  129.925217  137.779148  146.070301   \n",
       "2    PUBLIC  ...   21.713000      BLDG  162.142441  184.654210  190.966186   \n",
       "3    PUBLIC  ...   22.761005      BLDG  131.035858  152.578506  161.123235   \n",
       "4    PUBLIC  ...   20.348997      BLDG  170.059418  184.541181  196.525357   \n",
       "\n",
       "   ELEVATION1  TOP_GROUND   Shape_area   Shape_len  \\\n",
       "0   14.772382   19.481212  1161.397293  149.394841   \n",
       "1    7.853931   16.145084   549.002100   96.663101   \n",
       "2   22.511769   28.823745  1456.043245  181.859296   \n",
       "3   21.542647   30.087377   982.054372  135.393057   \n",
       "4   14.481763   26.465939  1167.143115  149.400957   \n",
       "\n",
       "                                            geometry  \n",
       "0  POLYGON Z ((746591.271 2951419.399 69.207, 746...  \n",
       "1  POLYGON Z ((749810.012 2951406.252 137.778, 74...  \n",
       "2  POLYGON Z ((749458.573 2951325.510 175.721, 74...  \n",
       "3  POLYGON Z ((749791.436 2951364.987 144.628, 74...  \n",
       "4  POLYGON Z ((749737.548 2951033.339 183.535, 74...  \n",
       "\n",
       "[5 rows x 29 columns]"
      ]
     },
     "execution_count": 35,
     "metadata": {},
     "output_type": "execute_result"
    }
   ],
   "source": [
    "# builds = gpd.read_file(f'{MAPS_FOLDER}/building/boston_buildings.shp')\n",
    "builds = gpd.read_file(f'{MAPS_FOLDER}/building/boston_buildings.shp')\n",
    "print(builds.shape)\n",
    "builds.head()"
   ]
  },
  {
   "cell_type": "code",
   "execution_count": 36,
   "metadata": {
    "colab": {},
    "colab_type": "code",
    "id": "orWZVLjBKazQ"
   },
   "outputs": [],
   "source": [
    "# Пропуски в участках\n",
    "builds = builds[builds.PARCEL_ID.notna()]\n",
    "# Выбрасываем участки с количеством домов больше 1 (17 from 130 *10^3)\n",
    "buildings_ids = builds.PARCEL_ID.value_counts()[builds.PARCEL_ID.value_counts() > 1].index\n",
    "builds = builds[~builds.PARCEL_ID.isin(buildings_ids)]\n",
    "# Выбрасываем дважды зарегестрированные дома\n",
    "buildings_ids = builds.BUILDING_I.value_counts()[builds.BUILDING_I.value_counts()>1].index\n",
    "builds = builds[~builds.BUILDING_I.isin(buildings_ids)]\n",
    "# Убираем пропуски в форме здания  и в типе здания\n",
    "builds = builds[builds.geometry.notna()]\n",
    "builds = builds[builds.PART_STATU.notna()]\n",
    "# Количество уникальных участков совпадает с количеством наблюдений\n",
    "assert builds.PARCEL_ID.nunique() == builds.shape[0]"
   ]
  },
  {
   "cell_type": "code",
   "execution_count": 37,
   "metadata": {
    "colab": {
     "base_uri": "https://localhost:8080/",
     "height": 289
    },
    "colab_type": "code",
    "id": "eJdeQhAFEo3m",
    "outputId": "5bae249f-71e8-4eec-833e-809abf91c0b5"
   },
   "outputs": [
    {
     "data": {
      "text/html": [
       "<div>\n",
       "<style scoped>\n",
       "    .dataframe tbody tr th:only-of-type {\n",
       "        vertical-align: middle;\n",
       "    }\n",
       "\n",
       "    .dataframe tbody tr th {\n",
       "        vertical-align: top;\n",
       "    }\n",
       "\n",
       "    .dataframe thead th {\n",
       "        text-align: right;\n",
       "    }\n",
       "</style>\n",
       "<table border=\"1\" class=\"dataframe\">\n",
       "  <thead>\n",
       "    <tr style=\"text-align: right;\">\n",
       "      <th></th>\n",
       "      <th>WARD</th>\n",
       "      <th>PARCEL</th>\n",
       "      <th>PID_LONG</th>\n",
       "      <th>WPD</th>\n",
       "      <th>BATCH</th>\n",
       "      <th>SHAPE_area</th>\n",
       "      <th>SHAPE_len</th>\n",
       "      <th>geometry</th>\n",
       "    </tr>\n",
       "  </thead>\n",
       "  <tbody>\n",
       "    <tr>\n",
       "      <th>0</th>\n",
       "      <td>14</td>\n",
       "      <td>2056</td>\n",
       "      <td>1402056000</td>\n",
       "      <td>14-02-105</td>\n",
       "      <td>0</td>\n",
       "      <td>5757.493630</td>\n",
       "      <td>315.033758</td>\n",
       "      <td>POLYGON ((769130.915 2932963.653, 769077.636 2...</td>\n",
       "    </tr>\n",
       "    <tr>\n",
       "      <th>1</th>\n",
       "      <td>14</td>\n",
       "      <td>2062</td>\n",
       "      <td>1402062000</td>\n",
       "      <td>14-02-105</td>\n",
       "      <td>0</td>\n",
       "      <td>15992.697124</td>\n",
       "      <td>504.383439</td>\n",
       "      <td>POLYGON ((768725.435 2932877.770, 768724.966 2...</td>\n",
       "    </tr>\n",
       "    <tr>\n",
       "      <th>2</th>\n",
       "      <td>14</td>\n",
       "      <td>2031</td>\n",
       "      <td>1402031000</td>\n",
       "      <td>14-02-105</td>\n",
       "      <td>0</td>\n",
       "      <td>6848.300234</td>\n",
       "      <td>374.282334</td>\n",
       "      <td>POLYGON ((768817.544 2933017.601, 768791.533 2...</td>\n",
       "    </tr>\n",
       "    <tr>\n",
       "      <th>3</th>\n",
       "      <td>20</td>\n",
       "      <td>11758-10</td>\n",
       "      <td>2011758010</td>\n",
       "      <td>20-03-011</td>\n",
       "      <td>0</td>\n",
       "      <td>13714.523754</td>\n",
       "      <td>504.092976</td>\n",
       "      <td>POLYGON ((749271.802 2918978.927, 749392.524 2...</td>\n",
       "    </tr>\n",
       "    <tr>\n",
       "      <th>4</th>\n",
       "      <td>20</td>\n",
       "      <td>11760</td>\n",
       "      <td>2011760000</td>\n",
       "      <td>20-03-011</td>\n",
       "      <td>0</td>\n",
       "      <td>14186.845679</td>\n",
       "      <td>500.495781</td>\n",
       "      <td>POLYGON ((749411.968 2919142.915, 749259.493 2...</td>\n",
       "    </tr>\n",
       "  </tbody>\n",
       "</table>\n",
       "</div>"
      ],
      "text/plain": [
       "   WARD    PARCEL    PID_LONG        WPD  BATCH    SHAPE_area   SHAPE_len  \\\n",
       "0    14      2056  1402056000  14-02-105      0   5757.493630  315.033758   \n",
       "1    14      2062  1402062000  14-02-105      0  15992.697124  504.383439   \n",
       "2    14      2031  1402031000  14-02-105      0   6848.300234  374.282334   \n",
       "3    20  11758-10  2011758010  20-03-011      0  13714.523754  504.092976   \n",
       "4    20     11760  2011760000  20-03-011      0  14186.845679  500.495781   \n",
       "\n",
       "                                            geometry  \n",
       "0  POLYGON ((769130.915 2932963.653, 769077.636 2...  \n",
       "1  POLYGON ((768725.435 2932877.770, 768724.966 2...  \n",
       "2  POLYGON ((768817.544 2933017.601, 768791.533 2...  \n",
       "3  POLYGON ((749271.802 2918978.927, 749392.524 2...  \n",
       "4  POLYGON ((749411.968 2919142.915, 749259.493 2...  "
      ]
     },
     "execution_count": 37,
     "metadata": {},
     "output_type": "execute_result"
    }
   ],
   "source": [
    "places = gpd.read_file(f'{MAPS_FOLDER}/parcels/parcels_14.shp')\n",
    "places.head()"
   ]
  },
  {
   "cell_type": "code",
   "execution_count": 38,
   "metadata": {
    "colab": {},
    "colab_type": "code",
    "id": "jcfci6GwEXQL"
   },
   "outputs": [],
   "source": [
    "# Участи, зарегестрированные более 1 раза\n",
    "place_ids = places.PID_LONG.value_counts()[places.PID_LONG.value_counts() >1].index\n",
    "places = places[~places.PID_LONG.isin(place_ids)]\n",
    "# Участки с пропусками\n",
    "places = places[places.PID_LONG.notna()]\n",
    "# Количество уникальных участков совпадает с количеством наблюдений\n",
    "assert places.shape[0] == places.PID_LONG.nunique()"
   ]
  },
  {
   "cell_type": "code",
   "execution_count": 39,
   "metadata": {
    "colab": {
     "base_uri": "https://localhost:8080/",
     "height": 34
    },
    "colab_type": "code",
    "id": "c0rXMBDSNx9l",
    "outputId": "6efacdd0-9530-4413-e488-0b38bb29858e"
   },
   "outputs": [
    {
     "data": {
      "text/plain": [
       "((71706, 29), (99241, 8))"
      ]
     },
     "execution_count": 39,
     "metadata": {},
     "output_type": "execute_result"
    }
   ],
   "source": [
    "builds.shape, places.shape"
   ]
  },
  {
   "cell_type": "code",
   "execution_count": 40,
   "metadata": {
    "colab": {
     "base_uri": "https://localhost:8080/",
     "height": 51
    },
    "colab_type": "code",
    "id": "fj1o4cPrBi6_",
    "outputId": "56322cac-f0c1-4008-c874-b4d99fa18202"
   },
   "outputs": [
    {
     "name": "stdout",
     "output_type": "stream",
     "text": [
      "(99241, 8) (71706, 29)\n",
      "buildings on places 71210\n"
     ]
    }
   ],
   "source": [
    "print(places.shape, builds.shape)\n",
    "print('buildings on places', builds.PARCEL_ID.isin(places.PID_LONG.unique()).sum())"
   ]
  },
  {
   "cell_type": "code",
   "execution_count": 41,
   "metadata": {
    "colab": {
     "base_uri": "https://localhost:8080/",
     "height": 479
    },
    "colab_type": "code",
    "id": "EBnqfhG5Dwrx",
    "outputId": "d80951b4-87dd-4c9e-fb62-1967ed38cfc2"
   },
   "outputs": [
    {
     "data": {
      "text/html": [
       "<div>\n",
       "<style scoped>\n",
       "    .dataframe tbody tr th:only-of-type {\n",
       "        vertical-align: middle;\n",
       "    }\n",
       "\n",
       "    .dataframe tbody tr th {\n",
       "        vertical-align: top;\n",
       "    }\n",
       "\n",
       "    .dataframe thead th {\n",
       "        text-align: right;\n",
       "    }\n",
       "</style>\n",
       "<table border=\"1\" class=\"dataframe\">\n",
       "  <thead>\n",
       "    <tr style=\"text-align: right;\">\n",
       "      <th></th>\n",
       "      <th>BUILDING_I</th>\n",
       "      <th>PARCEL_ID</th>\n",
       "      <th>ADDRESS_ID</th>\n",
       "      <th>PART_ADDRE</th>\n",
       "      <th>PART_ID</th>\n",
       "      <th>PART_USE</th>\n",
       "      <th>PART_BRA_U</th>\n",
       "      <th>PART_CONTA</th>\n",
       "      <th>PART_STATU</th>\n",
       "      <th>PART_VIEW</th>\n",
       "      <th>...</th>\n",
       "      <th>Shape_len</th>\n",
       "      <th>geometry_building</th>\n",
       "      <th>WARD</th>\n",
       "      <th>PARCEL</th>\n",
       "      <th>PID_LONG</th>\n",
       "      <th>WPD</th>\n",
       "      <th>BATCH</th>\n",
       "      <th>SHAPE_area</th>\n",
       "      <th>SHAPE_len</th>\n",
       "      <th>geometry_place</th>\n",
       "    </tr>\n",
       "  </thead>\n",
       "  <tbody>\n",
       "    <tr>\n",
       "      <th>0</th>\n",
       "      <td>Bos_2205632000_B0</td>\n",
       "      <td>2205632000</td>\n",
       "      <td>2205632000_A0</td>\n",
       "      <td>68 KENRICK ST, 02135</td>\n",
       "      <td>Bos_2205632000_B0_M0</td>\n",
       "      <td>R1</td>\n",
       "      <td>R1</td>\n",
       "      <td>MCNAMARA ROBERT O</td>\n",
       "      <td>BUILT</td>\n",
       "      <td>PUBLIC</td>\n",
       "      <td>...</td>\n",
       "      <td>149.394841</td>\n",
       "      <td>POLYGON Z ((746591.271 2951419.399 69.207, 746...</td>\n",
       "      <td>22</td>\n",
       "      <td>5632</td>\n",
       "      <td>2205632000</td>\n",
       "      <td>22-08-060</td>\n",
       "      <td>0</td>\n",
       "      <td>6147.989082</td>\n",
       "      <td>325.006781</td>\n",
       "      <td>POLYGON ((746621.759 2951435.076, 746611.102 2...</td>\n",
       "    </tr>\n",
       "    <tr>\n",
       "      <th>1</th>\n",
       "      <td>Bos_2204921000_B0</td>\n",
       "      <td>2204921000</td>\n",
       "      <td>2204921000_A0</td>\n",
       "      <td>97 ACADEMY HILL RD, 02135</td>\n",
       "      <td>Bos_2204921000_B0_M0</td>\n",
       "      <td>R2</td>\n",
       "      <td>R2</td>\n",
       "      <td>KEEFE EDWARD J</td>\n",
       "      <td>BUILT</td>\n",
       "      <td>PUBLIC</td>\n",
       "      <td>...</td>\n",
       "      <td>181.859296</td>\n",
       "      <td>POLYGON Z ((749458.573 2951325.510 175.721, 74...</td>\n",
       "      <td>22</td>\n",
       "      <td>4921</td>\n",
       "      <td>2204921000</td>\n",
       "      <td>22-09-020</td>\n",
       "      <td>0</td>\n",
       "      <td>8083.907188</td>\n",
       "      <td>362.749418</td>\n",
       "      <td>POLYGON ((749402.010 2951291.513, 749435.010 2...</td>\n",
       "    </tr>\n",
       "    <tr>\n",
       "      <th>2</th>\n",
       "      <td>Bos_2102870000_B0</td>\n",
       "      <td>2102870000</td>\n",
       "      <td>2102870000_A0</td>\n",
       "      <td>15 WM JACKSON AV, 02135</td>\n",
       "      <td>Bos_2102870000_B0_M0</td>\n",
       "      <td>R1</td>\n",
       "      <td>R1</td>\n",
       "      <td>YUNG JIN P</td>\n",
       "      <td>BUILT</td>\n",
       "      <td>PUBLIC</td>\n",
       "      <td>...</td>\n",
       "      <td>149.400957</td>\n",
       "      <td>POLYGON Z ((749737.548 2951033.339 183.535, 74...</td>\n",
       "      <td>21</td>\n",
       "      <td>2870</td>\n",
       "      <td>2102870000</td>\n",
       "      <td>21-13-005</td>\n",
       "      <td>0</td>\n",
       "      <td>4271.789581</td>\n",
       "      <td>421.615170</td>\n",
       "      <td>POLYGON ((749743.230 2950985.758, 749714.095 2...</td>\n",
       "    </tr>\n",
       "    <tr>\n",
       "      <th>3</th>\n",
       "      <td>Bos_2102857000_B0</td>\n",
       "      <td>2102857000</td>\n",
       "      <td>2102857000_A0</td>\n",
       "      <td>86 ACADEMY HILL RD, 02135</td>\n",
       "      <td>Bos_2102857000_B0_M0</td>\n",
       "      <td>R2</td>\n",
       "      <td>R2</td>\n",
       "      <td>JOE CAROL</td>\n",
       "      <td>BUILT</td>\n",
       "      <td>PUBLIC</td>\n",
       "      <td>...</td>\n",
       "      <td>184.331184</td>\n",
       "      <td>POLYGON Z ((749675.844 2951369.308 177.057, 74...</td>\n",
       "      <td>21</td>\n",
       "      <td>2857</td>\n",
       "      <td>2102857000</td>\n",
       "      <td>21-13-005</td>\n",
       "      <td>0</td>\n",
       "      <td>9911.996103</td>\n",
       "      <td>466.564661</td>\n",
       "      <td>POLYGON ((749750.445 2951355.464, 749741.850 2...</td>\n",
       "    </tr>\n",
       "    <tr>\n",
       "      <th>4</th>\n",
       "      <td>Bos_2102856000_B0</td>\n",
       "      <td>2102856000</td>\n",
       "      <td>2102856000_A0</td>\n",
       "      <td>90 ACADEMY HILL RD, 02135</td>\n",
       "      <td>Bos_2102856000_B0_M0</td>\n",
       "      <td>R2</td>\n",
       "      <td>R2</td>\n",
       "      <td>KRIZAN MAGDA</td>\n",
       "      <td>BUILT</td>\n",
       "      <td>PUBLIC</td>\n",
       "      <td>...</td>\n",
       "      <td>181.610025</td>\n",
       "      <td>POLYGON Z ((749656.610 2951320.949 183.698, 74...</td>\n",
       "      <td>21</td>\n",
       "      <td>2856</td>\n",
       "      <td>2102856000</td>\n",
       "      <td>21-13-005</td>\n",
       "      <td>0</td>\n",
       "      <td>7543.744282</td>\n",
       "      <td>434.782996</td>\n",
       "      <td>POLYGON ((749737.693 2951282.616, 749733.662 2...</td>\n",
       "    </tr>\n",
       "  </tbody>\n",
       "</table>\n",
       "<p>5 rows × 37 columns</p>\n",
       "</div>"
      ],
      "text/plain": [
       "          BUILDING_I   PARCEL_ID     ADDRESS_ID                 PART_ADDRE  \\\n",
       "0  Bos_2205632000_B0  2205632000  2205632000_A0       68 KENRICK ST, 02135   \n",
       "1  Bos_2204921000_B0  2204921000  2204921000_A0  97 ACADEMY HILL RD, 02135   \n",
       "2  Bos_2102870000_B0  2102870000  2102870000_A0    15 WM JACKSON AV, 02135   \n",
       "3  Bos_2102857000_B0  2102857000  2102857000_A0  86 ACADEMY HILL RD, 02135   \n",
       "4  Bos_2102856000_B0  2102856000  2102856000_A0  90 ACADEMY HILL RD, 02135   \n",
       "\n",
       "                PART_ID PART_USE PART_BRA_U         PART_CONTA PART_STATU  \\\n",
       "0  Bos_2205632000_B0_M0       R1         R1  MCNAMARA ROBERT O      BUILT   \n",
       "1  Bos_2204921000_B0_M0       R2         R2     KEEFE EDWARD J      BUILT   \n",
       "2  Bos_2102870000_B0_M0       R1         R1         YUNG JIN P      BUILT   \n",
       "3  Bos_2102857000_B0_M0       R2         R2          JOE CAROL      BUILT   \n",
       "4  Bos_2102856000_B0_M0       R2         R2       KRIZAN MAGDA      BUILT   \n",
       "\n",
       "  PART_VIEW  ...   Shape_len  \\\n",
       "0    PUBLIC  ...  149.394841   \n",
       "1    PUBLIC  ...  181.859296   \n",
       "2    PUBLIC  ...  149.400957   \n",
       "3    PUBLIC  ...  184.331184   \n",
       "4    PUBLIC  ...  181.610025   \n",
       "\n",
       "                                   geometry_building  WARD PARCEL    PID_LONG  \\\n",
       "0  POLYGON Z ((746591.271 2951419.399 69.207, 746...    22   5632  2205632000   \n",
       "1  POLYGON Z ((749458.573 2951325.510 175.721, 74...    22   4921  2204921000   \n",
       "2  POLYGON Z ((749737.548 2951033.339 183.535, 74...    21   2870  2102870000   \n",
       "3  POLYGON Z ((749675.844 2951369.308 177.057, 74...    21   2857  2102857000   \n",
       "4  POLYGON Z ((749656.610 2951320.949 183.698, 74...    21   2856  2102856000   \n",
       "\n",
       "         WPD  BATCH   SHAPE_area   SHAPE_len  \\\n",
       "0  22-08-060      0  6147.989082  325.006781   \n",
       "1  22-09-020      0  8083.907188  362.749418   \n",
       "2  21-13-005      0  4271.789581  421.615170   \n",
       "3  21-13-005      0  9911.996103  466.564661   \n",
       "4  21-13-005      0  7543.744282  434.782996   \n",
       "\n",
       "                                      geometry_place  \n",
       "0  POLYGON ((746621.759 2951435.076, 746611.102 2...  \n",
       "1  POLYGON ((749402.010 2951291.513, 749435.010 2...  \n",
       "2  POLYGON ((749743.230 2950985.758, 749714.095 2...  \n",
       "3  POLYGON ((749750.445 2951355.464, 749741.850 2...  \n",
       "4  POLYGON ((749737.693 2951282.616, 749733.662 2...  \n",
       "\n",
       "[5 rows x 37 columns]"
      ]
     },
     "execution_count": 41,
     "metadata": {},
     "output_type": "execute_result"
    }
   ],
   "source": [
    "df_ini = builds.merge(places,  left_on='PARCEL_ID', right_on='PID_LONG', how='inner')\n",
    "df_ini.rename(columns={'geometry_x': 'geometry_building',\n",
    "                       'geometry_y': 'geometry_place'},\n",
    "              inplace=True)\n",
    "df_ini.head()"
   ]
  },
  {
   "cell_type": "code",
   "execution_count": 42,
   "metadata": {},
   "outputs": [
    {
     "data": {
      "text/plain": [
       "pandas.core.frame.DataFrame"
      ]
     },
     "execution_count": 42,
     "metadata": {},
     "output_type": "execute_result"
    }
   ],
   "source": [
    "type(df_ini)"
   ]
  },
  {
   "cell_type": "code",
   "execution_count": 43,
   "metadata": {
    "colab": {
     "base_uri": "https://localhost:8080/",
     "height": 102
    },
    "colab_type": "code",
    "id": "d9vBzgB3St6H",
    "outputId": "f3b015fb-c053-41a9-8865-b13a9cbd7852"
   },
   "outputs": [
    {
     "name": "stdout",
     "output_type": "stream",
     "text": [
      "PART_VIEW 1\n",
      "PART_USE 14\n",
      "PART_CONTA 64319\n",
      "PART_ADDRE 70745\n",
      "PART_FLOOR 53\n"
     ]
    }
   ],
   "source": [
    "features = ['PART_VIEW', 'PART_USE', 'PART_CONTA', 'PART_ADDRE', 'PART_FLOOR']\n",
    "for f in features:\n",
    "    print(f, df_ini[f].nunique())"
   ]
  },
  {
   "cell_type": "code",
   "execution_count": 44,
   "metadata": {
    "colab": {},
    "colab_type": "code",
    "id": "GaZ5zYnUi0Hg"
   },
   "outputs": [],
   "source": [
    "%matplotlib inline\n",
    "import matplotlib.pyplot as plt"
   ]
  },
  {
   "cell_type": "code",
   "execution_count": 46,
   "metadata": {
    "colab": {
     "base_uri": "https://localhost:8080/",
     "height": 248
    },
    "colab_type": "code",
    "id": "bcNQjUoETp5B",
    "outputId": "5a1e52c5-2d34-408d-f725-e4b04b9693a2"
   },
   "outputs": [
    {
     "data": {
      "image/png": "[encoded data removed]",
      "text/plain": [
       "<Figure size 432x288 with 1 Axes>"
      ]
     },
     "metadata": {
      "needs_background": "light"
     },
     "output_type": "display_data"
    }
   ],
   "source": [
    "df = df_ini.iloc[:,29:].copy()\n",
    "df.rename(columns={'geometry_place': 'geometry'}, inplace=True)\n",
    "# df = gpd.GeoDataFrame(df)\n",
    "\n",
    "figsize = (5, 5)\n",
    "\n",
    "ax = plt.subplot(111)#\n",
    "t = gpd.GeoDataFrame(df[df.PID_LONG=='2205632000'].geometry)\n",
    "t.plot(color='000', figsize=figsize, ax=ax)\n",
    "ax.set_axis_off()\n",
    "\n",
    "df = df_ini.iloc[:,:29].copy()\n",
    "df.rename(columns={'geometry_building': 'geometry'}, inplace=True)\n",
    "# df = gpd.GeoDataFrame(df)\n",
    "\n",
    "t = gpd.GeoDataFrame(df[df.PARCEL_ID=='2205632000'].geometry)\n",
    "t.plot(color='r', figsize=figsize, ax=ax)\n",
    "plt.show()"
   ]
  },
  {
   "cell_type": "code",
   "execution_count": 48,
   "metadata": {
    "colab": {},
    "colab_type": "code",
    "id": "TGHaqRzIHGxe"
   },
   "outputs": [
    {
     "data": {
      "text/plain": [
       "(geopandas.geodataframe.GeoDataFrame, pandas.core.frame.DataFrame)"
      ]
     },
     "execution_count": 48,
     "metadata": {},
     "output_type": "execute_result"
    }
   ],
   "source": [
    "type(t), type(df)"
   ]
  },
  {
   "cell_type": "code",
   "execution_count": 109,
   "metadata": {},
   "outputs": [],
   "source": [
    "DATASET_FOLDER = './dataset'\n",
    "figsize = (5, 5)\n",
    "\n",
    "def plot_dataset(x_ini):\n",
    "#     fig, ax = plt.figure(figsize=figsize)\n",
    "    x = x_ini.iloc[29:].copy()\n",
    "#     x.rename(index={'geometry_place': 'geometry'}, inplace=True)\n",
    "    # df = gpd.GeoDataFrame(df)\n",
    "\n",
    "    ax = plt.subplot(111)\n",
    "    t = gpd.GeoDataFrame(geometry=pd.Series(x.geometry_place))\n",
    "    t.plot(color='000', figsize=figsize, ax=ax)\n",
    "    ax.set_axis_off()\n",
    "\n",
    "    x = x_ini.iloc[:29].copy()\n",
    "#     x.rename(index={'geometry_building': 'geometry'}, inplace=True)\n",
    "#     df = gpd.GeoDataFrame(df)\n",
    "\n",
    "    t = gpd.GeoDataFrame(geometry=pd.Series(x.geometry_building))\n",
    "    t.plot(color='r', figsize=figsize, ax=ax)\n",
    "    plt.savefig(f'{DATASET_FOLDER}/total_{x.name}.png')   \n",
    "    plt.close('all')"
   ]
  },
  {
   "cell_type": "code",
   "execution_count": 110,
   "metadata": {},
   "outputs": [
    {
     "ename": "SystemError",
     "evalue": "<built-in method write of _io.BufferedWriter object at 0x7f574698af60> returned a result with an error set",
     "output_type": "error",
     "traceback": [
      "\u001b[0;31m---------------------------------------------------------------------------\u001b[0m",
      "\u001b[0;31mKeyboardInterrupt\u001b[0m                         Traceback (most recent call last)",
      "\u001b[0;31mKeyboardInterrupt\u001b[0m: ",
      "\nThe above exception was the direct cause of the following exception:\n",
      "\u001b[0;31mSystemError\u001b[0m                               Traceback (most recent call last)",
      "\u001b[0;31mSystemError\u001b[0m: <built-in method write of _io.BufferedWriter object at 0x7f574698af60> returned a result with an error set",
      "\nThe above exception was the direct cause of the following exception:\n",
      "\u001b[0;31mSystemError\u001b[0m                               Traceback (most recent call last)",
      "\u001b[0;31mSystemError\u001b[0m: <built-in method write of _io.BufferedWriter object at 0x7f574698af60> returned a result with an error set",
      "\nThe above exception was the direct cause of the following exception:\n",
      "\u001b[0;31mSystemError\u001b[0m                               Traceback (most recent call last)",
      "\u001b[0;32m<ipython-input-110-ec9e12770e0c>\u001b[0m in \u001b[0;36m<module>\u001b[0;34m\u001b[0m\n\u001b[0;32m----> 1\u001b[0;31m \u001b[0mdf_ini\u001b[0m\u001b[0;34m.\u001b[0m\u001b[0mapply\u001b[0m\u001b[0;34m(\u001b[0m\u001b[0mtest\u001b[0m\u001b[0;34m,\u001b[0m \u001b[0maxis\u001b[0m\u001b[0;34m=\u001b[0m\u001b[0;36m1\u001b[0m\u001b[0;34m)\u001b[0m\u001b[0;34m\u001b[0m\u001b[0;34m\u001b[0m\u001b[0m\n\u001b[0m",
      "\u001b[0;32m~/.local/lib/python3.8/site-packages/pandas/core/frame.py\u001b[0m in \u001b[0;36mapply\u001b[0;34m(self, func, axis, raw, result_type, args, **kwds)\u001b[0m\n\u001b[1;32m   7545\u001b[0m             \u001b[0mkwds\u001b[0m\u001b[0;34m=\u001b[0m\u001b[0mkwds\u001b[0m\u001b[0;34m,\u001b[0m\u001b[0;34m\u001b[0m\u001b[0;34m\u001b[0m\u001b[0m\n\u001b[1;32m   7546\u001b[0m         )\n\u001b[0;32m-> 7547\u001b[0;31m         \u001b[0;32mreturn\u001b[0m \u001b[0mop\u001b[0m\u001b[0;34m.\u001b[0m\u001b[0mget_result\u001b[0m\u001b[0;34m(\u001b[0m\u001b[0;34m)\u001b[0m\u001b[0;34m\u001b[0m\u001b[0;34m\u001b[0m\u001b[0m\n\u001b[0m\u001b[1;32m   7548\u001b[0m \u001b[0;34m\u001b[0m\u001b[0m\n\u001b[1;32m   7549\u001b[0m     \u001b[0;32mdef\u001b[0m \u001b[0mapplymap\u001b[0m\u001b[0;34m(\u001b[0m\u001b[0mself\u001b[0m\u001b[0;34m,\u001b[0m \u001b[0mfunc\u001b[0m\u001b[0;34m)\u001b[0m \u001b[0;34m->\u001b[0m \u001b[0;34m\"DataFrame\"\u001b[0m\u001b[0;34m:\u001b[0m\u001b[0;34m\u001b[0m\u001b[0;34m\u001b[0m\u001b[0m\n",
      "\u001b[0;32m~/.local/lib/python3.8/site-packages/pandas/core/apply.py\u001b[0m in \u001b[0;36mget_result\u001b[0;34m(self)\u001b[0m\n\u001b[1;32m    178\u001b[0m             \u001b[0;32mreturn\u001b[0m \u001b[0mself\u001b[0m\u001b[0;34m.\u001b[0m\u001b[0mapply_raw\u001b[0m\u001b[0;34m(\u001b[0m\u001b[0;34m)\u001b[0m\u001b[0;34m\u001b[0m\u001b[0;34m\u001b[0m\u001b[0m\n\u001b[1;32m    179\u001b[0m \u001b[0;34m\u001b[0m\u001b[0m\n\u001b[0;32m--> 180\u001b[0;31m         \u001b[0;32mreturn\u001b[0m \u001b[0mself\u001b[0m\u001b[0;34m.\u001b[0m\u001b[0mapply_standard\u001b[0m\u001b[0;34m(\u001b[0m\u001b[0;34m)\u001b[0m\u001b[0;34m\u001b[0m\u001b[0;34m\u001b[0m\u001b[0m\n\u001b[0m\u001b[1;32m    181\u001b[0m \u001b[0;34m\u001b[0m\u001b[0m\n\u001b[1;32m    182\u001b[0m     \u001b[0;32mdef\u001b[0m \u001b[0mapply_empty_result\u001b[0m\u001b[0;34m(\u001b[0m\u001b[0mself\u001b[0m\u001b[0;34m)\u001b[0m\u001b[0;34m:\u001b[0m\u001b[0;34m\u001b[0m\u001b[0;34m\u001b[0m\u001b[0m\n",
      "\u001b[0;32m~/.local/lib/python3.8/site-packages/pandas/core/apply.py\u001b[0m in \u001b[0;36mapply_standard\u001b[0;34m(self)\u001b[0m\n\u001b[1;32m    253\u001b[0m \u001b[0;34m\u001b[0m\u001b[0m\n\u001b[1;32m    254\u001b[0m     \u001b[0;32mdef\u001b[0m \u001b[0mapply_standard\u001b[0m\u001b[0;34m(\u001b[0m\u001b[0mself\u001b[0m\u001b[0;34m)\u001b[0m\u001b[0;34m:\u001b[0m\u001b[0;34m\u001b[0m\u001b[0;34m\u001b[0m\u001b[0m\n\u001b[0;32m--> 255\u001b[0;31m         \u001b[0mresults\u001b[0m\u001b[0;34m,\u001b[0m \u001b[0mres_index\u001b[0m \u001b[0;34m=\u001b[0m \u001b[0mself\u001b[0m\u001b[0;34m.\u001b[0m\u001b[0mapply_series_generator\u001b[0m\u001b[0;34m(\u001b[0m\u001b[0;34m)\u001b[0m\u001b[0;34m\u001b[0m\u001b[0;34m\u001b[0m\u001b[0m\n\u001b[0m\u001b[1;32m    256\u001b[0m \u001b[0;34m\u001b[0m\u001b[0m\n\u001b[1;32m    257\u001b[0m         \u001b[0;31m# wrap results\u001b[0m\u001b[0;34m\u001b[0m\u001b[0;34m\u001b[0m\u001b[0;34m\u001b[0m\u001b[0m\n",
      "\u001b[0;32m~/.local/lib/python3.8/site-packages/pandas/core/apply.py\u001b[0m in \u001b[0;36mapply_series_generator\u001b[0;34m(self)\u001b[0m\n\u001b[1;32m    282\u001b[0m                 \u001b[0;32mfor\u001b[0m \u001b[0mi\u001b[0m\u001b[0;34m,\u001b[0m \u001b[0mv\u001b[0m \u001b[0;32min\u001b[0m \u001b[0menumerate\u001b[0m\u001b[0;34m(\u001b[0m\u001b[0mseries_gen\u001b[0m\u001b[0;34m)\u001b[0m\u001b[0;34m:\u001b[0m\u001b[0;34m\u001b[0m\u001b[0;34m\u001b[0m\u001b[0m\n\u001b[1;32m    283\u001b[0m                     \u001b[0;31m# ignore SettingWithCopy here in case the user mutates\u001b[0m\u001b[0;34m\u001b[0m\u001b[0;34m\u001b[0m\u001b[0;34m\u001b[0m\u001b[0m\n\u001b[0;32m--> 284\u001b[0;31m                     \u001b[0mresults\u001b[0m\u001b[0;34m[\u001b[0m\u001b[0mi\u001b[0m\u001b[0;34m]\u001b[0m \u001b[0;34m=\u001b[0m \u001b[0mself\u001b[0m\u001b[0;34m.\u001b[0m\u001b[0mf\u001b[0m\u001b[0;34m(\u001b[0m\u001b[0mv\u001b[0m\u001b[0;34m)\u001b[0m\u001b[0;34m\u001b[0m\u001b[0;34m\u001b[0m\u001b[0m\n\u001b[0m\u001b[1;32m    285\u001b[0m                     \u001b[0;32mif\u001b[0m \u001b[0misinstance\u001b[0m\u001b[0;34m(\u001b[0m\u001b[0mresults\u001b[0m\u001b[0;34m[\u001b[0m\u001b[0mi\u001b[0m\u001b[0;34m]\u001b[0m\u001b[0;34m,\u001b[0m \u001b[0mABCSeries\u001b[0m\u001b[0;34m)\u001b[0m\u001b[0;34m:\u001b[0m\u001b[0;34m\u001b[0m\u001b[0;34m\u001b[0m\u001b[0m\n\u001b[1;32m    286\u001b[0m                         \u001b[0;31m# If we have a view on v, we need to make a copy because\u001b[0m\u001b[0;34m\u001b[0m\u001b[0;34m\u001b[0m\u001b[0;34m\u001b[0m\u001b[0m\n",
      "\u001b[0;32m<ipython-input-109-b72bd6f3ba57>\u001b[0m in \u001b[0;36mtest\u001b[0;34m(x_ini)\u001b[0m\n\u001b[1;32m     20\u001b[0m     \u001b[0mt\u001b[0m \u001b[0;34m=\u001b[0m \u001b[0mgpd\u001b[0m\u001b[0;34m.\u001b[0m\u001b[0mGeoDataFrame\u001b[0m\u001b[0;34m(\u001b[0m\u001b[0mgeometry\u001b[0m\u001b[0;34m=\u001b[0m\u001b[0mpd\u001b[0m\u001b[0;34m.\u001b[0m\u001b[0mSeries\u001b[0m\u001b[0;34m(\u001b[0m\u001b[0mx\u001b[0m\u001b[0;34m.\u001b[0m\u001b[0mgeometry_building\u001b[0m\u001b[0;34m)\u001b[0m\u001b[0;34m)\u001b[0m\u001b[0;34m\u001b[0m\u001b[0;34m\u001b[0m\u001b[0m\n\u001b[1;32m     21\u001b[0m     \u001b[0mt\u001b[0m\u001b[0;34m.\u001b[0m\u001b[0mplot\u001b[0m\u001b[0;34m(\u001b[0m\u001b[0mcolor\u001b[0m\u001b[0;34m=\u001b[0m\u001b[0;34m'r'\u001b[0m\u001b[0;34m,\u001b[0m \u001b[0mfigsize\u001b[0m\u001b[0;34m=\u001b[0m\u001b[0mfigsize\u001b[0m\u001b[0;34m,\u001b[0m \u001b[0max\u001b[0m\u001b[0;34m=\u001b[0m\u001b[0max\u001b[0m\u001b[0;34m)\u001b[0m\u001b[0;34m\u001b[0m\u001b[0;34m\u001b[0m\u001b[0m\n\u001b[0;32m---> 22\u001b[0;31m     \u001b[0mplt\u001b[0m\u001b[0;34m.\u001b[0m\u001b[0msavefig\u001b[0m\u001b[0;34m(\u001b[0m\u001b[0;34mf'{DATASET_FOLDER}/total_{x.name}.png'\u001b[0m\u001b[0;34m)\u001b[0m\u001b[0;34m\u001b[0m\u001b[0;34m\u001b[0m\u001b[0m\n\u001b[0m\u001b[1;32m     23\u001b[0m     \u001b[0mplt\u001b[0m\u001b[0;34m.\u001b[0m\u001b[0mclose\u001b[0m\u001b[0;34m(\u001b[0m\u001b[0;34m'all'\u001b[0m\u001b[0;34m)\u001b[0m\u001b[0;34m\u001b[0m\u001b[0;34m\u001b[0m\u001b[0m\n",
      "\u001b[0;32m/usr/lib/python3/dist-packages/matplotlib/pyplot.py\u001b[0m in \u001b[0;36msavefig\u001b[0;34m(*args, **kwargs)\u001b[0m\n\u001b[1;32m    720\u001b[0m \u001b[0;32mdef\u001b[0m \u001b[0msavefig\u001b[0m\u001b[0;34m(\u001b[0m\u001b[0;34m*\u001b[0m\u001b[0margs\u001b[0m\u001b[0;34m,\u001b[0m \u001b[0;34m**\u001b[0m\u001b[0mkwargs\u001b[0m\u001b[0;34m)\u001b[0m\u001b[0;34m:\u001b[0m\u001b[0;34m\u001b[0m\u001b[0;34m\u001b[0m\u001b[0m\n\u001b[1;32m    721\u001b[0m     \u001b[0mfig\u001b[0m \u001b[0;34m=\u001b[0m \u001b[0mgcf\u001b[0m\u001b[0;34m(\u001b[0m\u001b[0;34m)\u001b[0m\u001b[0;34m\u001b[0m\u001b[0;34m\u001b[0m\u001b[0m\n\u001b[0;32m--> 722\u001b[0;31m     \u001b[0mres\u001b[0m \u001b[0;34m=\u001b[0m \u001b[0mfig\u001b[0m\u001b[0;34m.\u001b[0m\u001b[0msavefig\u001b[0m\u001b[0;34m(\u001b[0m\u001b[0;34m*\u001b[0m\u001b[0margs\u001b[0m\u001b[0;34m,\u001b[0m \u001b[0;34m**\u001b[0m\u001b[0mkwargs\u001b[0m\u001b[0;34m)\u001b[0m\u001b[0;34m\u001b[0m\u001b[0;34m\u001b[0m\u001b[0m\n\u001b[0m\u001b[1;32m    723\u001b[0m     \u001b[0mfig\u001b[0m\u001b[0;34m.\u001b[0m\u001b[0mcanvas\u001b[0m\u001b[0;34m.\u001b[0m\u001b[0mdraw_idle\u001b[0m\u001b[0;34m(\u001b[0m\u001b[0;34m)\u001b[0m   \u001b[0;31m# need this if 'transparent=True' to reset colors\u001b[0m\u001b[0;34m\u001b[0m\u001b[0;34m\u001b[0m\u001b[0m\n\u001b[1;32m    724\u001b[0m     \u001b[0;32mreturn\u001b[0m \u001b[0mres\u001b[0m\u001b[0;34m\u001b[0m\u001b[0;34m\u001b[0m\u001b[0m\n",
      "\u001b[0;32m/usr/lib/python3/dist-packages/matplotlib/figure.py\u001b[0m in \u001b[0;36msavefig\u001b[0;34m(self, fname, transparent, **kwargs)\u001b[0m\n\u001b[1;32m   2178\u001b[0m             \u001b[0mself\u001b[0m\u001b[0;34m.\u001b[0m\u001b[0mpatch\u001b[0m\u001b[0;34m.\u001b[0m\u001b[0mset_visible\u001b[0m\u001b[0;34m(\u001b[0m\u001b[0mframeon\u001b[0m\u001b[0;34m)\u001b[0m\u001b[0;34m\u001b[0m\u001b[0;34m\u001b[0m\u001b[0m\n\u001b[1;32m   2179\u001b[0m \u001b[0;34m\u001b[0m\u001b[0m\n\u001b[0;32m-> 2180\u001b[0;31m         \u001b[0mself\u001b[0m\u001b[0;34m.\u001b[0m\u001b[0mcanvas\u001b[0m\u001b[0;34m.\u001b[0m\u001b[0mprint_figure\u001b[0m\u001b[0;34m(\u001b[0m\u001b[0mfname\u001b[0m\u001b[0;34m,\u001b[0m \u001b[0;34m**\u001b[0m\u001b[0mkwargs\u001b[0m\u001b[0;34m)\u001b[0m\u001b[0;34m\u001b[0m\u001b[0;34m\u001b[0m\u001b[0m\n\u001b[0m\u001b[1;32m   2181\u001b[0m \u001b[0;34m\u001b[0m\u001b[0m\n\u001b[1;32m   2182\u001b[0m         \u001b[0;32mif\u001b[0m \u001b[0mframeon\u001b[0m\u001b[0;34m:\u001b[0m\u001b[0;34m\u001b[0m\u001b[0;34m\u001b[0m\u001b[0m\n",
      "\u001b[0;32m/usr/lib/python3/dist-packages/matplotlib/backend_bases.py\u001b[0m in \u001b[0;36mprint_figure\u001b[0;34m(self, filename, dpi, facecolor, edgecolor, orientation, format, bbox_inches, **kwargs)\u001b[0m\n\u001b[1;32m   2080\u001b[0m \u001b[0;34m\u001b[0m\u001b[0m\n\u001b[1;32m   2081\u001b[0m             \u001b[0;32mtry\u001b[0m\u001b[0;34m:\u001b[0m\u001b[0;34m\u001b[0m\u001b[0;34m\u001b[0m\u001b[0m\n\u001b[0;32m-> 2082\u001b[0;31m                 result = print_method(\n\u001b[0m\u001b[1;32m   2083\u001b[0m                     \u001b[0mfilename\u001b[0m\u001b[0;34m,\u001b[0m\u001b[0;34m\u001b[0m\u001b[0;34m\u001b[0m\u001b[0m\n\u001b[1;32m   2084\u001b[0m                     \u001b[0mdpi\u001b[0m\u001b[0;34m=\u001b[0m\u001b[0mdpi\u001b[0m\u001b[0;34m,\u001b[0m\u001b[0;34m\u001b[0m\u001b[0;34m\u001b[0m\u001b[0m\n",
      "\u001b[0;32m/usr/lib/python3/dist-packages/matplotlib/backends/backend_agg.py\u001b[0m in \u001b[0;36mprint_png\u001b[0;34m(self, filename_or_obj, metadata, pil_kwargs, *args, **kwargs)\u001b[0m\n\u001b[1;32m    529\u001b[0m             \u001b[0;32mwith\u001b[0m \u001b[0mcbook\u001b[0m\u001b[0;34m.\u001b[0m\u001b[0m_setattr_cm\u001b[0m\u001b[0;34m(\u001b[0m\u001b[0mrenderer\u001b[0m\u001b[0;34m,\u001b[0m \u001b[0mdpi\u001b[0m\u001b[0;34m=\u001b[0m\u001b[0mself\u001b[0m\u001b[0;34m.\u001b[0m\u001b[0mfigure\u001b[0m\u001b[0;34m.\u001b[0m\u001b[0mdpi\u001b[0m\u001b[0;34m)\u001b[0m\u001b[0;34m,\u001b[0m\u001b[0;31m \u001b[0m\u001b[0;31m\\\u001b[0m\u001b[0;34m\u001b[0m\u001b[0;34m\u001b[0m\u001b[0m\n\u001b[1;32m    530\u001b[0m                     \u001b[0mcbook\u001b[0m\u001b[0;34m.\u001b[0m\u001b[0mopen_file_cm\u001b[0m\u001b[0;34m(\u001b[0m\u001b[0mfilename_or_obj\u001b[0m\u001b[0;34m,\u001b[0m \u001b[0;34m\"wb\"\u001b[0m\u001b[0;34m)\u001b[0m \u001b[0;32mas\u001b[0m \u001b[0mfh\u001b[0m\u001b[0;34m:\u001b[0m\u001b[0;34m\u001b[0m\u001b[0;34m\u001b[0m\u001b[0m\n\u001b[0;32m--> 531\u001b[0;31m                 _png.write_png(renderer._renderer, fh,\n\u001b[0m\u001b[1;32m    532\u001b[0m                                self.figure.dpi, metadata=metadata)\n\u001b[1;32m    533\u001b[0m \u001b[0;34m\u001b[0m\u001b[0m\n",
      "\u001b[0;31mSystemError\u001b[0m: <built-in method write of _io.BufferedWriter object at 0x7f574698af60> returned a result with an error set"
     ]
    },
    {
     "data": {
      "image/png": "[encoded data removed]",
      "text/plain": [
       "<Figure size 432x288 with 1 Axes>"
      ]
     },
     "metadata": {
      "needs_background": "light"
     },
     "output_type": "display_data"
    }
   ],
   "source": [
    "df_ini.apply(test, axis=1)"
   ]
  },
  {
   "cell_type": "code",
   "execution_count": null,
   "metadata": {},
   "outputs": [],
   "source": []
  }
 ],
 "metadata": {
  "colab": {
   "collapsed_sections": [],
   "name": "data_parsing.ipynb",
   "provenance": []
  },
  "kernelspec": {
   "display_name": "Python 3",
   "language": "python",
   "name": "python3"
  },
  "language_info": {
   "codemirror_mode": {
    "name": "ipython",
    "version": 3
   },
   "file_extension": ".py",
   "mimetype": "text/x-python",
   "name": "python",
   "nbconvert_exporter": "python",
   "pygments_lexer": "ipython3",
   "version": "3.8.2"
  }
 },
 "nbformat": 4,
 "nbformat_minor": 1
}
